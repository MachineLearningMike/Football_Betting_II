{
 "cells": [
  {
   "cell_type": "code",
   "execution_count": 1,
   "metadata": {},
   "outputs": [],
   "source": [
    "import numpy as np\n",
    "import tensorflow as tf\n",
    "# import tensorflow_datasets as tfds\n",
    "import matplotlib.pyplot as plt\n",
    "# import pandas as ps\n",
    "import time\n",
    "import re\n",
    "import os\n",
    "import shutil\n",
    "import glob\n",
    "import math\n",
    "\n",
    "# from config import config\n",
    "import data_helpers\n",
    "from data_generator import *"
   ]
  },
  {
   "cell_type": "code",
   "execution_count": 2,
   "metadata": {},
   "outputs": [],
   "source": [
    "TEST_ID = 'UK.B.05'\n",
    "TRAIN_PERCENT= 90\n",
    "BATCH_SIZE = 16\n",
    "LOSS_RAMBDA = 1.0\n",
    "LEARNING_RATE = 0.000001\n",
    "MAE_NOT_MCE_P_LOSS = True\n",
    "TRANSFORMER_DROP = 0.1\n",
    "REMOVE_HISTORY = False\n",
    "id_to_ids_filename = 'England-400-1e-07-7300-75-0.8-False'"
   ]
  },
  {
   "cell_type": "code",
   "execution_count": 3,
   "metadata": {},
   "outputs": [],
   "source": [
    "countryDirPath = \"./data/football-data-co-uk/England\"\n",
    "df = data_helpers.get_master_df_from_football_data_co_uk(countryDirPath)"
   ]
  },
  {
   "cell_type": "code",
   "execution_count": 4,
   "metadata": {},
   "outputs": [
    {
     "name": "stdout",
     "output_type": "stream",
     "text": [
      "113\n",
      "['tottenham', 'arsenal', 'liverpool', '[UNK]', 'tottenham', 'chelsea', '[UNK]', 'man_united', '[UNK]', '[UNK]', '[UNK]']\n",
      "[0, 0, 0, 0, 0, 0, 0, 0, 0, 0, 0]\n",
      "[101, 4, 58, 0, 101, 27, 0, 62, 0, 0, 0]\n"
     ]
    },
    {
     "data": {
      "text/plain": [
       "'tottenham arsenal liverpool tottenham chelsea man_united'"
      ]
     },
     "execution_count": 4,
     "metadata": {},
     "output_type": "execute_result"
    }
   ],
   "source": [
    "tokenizer_team = creat_team_tokenizer_uk(df)\n",
    "print(tokenizer_team.get_vocab_size())\n",
    "\n",
    "teams = ['Tottenham', 'Arsenal', 'Liverpool', 'what?', 'Tottenham', 'Chelsea', 'e_t', 'Man United', '1234', '[HOME]', '[AWAY]']\n",
    "teams = [team.strip() for team in [re.sub(r\"\\s\", \"_\", item) for item in teams]]\n",
    "teams = \" \".join(teams)\n",
    "encoding = tokenizer_team.encode(teams)\n",
    "# encoding = tokenizer.encode(\"\")\n",
    "print(encoding.tokens)\n",
    "print(encoding.type_ids)\n",
    "print(encoding.ids)\n",
    "\n",
    "tokenizer_team.decode(encoding.ids)"
   ]
  },
  {
   "cell_type": "code",
   "execution_count": 5,
   "metadata": {},
   "outputs": [],
   "source": [
    "filepath = os.path.join(os.getcwd(), 'data', 'id_to_ids', id_to_ids_filename + '.json')\n",
    "id_to_ids = data_helpers.LoadJsonData(filepath)"
   ]
  },
  {
   "cell_type": "code",
   "execution_count": 6,
   "metadata": {},
   "outputs": [
    {
     "data": {
      "image/png": "[encoded data removed]",
      "text/plain": [
       "<Figure size 640x480 with 1 Axes>"
      ]
     },
     "metadata": {},
     "output_type": "display_data"
    }
   ],
   "source": [
    "lengths = [len(ids) for (tag, label, ids) in id_to_ids.values()]\n",
    "maxLen = max(lengths)\n",
    "plt.hist(lengths, np.linspace(0, int(maxLen*1.1), int(maxLen*1.1) + 1))\n",
    "plt.ylim(plt.ylim())\n",
    "maxLen = max(lengths)\n",
    "# plt.plot([maxLen, maxLen], plt.ylim())\n",
    "plt.title(f'Max length of ids: {maxLen}')\n",
    "\n",
    "MAX_TOKENS = maxLen"
   ]
  },
  {
   "cell_type": "code",
   "execution_count": 7,
   "metadata": {},
   "outputs": [
    {
     "name": "stdout",
     "output_type": "stream",
     "text": [
      "[100000, 'E0', datetime.date(2004, 1, 11), 'Man_City', 'Norwich', 1.72, 3.4, 5.0, 1.7, 3.2, 5.0, 1.65, 3.3, 4.4, 1.66, 3.1, 5.0, 1.0, 0.0, 1, 1, 'H', 'D', 19.0, 10.0, 11.0, 5.0, 9.0, 4.0, 10.0, 13.0, 1.0, 0.0, 0.0, 0.0]\n"
     ]
    }
   ],
   "source": [
    "id_cols = ['id']\n",
    "Div_cols = ['Div']\n",
    "Date_cols = ['Date']\n",
    "Team_cols = ['HomeTeam', 'AwayTeam']\n",
    "Odds_cols = ['B365H', 'B365D', 'B365A', 'BWH', 'BWD', 'BWA', 'IWH', 'IWD', 'IWA', 'WHH', 'WHD', 'WHA']\n",
    "BB_cols = id_cols + Div_cols + Date_cols + Team_cols + Odds_cols\n",
    "\n",
    "Half_Goal_cols = ['HTHG', 'HTAG']\n",
    "Full_Goal_cols = ['FTHG', 'FTAG']\n",
    "Goal_cols = Half_Goal_cols + Full_Goal_cols\n",
    "Result_cols = ['HTR', 'FTR']    # A function of Goal_cols, but contribute to better representation.\n",
    "Shoot_cols = ['HS', 'AS']\n",
    "ShootT_cols = ['HST', 'AST']\n",
    "Corner_cols = ['HC', 'AC']\n",
    "Faul_cols = ['HF', 'AF']\n",
    "Yellow_cols = ['HY', 'AY']    # H/A Yellow Cards, H/A Red Cards\n",
    "Red_cols = ['HR', 'AR']    # H/A Yellow Cards, H/A Red Cards\n",
    "AB_cols = Goal_cols + Result_cols + Shoot_cols + ShootT_cols + Corner_cols + Faul_cols + Yellow_cols + Red_cols\n",
    "\n",
    "# underscore_prefixed lists have discontinued columns.\n",
    "BBAB_cols = BB_cols + AB_cols\n",
    "_Cols_List_to_Embedd = [Div_cols, Team_cols, Goal_cols, Result_cols]\n",
    "_Cols_List_to_Standardize = [Odds_cols, Shoot_cols, ShootT_cols, Corner_cols, Faul_cols, Yellow_cols, Red_cols]\n",
    "_Cols_List_for_Label = [Full_Goal_cols, Odds_cols]\n",
    "_Label_cols = Full_Goal_cols + Odds_cols\n",
    "\n",
    "BBAB_cols = BB_cols + AB_cols\n",
    "base_bbab = list(df.loc[df['id'] == 100000, BBAB_cols].iloc[0, :])\n",
    "print(base_bbab)"
   ]
  },
  {
   "cell_type": "code",
   "execution_count": 8,
   "metadata": {},
   "outputs": [
    {
     "name": "stdout",
     "output_type": "stream",
     "text": [
      "0.08013937282229965 0.2855927650445304\n",
      "[[-0.28060715 -0.28060715]\n",
      " [-0.28060715 -0.28060715]\n",
      " [-0.28060715 -0.28060715]\n",
      " ...\n",
      " [-0.28060715 -0.28060715]\n",
      " [-0.28060715 -0.28060715]\n",
      " [-0.28060715 -0.28060715]]\n",
      "-8.619307931533026e-18 1.0\n"
     ]
    }
   ],
   "source": [
    "array = df[Red_cols]\n",
    "array = np.array(array)\n",
    "print(array.mean(), array.std())\n",
    "array = (array - array.mean()) / array.std()\n",
    "print(array)\n",
    "print(array.mean(), array.std())"
   ]
  },
  {
   "cell_type": "code",
   "execution_count": 9,
   "metadata": {},
   "outputs": [
    {
     "name": "stdout",
     "output_type": "stream",
     "text": [
      "{'B365H': (3.1630270400481795, 1.4687447460469159, 46.0), 'HS': (11.39694154084398, 4.709404811489129, 43.0), 'HST': (4.815343915343916, 2.759941394538306, 24.0), 'HC': (5.34632855852368, 2.842282967456132, 24.0), 'HF': (11.421925409730287, 3.7612036770331043, 77.0), 'HY': (1.5455413601755066, 1.2348960213340971, 11.0), 'HR': (0.08013937282229965, 0.2855927650445304, 3.0)}\n"
     ]
    }
   ],
   "source": [
    "std_path = os.path.join('./data', 'datasets', id_to_ids_filename + \".json\")\n",
    "std_params = get_standardization_params(df)\n",
    "print(std_params)\n",
    "data_helpers.SaveJsonData(std_params, std_path)\n",
    "std_params = data_helpers.LoadJsonData(std_path)"
   ]
  },
  {
   "cell_type": "code",
   "execution_count": 10,
   "metadata": {},
   "outputs": [
    {
     "data": {
      "text/plain": [
       "38745"
      ]
     },
     "execution_count": 10,
     "metadata": {},
     "output_type": "execute_result"
    }
   ],
   "source": [
    "ds_path = os.path.join('./data', 'datasets', id_to_ids_filename)\n",
    "\n",
    "# ds = generate_dataset_uk(df, id_to_ids, tokenizer_team, std_params)\n",
    "# tf.data.Dataset.save(ds, ds_path)\n",
    "\n",
    "ds = tf.data.Dataset.load(ds_path)\n",
    "len(ds)"
   ]
  },
  {
   "cell_type": "code",
   "execution_count": 12,
   "metadata": {},
   "outputs": [
    {
     "name": "stdout",
     "output_type": "stream",
     "text": [
      "38745 0 38745 0\n"
     ]
    }
   ],
   "source": [
    "\n",
    "dataset_size = len(ds)\n",
    "train_size = int(TRAIN_PERCENT/100 * dataset_size)\n",
    "test_size = dataset_size - train_size\n",
    "\n",
    "train_ds = ds.take(train_size)\n",
    "test_ds = ds.skip(train_size)\n",
    "\n",
    "print(len(train_ds), len(test_ds), len(ds), len(ds)-len(train_ds)-len(test_ds))"
   ]
  },
  {
   "cell_type": "code",
   "execution_count": 13,
   "metadata": {},
   "outputs": [],
   "source": [
    "BUFFER_SIZE = 20000"
   ]
  },
  {
   "cell_type": "code",
   "execution_count": 14,
   "metadata": {},
   "outputs": [],
   "source": [
    "dummy_bbas_tensor = get_dummy_bbas_tensor_uk(df, tokenizer_team, std_params)"
   ]
  },
  {
   "cell_type": "code",
   "execution_count": 15,
   "metadata": {},
   "outputs": [],
   "source": [
    "def normalize_row(baseId, sequence, base_bb, base_label):\n",
    "    try:\n",
    "        seq_len_org = sequence.shape[0]\n",
    "        nMissings = MAX_TOKENS - seq_len_org    # MAX_TOKENS - tf.shape(sequence)[0].numpy()\n",
    "        if nMissings > 0:\n",
    "            block = tf.stack([dummy_bbas_tensor] * nMissings, axis=0)\n",
    "            sequence = tf.concat([sequence, block], axis=0) \n",
    "        # print(\"sequence 1\", sequence.shape)\n",
    "        # sequence[:, 2] = base[2] - sequence[:, 2]   # get delta days.\n",
    "        base_bb = base_bb[tf.newaxis, :]    # shape: (seq_len = 1, nFeatures)\n",
    "        mask = tf.Variable([1] * seq_len_org + [0] * nMissings, dtype=tf.int32) ## DO NOT USE tf.constant !!! unstable.\n",
    "        mask = mask[:, tf.newaxis] & mask[tf.newaxis, :]\n",
    "        # print('normalize', sequence.shape, base.shape, mask.shape, mask)\n",
    "        # seq_len_org = tf.Variable(seq_len_org, dtype=tf.int32)    #--------------------------------- comeback\n",
    "        return (baseId, sequence, base_bb, base_label, mask, seq_len_org)\n",
    "    except:\n",
    "        print('normalize_row exception')\n",
    "        print('norm 1', sequence.shape, base_bb.shape, base_label.shape, mask.shape, nMissings)\n",
    "        print('norm 2', baseId, sequence, base_label, mask, nMissings)\n",
    "        # return (baseId, sequence, base_bb, base_label, mask, seq_len_org)"
   ]
  },
  {
   "cell_type": "code",
   "execution_count": 16,
   "metadata": {},
   "outputs": [
    {
     "name": "stdout",
     "output_type": "stream",
     "text": [
      "tf.Tensor(128479, shape=(), dtype=int32)\n",
      "tf.Tensor(\n",
      "[ 1.2847000e+05  4.0000000e+00  1.7490000e+03  2.3000000e+01\n",
      "  7.0000000e+01 -5.1950961e-01  5.9215844e-02 -3.6972186e-01\n",
      " -5.8759499e-01  2.5173169e-02 -3.4929624e-01 -4.8546696e-01\n",
      " -1.1099753e-01 -4.8546696e-01 -4.5142427e-01 -4.2912181e-02\n",
      " -4.5142427e-01  0.0000000e+00  1.0000000e+00  0.0000000e+00\n",
      "  1.0000000e+00  3.0000000e+00  3.0000000e+00 -7.2131014e-01\n",
      " -7.2131014e-01 -2.9542074e-01 -6.5774727e-01 -8.2550842e-01\n",
      " -4.7367859e-01  4.1956636e-01  4.1956636e-01 -4.4177109e-01\n",
      "  1.1777985e+00 -2.8060716e-01 -2.8060716e-01], shape=(35,), dtype=float32)\n"
     ]
    }
   ],
   "source": [
    "cnt = 600\n",
    "for (baseId, sequence, base_bb, base_label) in train_ds:\n",
    "    z = normalize_row(baseId, sequence, base_bb, base_label)\n",
    "    cnt -= 1\n",
    "    if cnt == 0:\n",
    "        print(baseId)\n",
    "        print(sequence[0])\n",
    "        break\n",
    "# [div 4, teams 8, odds 12, goals 16, results 8, Shoot 2, ShootT 2;    Corner 2, Faul 2, Yellow 2, Red 2]\n",
    "# 0 Yellows -> -1.25, 0 Reds -> -.2806"
   ]
  },
  {
   "cell_type": "code",
   "execution_count": 17,
   "metadata": {},
   "outputs": [],
   "source": [
    "class hyperparams:    \n",
    "    nDivisions = 4 + 1  # E0, E1, E2, E3, and Unknown\n",
    "    division_embs = 4\n",
    "    nTeams = tokenizer_team.get_vocab_size()    # including Unknown\n",
    "    team_embs = 50\n",
    "    nGoals  = 10  # 0..9. 0 for 0 goals not for Unknown.\n",
    "    goal_embs = 4\n",
    "    nResults = 4    # HWin, Draw, AWin, and Unknown\n",
    "    result_embs = 4\n",
    "    # Mate d_model an even number!!!\n",
    "    d_model = get_std_size()    + division_embs * len(Div_cols) + team_embs * len(Team_cols) \\\n",
    "                                + goal_embs * len(Goal_cols) + result_embs * len(Result_cols)\n",
    "    batch_size = BATCH_SIZE\n",
    "    max_tokens = MAX_TOKENS\n",
    "    days_spanning_years = 30\n",
    "    num_heads = 10\n",
    "    num_layers = 6\n",
    "    memory_365_size = 10\n",
    "    # d_model = team_emb_size * 2 + country_emb_size * 3 + odds_size + outcome_size\n"
   ]
  },
  {
   "cell_type": "code",
   "execution_count": 18,
   "metadata": {},
   "outputs": [],
   "source": [
    "def prepare_batch(baseId, sequence, base_bb, base_label, mask, seq_len_org):\n",
    "    # target = tf.one_hot(tf.squeeze(tf.cast(base_bbab[:, :, -1], dtype=tf.int32), axis=-1), hyperparams.target_onehot_size)\n",
    "    \n",
    "    return (baseId, sequence, base_bb, mask), (base_label, seq_len_org)     # (X, Y)"
   ]
  },
  {
   "cell_type": "code",
   "execution_count": 19,
   "metadata": {},
   "outputs": [],
   "source": [
    "def make_batches(ds):\n",
    "    return (\n",
    "        ds\n",
    "        .shuffle(BUFFER_SIZE)\n",
    "        .map(lambda baseId, sequence, base_bb, base_label: tf.py_function(\n",
    "            func=normalize_row,\n",
    "            inp=[baseId, sequence, base_bb, base_label],\n",
    "            Tout=[tf.int32, tf.float32, tf.float32, tf.float32, tf.int32, tf.int32])) #, tf.data.AUTOTUNE == Instability!!!\n",
    "        .batch(BATCH_SIZE)\n",
    "        .map(prepare_batch, tf.data.AUTOTUNE)\n",
    "        .cache()\n",
    "        .prefetch(buffer_size=tf.data.AUTOTUNE)\n",
    "        )\n",
    "# Normalize_row\n",
    "# In: baseId, sequence, base_bb, base_label\n",
    "# Out: baseId, sequence, base_bb, base_label, mask, seq_len_org"
   ]
  },
  {
   "cell_type": "code",
   "execution_count": 20,
   "metadata": {},
   "outputs": [],
   "source": [
    "train_ds_path = os.path.join('./data', 'datasets', id_to_ids_filename + '_train_' + str(TRAIN_PERCENT) + '_' + str(BATCH_SIZE))\n",
    "if os.path.exists(train_ds_path):\n",
    "    train_batches = tf.data.Dataset.load(train_ds_path)\n",
    "else:\n",
    "    train_batches = make_batches(train_ds)\n",
    "    tf.data.Dataset.save(train_batches, train_ds_path)"
   ]
  },
  {
   "cell_type": "code",
   "execution_count": 21,
   "metadata": {},
   "outputs": [],
   "source": [
    "test_ds_path = os.path.join('./data', 'datasets', id_to_ids_filename + '_test_' + str(TRAIN_PERCENT) + '_' + str(BATCH_SIZE))\n",
    "if os.path.exists(test_ds_path):\n",
    "    test_batches = tf.data.Dataset.load(test_ds_path)\n",
    "else:\n",
    "    test_batches = make_batches(test_ds)\n",
    "    tf.data.Dataset.save(test_batches, test_ds_path)"
   ]
  },
  {
   "cell_type": "code",
   "execution_count": 22,
   "metadata": {},
   "outputs": [],
   "source": [
    "def positional_encoding(memory, depth):\n",
    "    positions = tf.range(memory.shape[-1], dtype=tf.float32)\n",
    "    fractional_pos = memory * positions    # fractional position: (batch, fractional position #)\n",
    "    depth = depth/2\n",
    "    depths = tf.range(depth, dtype=tf.float32) / depth\n",
    "    depths = tf.pow(10000.0, depths)    # (depth,)\n",
    "    angle_rads = fractional_pos[:, :, tf.newaxis] / depths  # (batch, fractional position #, depth)\n",
    "    # pos_encoding = rearrange([tf.math.sin(angle_rads), tf.math.cos(angle_rads)], 'w b p d -> w h (w t)')\n",
    "    pos_encoding = tf.concat([tf.math.sin(angle_rads), tf.math.cos(angle_rads)], axis=-1)\n",
    "    return pos_encoding"
   ]
  },
  {
   "cell_type": "code",
   "execution_count": 23,
   "metadata": {},
   "outputs": [
    {
     "data": {
      "image/png": "[encoded data removed]",
      "text/plain": [
       "<Figure size 640x480 with 2 Axes>"
      ]
     },
     "metadata": {},
     "output_type": "display_data"
    }
   ],
   "source": [
    "memory = tf.ones((100, 200), dtype=tf.float32) * 0.5\n",
    "pos_encoding = positional_encoding(memory, depth=512)\n",
    "# print('pos_encoding', pos_encoding.shape)\n",
    "pos_encoding = pos_encoding[0, :, :]\n",
    "# print(pos_encoding.shape)\n",
    "# Plot the dimensions.\n",
    "plt.pcolormesh(pos_encoding.numpy().T, cmap='RdBu')\n",
    "plt.ylabel('Depth')\n",
    "plt.xlabel('Position')\n",
    "plt.colorbar()\n",
    "plt.show()"
   ]
  },
  {
   "cell_type": "code",
   "execution_count": 24,
   "metadata": {},
   "outputs": [],
   "source": [
    "id_cols = ['id']\n",
    "Div_cols = ['Div']\n",
    "Date_cols = ['Date']\n",
    "Team_cols = ['HomeTeam', 'AwayTeam']\n",
    "Odds_cols = ['B365H', 'B365D', 'B365A', 'BWH', 'BWD', 'BWA', 'IWH', 'IWD', 'IWA', 'WHH', 'WHD', 'WHA']\n",
    "BB_cols = id_cols + Div_cols + Date_cols + Team_cols + Odds_cols\n",
    "\n",
    "Half_Goal_cols = ['HTHG', 'HTAG']\n",
    "Full_Goal_cols = ['FTHG', 'FTAG']\n",
    "Goal_cols = Half_Goal_cols + Full_Goal_cols\n",
    "Result_cols = ['HTR', 'FTR']    # A function of Goal_cols, but contribute to better representation.\n",
    "Shoot_cols = ['HS', 'AS']\n",
    "ShootT_cols = ['HST', 'AST']\n",
    "Corner_cols = ['HC', 'AC']\n",
    "Faul_cols = ['HF', 'AF']\n",
    "Yellow_cols = ['HY', 'AY']    # H/A Yellow Cards, H/A Red Cards\n",
    "Red_cols = ['HR', 'AR']    # H/A Yellow Cards, H/A Red Cards\n",
    "AB_cols = Goal_cols + Result_cols + Shoot_cols + ShootT_cols + Corner_cols + Faul_cols + Yellow_cols + Red_cols"
   ]
  },
  {
   "cell_type": "code",
   "execution_count": 25,
   "metadata": {},
   "outputs": [],
   "source": [
    "class PositionalEmbedding(tf.keras.layers.Layer):\n",
    "  def __init__(self, hyperparams, isEncoder=True):\n",
    "    super().__init__()\n",
    "    self.isEncoder = isEncoder\n",
    "    self.division_embedding = tf.keras.layers.Embedding(hyperparams.nDivisions, hyperparams.division_embs, dtype=tf.float32, mask_zero=False) # Learn Unknown\n",
    "    self.team_embedding = tf.keras.layers.Embedding(hyperparams.nTeams, hyperparams.team_embs, dtype=tf.float32, mask_zero=False) # Learn Unknown\n",
    "    self.goal_embedding = tf.keras.layers.Embedding(hyperparams.nGoals, hyperparams.goal_embs, dtype=tf.float32, mask_zero=False) # Learn 0-goal\n",
    "    self.result_embedding = tf.keras.layers.Embedding(hyperparams.nResults, hyperparams.result_embs, dtype=tf.float32, mask_zero=False) # Learn Unknown\n",
    "\n",
    "    self.d_model = hyperparams.d_model\n",
    "    # print(self.d_model)\n",
    "    self.position_permuting_dense = tf.keras.layers.Dense(self.d_model)\n",
    "    vocab_size = 1 + 1 # 1 for padding, 1 for our parameters.\n",
    "    self.memory_365_embedding = tf.keras.layers.Embedding(vocab_size, hyperparams.memory_365_size, mask_zero=False, embeddings_initializer = tf.keras.initializers.Ones())\n",
    "\n",
    "    self.idx_Days = BB_cols.index('Date')\n",
    "    assert self.idx_Days == BBAB_cols.index('Date')\n",
    "\n",
    "  def call(self, x):\n",
    "    # print('x', x[0].shape, x[1].shape)\n",
    "    (sequence, base_bb, mask) = x # sob = sequence or base_bb\n",
    "    sDays = sequence[:, :, self.idx_Days]\n",
    "    bDays = base_bb[:, :, self.idx_Days]\n",
    "    # print('days shapes', days.shape)\n",
    "    \n",
    "    # BB_cols = id_cols + Div_cols + Date_cols + Team_cols + Odds_cols\n",
    "    # AB_cols = Goal_cols + Result_cols + Shoot_cols + ShootT_cols + Corner_cols + Faul_cols + Yellow_cols + Red_cols\n",
    "\n",
    "    sob = None\n",
    "    if self.isEncoder:\n",
    "      sob = sequence\n",
    "    else:\n",
    "      sob = base_bb\n",
    "\n",
    "    if self.isEncoder:\n",
    "      id, div, days, teams, odds, goals, results, remainder \\\n",
    "      = tf.split(sob, [len(id_cols), len(Div_cols), len(Date_cols), len(Team_cols), len(Odds_cols), len(Goal_cols), len(Result_cols),  -1], axis=-1)\n",
    "      # print('1', remainder[0, 0])\n",
    "    else:\n",
    "      id, div, days, teams, remainder \\\n",
    "      = tf.split(sob, [len(id_cols), len(Div_cols), len(Date_cols), len(Team_cols), -1], axis=-1)  \n",
    "      # print('2', remainder[0, 0])  \n",
    "\n",
    "    div = self.division_embedding(tf.cast(div, dtype=tf.int32))\n",
    "    div = tf.reshape(div, [div.shape[0], div.shape[1], -1])\n",
    "    teams = self.team_embedding(tf.cast(teams, dtype=tf.int32))\n",
    "    teams = tf.reshape(teams, [teams.shape[0], teams.shape[1], -1])\n",
    "    if self.isEncoder:\n",
    "      goals = self.goal_embedding(tf.cast(goals, dtype=tf.int32))\n",
    "      goals = tf.clip_by_value(goals, 0, hyperparams.nGoals)\n",
    "      goals = tf.reshape(goals, [goals.shape[0], goals.shape[1], -1])\n",
    "      results = self.result_embedding(tf.cast(results, dtype=tf.int32))\n",
    "      results = tf.reshape(results, [results.shape[0], results.shape[1], -1])\n",
    "    \n",
    "    if self.isEncoder:\n",
    "      concat = [div, teams, odds, goals, results, remainder]\n",
    "      # print('10', div.shape, teams.shape, odds.shape, goals.shape, results.shape, remainder.shape)\n",
    "      # print('11', remainder[0,0])\n",
    "    else:\n",
    "      concat = [div, teams, remainder]\n",
    "      # print('22', remainder[0,0])\n",
    "\n",
    "    sob = tf.concat(concat, axis=-1)\n",
    "    sob = self.position_permuting_dense(sob)  #====================================================\n",
    "    # print('33', sob[0][0])\n",
    "\n",
    "    days_ago = tf.cast(bDays - sDays, dtype=tf.float32) if self.isEncoder else tf.cast(bDays - bDays, dtype=tf.float32)\n",
    "    \n",
    "    initial_memory_365 = 0.8\n",
    "    memory_365 = self.memory_365_embedding(tf.ones_like((hyperparams.memory_365_size,), dtype=tf.float32)) * initial_memory_365  # expected shape: (1, hyperparams.remain_365_size,)\n",
    "    memory_365 = tf.squeeze(memory_365, axis=0)\n",
    "    memory_365 = tf.clip_by_value(memory_365, 0.01, 1.0)  # Is clip differentiable?\n",
    "    memory_alpha = tf.math.pow(memory_365, -1.0/365) # (hyperparams.memory_365,)\n",
    "\n",
    "    memory = tf.math.pow(memory_alpha, -days_ago[:, :, tf.newaxis])  # decrease as days_ago increase.  memory <= 1.0\n",
    "    # print('memory org', memory.shape) # (batch, max_seq_len, hyperparams.memory_365)\n",
    "    # print('memory[0,0,:]', memory[0, 0, :])\n",
    "    memory = tf.reduce_mean(memory, axis=-1)\n",
    "    # print('memory', memory.shape) # (batch, max_seq_len)\n",
    "\n",
    "    pe = positional_encoding(memory, depth=sob.shape[-1])\n",
    "    # print('x, pe, d_model', x.shape, pe.shape, self.d_model)\n",
    "\n",
    "    # This factor sets the relative scale of the embedding and positonal_encoding.\n",
    "    pe = pe / tf.math.sqrt(tf.cast(sob.shape[-1], tf.float32)) #=================================\n",
    "\n",
    "    sob = sob + pe  # comeback\n",
    "\n",
    "    if self.isEncoder:\n",
    "      mask = mask\n",
    "    else:\n",
    "      mask = mask[:, 0:sob.shape[1], :]\n",
    "\n",
    "    return (sob, mask)"
   ]
  },
  {
   "cell_type": "code",
   "execution_count": 26,
   "metadata": {},
   "outputs": [
    {
     "name": "stdout",
     "output_type": "stream",
     "text": [
      "(16, 400, 152) (16, 400, 400)\n"
     ]
    }
   ],
   "source": [
    "pos = PositionalEmbedding(hyperparams, isEncoder=True)\n",
    "\n",
    "cnt = 2\n",
    "for z in train_batches:\n",
    "    (baseId, sequence, base_bb, mask), (base_label, seq_len_org) = z\n",
    "    cnt -= 1\n",
    "    if cnt == 0: break\n",
    "# print('baseId', baseId)\n",
    "x = (sequence, base_bb, mask)\n",
    "eSob, eMask = pos.call(x)\n",
    "print(eSob.shape, eMask.shape)"
   ]
  },
  {
   "cell_type": "code",
   "execution_count": 27,
   "metadata": {},
   "outputs": [
    {
     "name": "stdout",
     "output_type": "stream",
     "text": [
      "[(5, 4), (113, 50), (10, 4), (4, 4), (152, 152), (152,), (2, 10)]\n"
     ]
    }
   ],
   "source": [
    "ws = pos.get_weights()\n",
    "shapes = [w.shape for w in ws]\n",
    "print(shapes)\n",
    "del pos\n",
    "# div (nDiv, embs), (nTeam, embs), (nGoals, embs), (nResults, embs), \n",
    "# (position_permuting_dense: d_base, d_model), (???: d_model,), (memory_365_embedding: 2, memory_365_size)"
   ]
  },
  {
   "cell_type": "code",
   "execution_count": 28,
   "metadata": {},
   "outputs": [
    {
     "name": "stdout",
     "output_type": "stream",
     "text": [
      "(16, 1, 152) (16, 1, 400)\n"
     ]
    }
   ],
   "source": [
    "pos = PositionalEmbedding(hyperparams, isEncoder=False)\n",
    "\n",
    "cnt = 1\n",
    "for z in train_batches:\n",
    "    (baseId, sequence, base_bb, mask), (base_label, seq_len_org) = z\n",
    "    cnt -= 1\n",
    "    if cnt == 0: break\n",
    "x = (sequence, base_bb, mask)\n",
    "dSob, dMask = pos.call(x)\n",
    "print(dSob.shape, dMask.shape)"
   ]
  },
  {
   "cell_type": "code",
   "execution_count": 29,
   "metadata": {},
   "outputs": [],
   "source": [
    "class BaseAttention(tf.keras.layers.Layer):\n",
    "  def __init__(self, **kwargs):\n",
    "    super().__init__()\n",
    "    self.mha = tf.keras.layers.MultiHeadAttention(**kwargs)\n",
    "    self.layernorm = tf.keras.layers.LayerNormalization()   # So the default -1 axix is normalized across. No inter-token operatoin.\n",
    "    self.add = tf.keras.layers.Add()"
   ]
  },
  {
   "cell_type": "code",
   "execution_count": 30,
   "metadata": {},
   "outputs": [],
   "source": [
    "class CrossAttention(BaseAttention):\n",
    "  def call(self, x, context, mask):\n",
    "    attn_output, attn_scores = self.mha(\n",
    "        query=x,\n",
    "        key=context,\n",
    "        value=context,\n",
    "        attention_mask=mask,\n",
    "        return_attention_scores=True)\n",
    "   \n",
    "    # Cache the attention scores for plotting later.\n",
    "    self.last_attn_scores = attn_scores\n",
    "\n",
    "    x = self.add([x, attn_output])\n",
    "    x = self.layernorm(x)\n",
    "\n",
    "    return x"
   ]
  },
  {
   "cell_type": "code",
   "execution_count": 31,
   "metadata": {},
   "outputs": [
    {
     "name": "stdout",
     "output_type": "stream",
     "text": [
      "(16, 400, 152) (16, 400, 400)\n"
     ]
    }
   ],
   "source": [
    "PE = PositionalEmbedding(hyperparams, isEncoder=True)\n",
    "eSob, eMask = PE(x)\n",
    "print(eSob.shape, eMask.shape )"
   ]
  },
  {
   "cell_type": "code",
   "execution_count": 32,
   "metadata": {},
   "outputs": [
    {
     "name": "stdout",
     "output_type": "stream",
     "text": [
      "(16, 1, 152) (16, 1, 400)\n"
     ]
    }
   ],
   "source": [
    "PE = PositionalEmbedding(hyperparams, isEncoder=False)\n",
    "dSob, dMask = PE(x)\n",
    "print(dSob.shape, dMask.shape )"
   ]
  },
  {
   "cell_type": "code",
   "execution_count": 33,
   "metadata": {},
   "outputs": [
    {
     "name": "stdout",
     "output_type": "stream",
     "text": [
      "(16, 1, 152)\n"
     ]
    }
   ],
   "source": [
    "sample_ca = CrossAttention(num_heads=2, key_dim=hyperparams.d_model)\n",
    "print(sample_ca(dSob, eSob, dMask).shape)"
   ]
  },
  {
   "cell_type": "code",
   "execution_count": 34,
   "metadata": {},
   "outputs": [],
   "source": [
    "class GlobalSelfAttention(BaseAttention): \n",
    "  def call(self, x, mask):\n",
    "    attn_output = self.mha(\n",
    "        query=x,\n",
    "        value=x,\n",
    "        key=x,\n",
    "        attention_mask=mask)    # intentional inter-token operation\n",
    "    x = self.add([x, attn_output])  # token-wise\n",
    "    x = self.layernorm(x)         # normalize across the default -1 axis. No inter-token operatoin.\n",
    "    return x"
   ]
  },
  {
   "cell_type": "code",
   "execution_count": 35,
   "metadata": {},
   "outputs": [
    {
     "name": "stdout",
     "output_type": "stream",
     "text": [
      "(16, 400, 152)\n"
     ]
    }
   ],
   "source": [
    "sample_gsa = GlobalSelfAttention(num_heads=2, key_dim=hyperparams.d_model)\n",
    "print(sample_gsa(eSob, eMask).shape)\n",
    "del sample_gsa"
   ]
  },
  {
   "cell_type": "code",
   "execution_count": 36,
   "metadata": {},
   "outputs": [],
   "source": [
    "class CausalSelfAttention(BaseAttention): # mask-agnostic\n",
    "  def call(self, x):\n",
    "    attn_output = self.mha(\n",
    "        query=x,\n",
    "        value=x,\n",
    "        key=x,\n",
    "        use_causal_mask = True)     # look-over mask is generagted and used, in decoder layers\n",
    "    x = self.add([x, attn_output])  # mask-agnostic\n",
    "    x = self.layernorm(x)  # normalize across the default -1 axis. No inter-token operatoin.\n",
    "    return x"
   ]
  },
  {
   "cell_type": "code",
   "execution_count": 37,
   "metadata": {},
   "outputs": [
    {
     "name": "stdout",
     "output_type": "stream",
     "text": [
      "(16, 1, 152)\n"
     ]
    }
   ],
   "source": [
    "sample_csa = CausalSelfAttention(num_heads=2, key_dim=hyperparams.d_model)\n",
    "print(sample_csa(dSob).shape)\n",
    "del sample_csa"
   ]
  },
  {
   "cell_type": "code",
   "execution_count": 38,
   "metadata": {},
   "outputs": [],
   "source": [
    "class FeedForward(tf.keras.layers.Layer):\n",
    "  def __init__(self, d_model, dff, dropout_rate=0.1):\n",
    "    super().__init__()\n",
    "    self.seq = tf.keras.Sequential([\n",
    "      tf.keras.layers.Dense(dff, activation='relu'),    # across -1 axis\n",
    "      tf.keras.layers.Dense(d_model),    # across -1 axis\n",
    "      tf.keras.layers.Dropout(dropout_rate)    # mask-agnostic\n",
    "    ])\n",
    "    self.add = tf.keras.layers.Add()\n",
    "    self.layer_norm = tf.keras.layers.LayerNormalization()\n",
    "\n",
    "  def call(self, x):\n",
    "    x = self.add([x, self.seq(x)])  # mask-agnostic\n",
    "    x = self.layer_norm(x)  # normalize across the default -1 axis. No inter-token operatoin.\n",
    "    return x"
   ]
  },
  {
   "cell_type": "code",
   "execution_count": 39,
   "metadata": {},
   "outputs": [
    {
     "name": "stdout",
     "output_type": "stream",
     "text": [
      "(16, 400, 152)\n"
     ]
    }
   ],
   "source": [
    "sample_ffn = FeedForward(hyperparams.d_model, hyperparams.d_model * 4)\n",
    "print(sample_ffn(eSob).shape)\n",
    "del sample_ffn"
   ]
  },
  {
   "cell_type": "code",
   "execution_count": 40,
   "metadata": {},
   "outputs": [],
   "source": [
    "class EncoderLayer(tf.keras.layers.Layer):\n",
    "  def __init__(self,*, d_model, num_heads, dff, dropout_rate=0.1):\n",
    "    super().__init__()\n",
    "\n",
    "    self.self_attention = GlobalSelfAttention(\n",
    "        num_heads=num_heads,\n",
    "        key_dim=d_model,\n",
    "        dropout=dropout_rate)\n",
    "\n",
    "    self.ffn = FeedForward(d_model, dff)\n",
    "\n",
    "  def call(self, x, mask):\n",
    "    x = self.self_attention(x, mask)\n",
    "    x = self.ffn(x)\n",
    "    return x"
   ]
  },
  {
   "cell_type": "code",
   "execution_count": 41,
   "metadata": {},
   "outputs": [
    {
     "name": "stdout",
     "output_type": "stream",
     "text": [
      "(16, 400, 152)\n"
     ]
    }
   ],
   "source": [
    "sample_encoder_layer = EncoderLayer(d_model=hyperparams.d_model, num_heads=hyperparams.num_heads, dff=hyperparams.d_model * 4)\n",
    "print(sample_encoder_layer(eSob, eMask).shape)\n",
    "del sample_encoder_layer"
   ]
  },
  {
   "cell_type": "code",
   "execution_count": 42,
   "metadata": {},
   "outputs": [],
   "source": [
    "class Encoder(tf.keras.layers.Layer):\n",
    "  def __init__(self, hyperparams, dropout_rate=0.1):\n",
    "    super().__init__()\n",
    "\n",
    "    self.d_model = hyperparams.d_model\n",
    "    self.num_layers = hyperparams.num_layers\n",
    "\n",
    "    self.pos_embedding = PositionalEmbedding(hyperparams)\n",
    "\n",
    "    self.dropout = tf.keras.layers.Dropout(dropout_rate)\n",
    "    self.enc_layers = [\n",
    "        EncoderLayer(d_model=hyperparams.d_model,\n",
    "                     num_heads=hyperparams.num_heads,\n",
    "                     dff=hyperparams.d_model * 4,\n",
    "                     dropout_rate=dropout_rate)\n",
    "        for _ in range(hyperparams.num_layers)]\n",
    "\n",
    "  def call(self, x):\n",
    "    x, mask = self.pos_embedding(x)  # output Shape `(batch_size, seq_len, d_model)`.\n",
    "\n",
    "    x = self.dropout(x)\n",
    "    for encoder_layer in self.enc_layers:\n",
    "      x = encoder_layer(x, mask)\n",
    "\n",
    "    return x  # Shape `(batch_size, seq_len, d_model)`."
   ]
  },
  {
   "cell_type": "code",
   "execution_count": 43,
   "metadata": {},
   "outputs": [
    {
     "name": "stdout",
     "output_type": "stream",
     "text": [
      "(16, 400, 152)\n"
     ]
    }
   ],
   "source": [
    "sample_encoder = Encoder(hyperparams)\n",
    "for z in train_batches:\n",
    "    (baseId, sequence, base_bb, mask), (base_label, seq_len_org) = z\n",
    "    x = (sequence, base_bb, mask)\n",
    "    sample_encoder_output = sample_encoder(x)\n",
    "    print(sample_encoder_output.shape)\n",
    "    break\n",
    "del sample_encoder"
   ]
  },
  {
   "cell_type": "code",
   "execution_count": 44,
   "metadata": {},
   "outputs": [],
   "source": [
    "class DecoderLayer(tf.keras.layers.Layer):\n",
    "  def __init__(self,\n",
    "               *,\n",
    "               d_model,\n",
    "               num_heads,\n",
    "               dff,\n",
    "               dropout_rate=0.1):\n",
    "    super(DecoderLayer, self).__init__()\n",
    "\n",
    "    self.causal_self_attention = CausalSelfAttention(\n",
    "        num_heads=num_heads,\n",
    "        key_dim=d_model,\n",
    "        dropout=dropout_rate)\n",
    "    \n",
    "    self.cross_attention = CrossAttention(\n",
    "        num_heads=num_heads,\n",
    "        key_dim=d_model,\n",
    "        dropout=dropout_rate)\n",
    "\n",
    "    self.ffn = FeedForward(d_model, dff)\n",
    "\n",
    "  def call(self, x, context, cross_attention_mask):\n",
    "    x = self.causal_self_attention(x=x)\n",
    "    x = self.cross_attention(x, context, cross_attention_mask)\n",
    "\n",
    "    # Cache the last attention scores for plotting later\n",
    "    self.last_attn_scores = self.cross_attention.last_attn_scores\n",
    "\n",
    "    x = self.ffn(x)  # Shape `(batch_size, seq_len, d_model)`.\n",
    "    return x"
   ]
  },
  {
   "cell_type": "code",
   "execution_count": 45,
   "metadata": {},
   "outputs": [
    {
     "name": "stdout",
     "output_type": "stream",
     "text": [
      "(16, 400, 152)\n"
     ]
    }
   ],
   "source": [
    "sample_decoder_layer = DecoderLayer(d_model=hyperparams.d_model, num_heads=hyperparams.num_heads, dff=hyperparams.d_model * 4)\n",
    "print(sample_decoder_layer(dSob, eSob, eMask).shape)\n",
    "del sample_decoder_layer"
   ]
  },
  {
   "cell_type": "code",
   "execution_count": 46,
   "metadata": {},
   "outputs": [],
   "source": [
    "class Decoder(tf.keras.layers.Layer):\n",
    "  def __init__(self, hyperparams, dropout_rate=0.1):\n",
    "    super(Decoder, self).__init__()\n",
    "\n",
    "    self.d_model = hyperparams.d_model\n",
    "    self.num_layers = hyperparams.num_layers\n",
    "\n",
    "    self.pos_embedding = PositionalEmbedding(hyperparams, isEncoder=False)\n",
    "\n",
    "    self.dropout = tf.keras.layers.Dropout(dropout_rate)\n",
    "    self.dec_layers = [\n",
    "        DecoderLayer(d_model=hyperparams.d_model, num_heads=hyperparams.num_heads,\n",
    "                     dff=hyperparams.d_model * 4, dropout_rate=dropout_rate)\n",
    "        for _ in range(hyperparams.num_layers)]\n",
    "\n",
    "    self.last_attn_scores = None\n",
    "\n",
    "  def call(self, x, context):\n",
    "    # `x` is token-IDs shape (batch, target_seq_len)\n",
    "    x, cross_attention_mask = self.pos_embedding(x)  # (batch_size, target_seq_len, d_model)\n",
    "    # print('decoder input x, cross_attention_mask', x.shape, cross_attention_mask.shape)\n",
    "    \n",
    "    x = self.dropout(x)\n",
    "    for decoder_layer in self.dec_layers:\n",
    "      x  = decoder_layer(x, context, cross_attention_mask)\n",
    "    self.last_attn_scores = self.dec_layers[-1].last_attn_scores\n",
    "\n",
    "    # The shape of x is (batch_size, target_seq_len, d_model).\n",
    "    return x"
   ]
  },
  {
   "cell_type": "code",
   "execution_count": 47,
   "metadata": {},
   "outputs": [
    {
     "name": "stdout",
     "output_type": "stream",
     "text": [
      "(16, 1, 152)\n"
     ]
    }
   ],
   "source": [
    "sample_decoder = Decoder(hyperparams)\n",
    "for z in train_batches:\n",
    "    (baseId, sequence, base_bb, mask), (base_label, seq_len_org) = z\n",
    "    x = (sequence, base_bb, mask)\n",
    "    break\n",
    "print(sample_decoder(x, eSob).shape)\n",
    "del sample_decoder"
   ]
  },
  {
   "cell_type": "code",
   "execution_count": 48,
   "metadata": {},
   "outputs": [],
   "source": [
    "class Transformer(tf.keras.Model):\n",
    "  def __init__(self, hyperparams, dropout_rate=0.1):\n",
    "    super().__init__()\n",
    "    self.encoder = Encoder(hyperparams, dropout_rate=dropout_rate)\n",
    "\n",
    "    self.decoder = Decoder(hyperparams, dropout_rate=dropout_rate)\n",
    "\n",
    "    self.final_layer = tf.keras.layers.Dense(hyperparams.d_model) #-------------- to modify\n",
    "\n",
    "  def call(self, inputs):\n",
    "    x = self.encoder(inputs)  # (batch_size, context_len, d_model)\n",
    "    x = self.decoder(inputs, x)  # (batch_size, target_len, d_model)\n",
    "    logits = self.final_layer(x)  # (batch_size, target_len=1, hyperparams.d_model)\n",
    "    logits = tf.squeeze(logits, axis=-2)  # (batch, hyperparams.d_model)\n",
    "\n",
    "    try:\n",
    "      # Drop the keras mask, so it doesn't scale the losses/metrics.\n",
    "      # b/250038731\n",
    "      del logits._keras_mask\n",
    "    except AttributeError:\n",
    "      pass\n",
    "\n",
    "    # Return the final output and the attention weights.\n",
    "    return logits"
   ]
  },
  {
   "cell_type": "code",
   "execution_count": 49,
   "metadata": {},
   "outputs": [
    {
     "name": "stdout",
     "output_type": "stream",
     "text": [
      "Model: \"transformer\"\n",
      "_________________________________________________________________\n",
      " Layer (type)                Output Shape              Param #   \n",
      "=================================================================\n",
      " encoder_1 (Encoder)         multiple                  6719434   \n",
      "                                                                 \n",
      " decoder_1 (Decoder)         multiple                  12288962  \n",
      "                                                                 \n",
      " dense_62 (Dense)            multiple                  23256     \n",
      "                                                                 \n",
      "=================================================================\n",
      "Total params: 19,031,652\n",
      "Trainable params: 19,031,652\n",
      "Non-trainable params: 0\n",
      "_________________________________________________________________\n"
     ]
    }
   ],
   "source": [
    "sample_transformer = Transformer(hyperparams)\n",
    "for z in train_batches:\n",
    "    (baseId, sequence, base_bb, mask), (base_label, seq_len_org) = z\n",
    "    x = (sequence, base_bb, mask)\n",
    "    break\n",
    "x = (sequence, base_bb, mask)\n",
    "y = sample_transformer(x)\n",
    "\n",
    "sample_transformer.summary()\n",
    "del sample_transformer"
   ]
  },
  {
   "cell_type": "code",
   "execution_count": 50,
   "metadata": {},
   "outputs": [],
   "source": [
    "class Adaptor(tf.keras.layers.Layer):\n",
    "  def __init__(self, d_output, d_middle, dropout_rate=0.1):\n",
    "    super().__init__()\n",
    "    self.seq = tf.keras.Sequential([\n",
    "      tf.keras.layers.Dense(d_middle, activation='relu'),    # across -1 axis\n",
    "      tf.keras.layers.Dense(d_output),    # across -1 axis\n",
    "      tf.keras.layers.Dropout(dropout_rate)    # mask-agnostic\n",
    "    ])\n",
    "    self.layer_norm = tf.keras.layers.LayerNormalization()\n",
    "\n",
    "  def call(self, x):\n",
    "    x = self.seq(x)\n",
    "    x = self.layer_norm(x)  # Do we need this?\n",
    "    return x"
   ]
  },
  {
   "cell_type": "code",
   "execution_count": 51,
   "metadata": {},
   "outputs": [],
   "source": [
    "class QGroup(tf.keras.Model):\n",
    "  softmax = tf.keras.layers.Softmax(axis=-1)\n",
    "  scalar_product = tf.keras.layers.Dot(axes=(-1, -1))\n",
    "\n",
    "  def __init__(self, bookie, nQueries, dropout_rate=0.1):\n",
    "    super().__init__()\n",
    "    self.bookie = bookie\n",
    "    self.nQueries = nQueries\n",
    "    self.bookieBase = Adaptor(self.nQueries, hyperparams.d_model)\n",
    "    self.profit_p = Adaptor(1, hyperparams.d_model)   # directly 1.\n",
    "\n",
    "    return\n",
    "    \n",
    "  def call(self, input):\n",
    "    # expected inputs.shape: (batch, hyperparas.d_model)\n",
    "    base = self.bookieBase(input)        # (batch, nQueries)\n",
    "    stake_p = QGroup.softmax(base)       # (batch, nQueries)\n",
    "    profit_p = self.profit_p(base)       # (batch, DIRECT 1)\n",
    "\n",
    "    return (profit_p, stake_p)  # (batch, nQueries), (batch, nQueries) \n",
    "  \n",
    "  #----- ToDo: replace self.scalar_product layer with a tf scalar product function, for speed.\n",
    "  def h_true(self, ftGoals):  # Defines this QGroup. This is for 1X2 QGroup. Derived classes re-define this funciton.\n",
    "    # ftGoals:  (batch, 2)\n",
    "    ftGoals = tf.cast(ftGoals, dtype=tf.int32)  # (batch, 2)\n",
    "    h = (tf.math.greater(ftGoals[..., 0], ftGoals[..., 1]), tf.math.equal(ftGoals[..., 0], ftGoals[..., 1]), tf.math.less(ftGoals[..., 0], ftGoals[..., 1]))\n",
    "    h = tf.cast(tf.transpose(h), dtype=tf.float32)  # (batch, nQueries)\n",
    "    return h\n",
    "  \n",
    "  def stake_true(self, ftGoals):\n",
    "    return self.h_true(ftGoals)   # (batch, nQueries)\n",
    "  \n",
    "  def profit_true(self, ftGoals, odds):\n",
    "    stake_t = self.stake_true(ftGoals)  # (batch, nQueries)\n",
    "    oh_1_true = tf.math.multiply(odds, self.h_true(ftGoals)) - 1.0  # (batch, nQueries)\n",
    "    profit_t = tf.math.multiply(oh_1_true, stake_t)  # (batch, nQueries)\n",
    "    return profit_t\n",
    "\n",
    "  def loss(self, profit_p, stake_p, ftGoals, odds, rambda):\n",
    "    # profit_p: (batch, DIRECT 1)\n",
    "    # stake_p:  (batch, nQueries)\n",
    "    # ftGoals:  (batch, 2)\n",
    "    # odds:     (batch, nQueries)\n",
    "    # rambda:   ()\n",
    "\n",
    "    # Let profit_p, of shape(batch, Direct 1), learn towards profit_t summed across queries.\n",
    "    profit_t = self.profit_true(ftGoals, odds)  # (batch, nQueries)\n",
    "    profit_t = tf.reduce_sum(profit_t, axis=-1, keepdims=True) # (batch, 1), like profit_p.\n",
    "    if MAE_NOT_MCE_P_LOSS:\n",
    "      profit_p_err = tf.reduce_mean(tf.math.abs(profit_t - profit_p), axis=None) # (), profit dimention.\n",
    "    else:\n",
    "      profit_p_err = tf.reduce_mean(tf.math.pow(profit_t - profit_p, 2.0), axis=None) # (), profit dimention.\n",
    "\n",
    "    # Let stake_p, soft-maxed and of shape (batch, nQueries), give max profit.    \n",
    "    oh_1_t = tf.math.multiply(odds, self.h_true(ftGoals)) - 1.0   # (batch, nQueries)\n",
    "    stake_p_performance = tf.math.multiply(oh_1_t, stake_p) # (batch, nQueries)\n",
    "    stake_p_performance = tf.math.reduce_sum(stake_p_performance, axis=-1)\n",
    "    stake_p_performance = tf.reduce_mean(stake_p_performance, axis=None)  # (), profit dimention.\n",
    "\n",
    "    loss = (1.0-rambda) * profit_p_err - stake_p_performance * rambda # ().\n",
    "\n",
    "    return loss # ()\n",
    "\n",
    "  def profit_back(self, ftGoals, odds, stake_p):\n",
    "    oh_1_t = tf.math.multiply(odds, self.h_true(ftGoals)) - 1.0\n",
    "    profit_back = tf.math.multiply(oh_1_t, stake_p)   # (batch, nQueries)\n",
    "    return profit_back"
   ]
  },
  {
   "cell_type": "code",
   "execution_count": 52,
   "metadata": {},
   "outputs": [],
   "source": [
    "class QGroup1X2(QGroup):\n",
    "  def __init__(self, bookie, dropout_rate=0.1):\n",
    "    super().__init__(bookie=bookie, nQueries=3, dropout_rate=dropout_rate)\n",
    "    self.qGroupName = '1X2'\n",
    "\n",
    "  def h_true(self, ftGoals):  # Defines this QGroup. This is for 1X2 QGroup.\n",
    "    # ftGoals:  (batch, 2)\n",
    "    ftGoals = tf.cast(ftGoals, dtype=tf.int32)  # (batch, 2)\n",
    "    h = (tf.math.greater(ftGoals[..., 0], ftGoals[..., 1]), tf.math.equal(ftGoals[..., 0], ftGoals[..., 1]), tf.math.less(ftGoals[..., 0], ftGoals[..., 1]))\n",
    "    h = tf.cast(tf.transpose(h), dtype=tf.float32)  # (batch, nQueries)\n",
    "    return h"
   ]
  },
  {
   "cell_type": "code",
   "execution_count": 53,
   "metadata": {},
   "outputs": [
    {
     "data": {
      "text/plain": [
       "(<tf.Tensor: shape=(2, 1), dtype=float32, numpy=\n",
       " array([[ 2.5396645e-08],\n",
       "        [-3.9517772e-08]], dtype=float32)>,\n",
       " <tf.Tensor: shape=(2, 3), dtype=float32, numpy=\n",
       " array([[0.29559955, 0.0668489 , 0.6375515 ],\n",
       "        [0.61966413, 0.05883158, 0.32150435]], dtype=float32)>)"
      ]
     },
     "execution_count": 53,
     "metadata": {},
     "output_type": "execute_result"
    }
   ],
   "source": [
    "OXT = QGroup1X2('B365')\n",
    "input = tf.Variable([[1,2,3], [4,5,6]], dtype=tf.float32)\n",
    "OXT.call(input)"
   ]
  },
  {
   "cell_type": "code",
   "execution_count": 54,
   "metadata": {},
   "outputs": [
    {
     "data": {
      "text/plain": [
       "<tf.Tensor: shape=(2, 3), dtype=float32, numpy=\n",
       "array([[0., 0., 1.],\n",
       "       [0., 1., 0.]], dtype=float32)>"
      ]
     },
     "execution_count": 54,
     "metadata": {},
     "output_type": "execute_result"
    }
   ],
   "source": [
    "ftGoals = tf.Variable([[2,3], [0,0]])\n",
    "OXT.h_true(ftGoals)\n",
    "# manual:: [[0 0 1], [0 1 0]]"
   ]
  },
  {
   "cell_type": "code",
   "execution_count": 55,
   "metadata": {},
   "outputs": [
    {
     "data": {
      "text/plain": [
       "<tf.Tensor: shape=(2, 3), dtype=float32, numpy=\n",
       "array([[0., 0., 1.],\n",
       "       [0., 1., 0.]], dtype=float32)>"
      ]
     },
     "execution_count": 55,
     "metadata": {},
     "output_type": "execute_result"
    }
   ],
   "source": [
    "ftGoals = tf.Variable([[2,3], [0,0]])\n",
    "OXT.stake_true(ftGoals)\n",
    "# manual: [[0 0 1], [0 1 0]]"
   ]
  },
  {
   "cell_type": "code",
   "execution_count": 56,
   "metadata": {},
   "outputs": [
    {
     "data": {
      "text/plain": [
       "<tf.Tensor: shape=(), dtype=float32, numpy=-0.16666669>"
      ]
     },
     "execution_count": 56,
     "metadata": {},
     "output_type": "execute_result"
    }
   ],
   "source": [
    "profit_p = tf.Variable([2], dtype=tf.float32)\n",
    "stake_p = tf.Variable([[0.5, 0.2, 0.3]], dtype=tf.float32)\n",
    "ftGoals = tf.Variable([[2, 3]])      \n",
    "odds = tf.Variable([[3, 4, 5]], dtype=tf.float32)\n",
    "rambda = tf.Variable(1, dtype=tf.float32)\n",
    "OXT.loss(profit_p, stake_p, ftGoals, odds, rambda)\n",
    "# manual: 1.5 if not using MCE"
   ]
  },
  {
   "cell_type": "code",
   "execution_count": 57,
   "metadata": {},
   "outputs": [
    {
     "data": {
      "text/plain": [
       "<tf.Tensor: shape=(), dtype=float32, numpy=-9.934108e-09>"
      ]
     },
     "execution_count": 57,
     "metadata": {},
     "output_type": "execute_result"
    }
   ],
   "source": [
    "profit_p = tf.Variable([[2, 3, 1], [1, 2, 3]], dtype=tf.float32)\n",
    "stake_p = tf.Variable([[0.5, 0.2, 0.3], [0.1, 0.2, 0.7]], dtype=tf.float32)\n",
    "ftGoals = tf.Variable([[2, 3], [3, 2]])\n",
    "odds = tf.Variable([[3, 4, 5], [5, 4, 3]], dtype=tf.float32)\n",
    "rambda = tf.Variable(1, dtype=tf.float32)\n",
    "OXT.loss(profit_p, stake_p, ftGoals, odds, rambda)\n",
    "# manual: 1.5 if not using MCE"
   ]
  },
  {
   "cell_type": "code",
   "execution_count": 58,
   "metadata": {},
   "outputs": [
    {
     "data": {
      "text/plain": [
       "<tf.Tensor: shape=(2, 3), dtype=float32, numpy=\n",
       "array([[-0.7       , -0.2       ,  0.2       ],\n",
       "       [-0.5       ,  0.90000004, -0.2       ]], dtype=float32)>"
      ]
     },
     "execution_count": 58,
     "metadata": {},
     "output_type": "execute_result"
    }
   ],
   "source": [
    "ftGoals = tf.Variable([[2,3], [3,3]])\n",
    "odds = tf.Variable([[1,2,3], [3,4,5]], dtype=tf.float32)\n",
    "stake_p = tf.Variable([[0.7, 0.2, 0.1], [0.5, 0.3, 0.2]])\n",
    "OXT.profit_back(ftGoals, odds, stake_p)\n",
    "# manual: 0.5 if not using MCE"
   ]
  },
  {
   "cell_type": "code",
   "execution_count": 59,
   "metadata": {},
   "outputs": [],
   "source": [
    "class BettingEPL(tf.keras.Model):\n",
    "  def __init__(self, hyperparams, loss_rambda=1.0, dropout_rate=0.1):\n",
    "    super().__init__()\n",
    "    self.transformer = Transformer(hyperparams, dropout_rate=dropout_rate)\n",
    "    self.bookies = ['B365', 'Betfair', 'Interwetten', 'William']\n",
    "    self.qGroups = [QGroup1X2(bookie) for bookie in self.bookies]\n",
    "    self.rambda = loss_rambda     #----------------------- Sensitive rambda!!!, Automate optimizing it.\n",
    "\n",
    "  def call(self, input):\n",
    "    x = self.transformer(input)\n",
    "    outputs = [qGroup(x) for qGroup in self.qGroups]\n",
    "    return outputs  # [ ( profit_p: (batch, direct 1), shape: (batch, nQueries) ) for _ in self.qGroups ]\n",
    "  \n",
    "  def loss(self, y, outputs):\n",
    "    # y: (batch, len(Team_cols)+len(Odds_cols)) \n",
    "    # outputs: # [ ( shape: (batch, 1), shape: (batch, nQueries) ) for _ in self.qGroups ]\n",
    "    ftGoals, odds = tf.split(y, [2, -1], axis=-1) # (batch, 2), (batch, sum[qGropu.nQueries for qGroup in self.qGroups])\n",
    "    odds_by_qGroup = tf.split(odds, [qQroup.nQueries for qQroup in self.qGroups], axis=-1)  # [ shape: (batch, qGroup.nQueries) for qGroup in self.qGroups ]\n",
    "    losses = [qGroup.loss(profit_p, stake_p, ftGoals, odds, self.rambda) for (qGroup, odds, (profit_p, stake_p)) in zip(self.qGroups, odds_by_qGroup, outputs)]\n",
    "    loss_value = tf.math.reduce_mean(tf.stack(losses, axis=0), axis=None)\n",
    "    return loss_value\n",
    "  \n",
    "  def back_test(self, y, outputs):\n",
    "    # y: (batch, len(Team_cols)+len(Odds_cols)) \n",
    "    # outputs: # [ ( shape: (batch, nQueries), shape: (batch, nQueries) ) for _ in self.qGroups ]\n",
    "    ftGoals, odds = tf.split(y, [2, -1], axis=-1)\n",
    "    odds_by_qGroup = tf.split(odds, [qQroup.nQueries for qQroup in self.qGroups], axis=-1)\n",
    "    profit_back = [ tf.math.reduce_sum(qGroup.profit_back(ftGoals, odds, stake_p), axis=-1, keepdims=True) \n",
    "                   for (qGroup, odds, (_, stake_p)) in zip(self.qGroups, odds_by_qGroup, outputs)] # [ (batch, 1) for _ in self.qGroups]\n",
    "    profit_back = tf.concat(profit_back, axis=-1) # (batch, nQGroups)\n",
    "    \n",
    "    profits_p = [tf.math.reduce_sum(profit_p, axis=-1, keepdims=True) for (profit_p, _) in outputs]   # [ shape: (batch, 1) for _ self.qGroups ]\n",
    "    profits_p = tf.concat(profits_p, axis=-1) # (batch, len(self.qGroups))\n",
    "    bestQuery = tf.cast(tf.argmax(profits_p, axis=-1), dtype=tf.int32)   # (batch,) -----------------------------------------------\n",
    "    range = tf.range(bestQuery.shape[0], dtype=tf.int32) # (batch,)\n",
    "    best_idx = tf.stack([range, bestQuery], axis=1) # (batch, 2)\n",
    "    \n",
    "    best_profits_back = tf.gather_nd(profit_back, best_idx)  # (batch, )\n",
    "    profit_back_mean = tf.math.reduce_mean(best_profits_back)\n",
    "    return profit_back_mean\n",
    "  \n",
    "  def back_test2(self, y, outputs):\n",
    "    # y: (batch, len(Team_cols)+len(Odds_cols)) \n",
    "    # outputs: # [ ( shape: (batch, nQueries), shape: (batch, nQueries) ) for _ in self.qGroups ]\n",
    "    ftGoals, odds = tf.split(y, [2, -1], axis=-1)\n",
    "    odds_by_qGroup = tf.split(odds, [qQroup.nQueries for qQroup in self.qGroups], axis=-1)\n",
    "    profit_back = [gGroup.profit_back(ftGoals, odds, stake_p) for (gGroup, odds, (_, stake_p)) in zip(self.qGroups, odds_by_qGroup, outputs)]\n",
    "    profit_back = tf.concat(profit_back, axis=-1) # (batch, nQGroups)\n",
    "    profit_back_mean = tf.math.reduce_mean(profit_back)\n",
    "    return profit_back_mean"
   ]
  },
  {
   "cell_type": "code",
   "execution_count": 60,
   "metadata": {},
   "outputs": [
    {
     "name": "stdout",
     "output_type": "stream",
     "text": [
      "(16, 400, 35)\n",
      "4\n",
      "2\n",
      "(16, 1) (16, 3)\n",
      "Model: \"betting_epl\"\n",
      "_________________________________________________________________\n",
      " Layer (type)                Output Shape              Param #   \n",
      "=================================================================\n",
      " transformer_1 (Transformer)  multiple                 19031652  \n",
      "                                                                 \n",
      " q_group1x2_1 (QGroup1X2)    multiple                  24484     \n",
      "                                                                 \n",
      " q_group1x2_2 (QGroup1X2)    multiple                  24484     \n",
      "                                                                 \n",
      " q_group1x2_3 (QGroup1X2)    multiple                  24484     \n",
      "                                                                 \n",
      " q_group1x2_4 (QGroup1X2)    multiple                  24484     \n",
      "                                                                 \n",
      "=================================================================\n",
      "Total params: 19,129,588\n",
      "Trainable params: 19,129,588\n",
      "Non-trainable params: 0\n",
      "_________________________________________________________________\n"
     ]
    }
   ],
   "source": [
    "EPL = BettingEPL(hyperparams, loss_rambda = LOSS_RAMBDA, dropout_rate=TRANSFORMER_DROP)\n",
    "for z in train_batches:\n",
    "    (baseId, sequence, base_bb, mask), (base_label, seq_len_org) = z\n",
    "    x = (sequence, base_bb, mask)\n",
    "    print(sequence.shape)\n",
    "    break\n",
    "x = (sequence, base_bb, mask)\n",
    "y = EPL(x, training=False)\n",
    "print(len(y))\n",
    "print(len(y[0]))\n",
    "(profit_p, stake_p) = y[0]\n",
    "print(profit_p.shape, stake_p.shape)\n",
    "# print(profit_p, stake_p)   # profit_p tend to have the same sign in the same batch.\n",
    "\n",
    "EPL.summary()"
   ]
  },
  {
   "cell_type": "code",
   "execution_count": 61,
   "metadata": {},
   "outputs": [],
   "source": [
    "class CustomSchedule(tf.keras.optimizers.schedules.LearningRateSchedule):\n",
    "  def __init__(self, d_model, warmup_steps=4000):\n",
    "    super().__init__()\n",
    "\n",
    "    self.d_model = d_model\n",
    "    self.d_model = tf.cast(self.d_model, tf.float32)\n",
    "\n",
    "    self.warmup_steps = warmup_steps\n",
    "\n",
    "  def __call__(self, step):\n",
    "    step = tf.cast(step, dtype=tf.float32)\n",
    "    arg1 = tf.math.rsqrt(step)\n",
    "    arg2 = step * (self.warmup_steps ** -1.5)\n",
    "\n",
    "    return tf.math.rsqrt(self.d_model) * tf.math.minimum(arg1, arg2)"
   ]
  },
  {
   "cell_type": "code",
   "execution_count": 62,
   "metadata": {},
   "outputs": [],
   "source": [
    "# learning_rate = CustomSchedule(hyperparams.d_model)\n",
    "\n",
    "learning_rate = LEARNING_RATE\n",
    "optimizer = tf.keras.optimizers.Adam(learning_rate, beta_1=0.95, beta_2=0.95, epsilon=1e-9)\n",
    "# optimizer = tf.keras.optimizers.Adadelta()"
   ]
  },
  {
   "cell_type": "code",
   "execution_count": 63,
   "metadata": {},
   "outputs": [],
   "source": [
    "loss_object = tf.keras.losses.CategoricalCrossentropy(from_logits=True, reduction='none')\n",
    "\n",
    "def masked_loss_uk(label, y_pred):\n",
    "  # lable = (target(batch, 3), base_bb(batch, 1, 9), seq_len(batch, 1)), y_pred: (batch, 3)\n",
    "  y_true = label[0]   # one_hot: (batch, 3)\n",
    "  seq_len = label[2]  # (batch, 1)\n",
    "\n",
    "  mask = y_true != 0 \n",
    "  loss = loss_object(y_true, y_pred)\n",
    "  mask = tf.cast(mask, dtype=loss.dtype)\n",
    "  loss = tf.reduce_sum(loss)/tf.reduce_sum(mask) # eq. sum_loss / batch\n",
    "  return loss\n",
    "\n",
    "\n",
    "class recall():\n",
    "  def __init__(self, name='recall', min_seq_len=5, **kwargs):\n",
    "    self.min_seq_len = min_seq_len\n",
    "    self.n = None\n",
    "    self.recall = None\n",
    "    self.reset()\n",
    "\n",
    "  def update_state(self, label, y_pred):\n",
    "    # lable = (target(batch, 3), base_bb(batch, 1, 9), seq_len(batch,)), y_pred: (batch, 3)\n",
    "    y_true = label[0]   # one_hot: (batch, 3)\n",
    "    seq_len = label[2]  # (batch)\n",
    "\n",
    "    seq_len_mask = tf.cast(seq_len >= self.min_seq_len, dtype=tf.float32)[:, tf.newaxis, tf.newaxis]\n",
    "    y_true = y_true * seq_len_mask\n",
    "    y_pred = y_pred * seq_len_mask \n",
    "\n",
    "    # print('recall', y_true.shape, y_pred.shape, seq_len_mask.shape)\n",
    "\n",
    "    true_positives = tf.math.reduce_sum(y_true * y_pred)\n",
    "    # print('recall', true_positives.numpy())\n",
    "    possible_positives = tf.math.reduce_sum(y_true)\n",
    "    recall_keras = true_positives / (possible_positives + 1e-9) #tf.keras.backend.epsilon())\n",
    "    self.n += 1\n",
    "    self.recall = self.recall * (self.n-1)/self.n + recall_keras.numpy() / self.n\n",
    "\n",
    "\n",
    "  def result(self):\n",
    "    return self.recall\n",
    "  \n",
    "  def reset(self):\n",
    "    self.n = 0\n",
    "    self.recall = 0.0\n",
    "  \n",
    "recall_object = recall(min_seq_len=5)\n",
    "\n",
    "class precision():\n",
    "  def __init__(self, name='precision', min_seq_len=5, **kwargs):\n",
    "    self.min_seq_len = min_seq_len\n",
    "    self.n = None\n",
    "    self.precision = None\n",
    "    self.reset()\n",
    "\n",
    "  def update_state(self, label, y_pred):\n",
    "    # lable = (target(batch, 3), base_bb(batch, 1, 9), seq_len(batch,)), y_pred: (batch, 3)\n",
    "    y_true = label[0]   # one_hot: (batch, 3)\n",
    "    seq_len = label[2]  # (batch, 1)\n",
    "\n",
    "    seq_len_mask = tf.cast(seq_len >= self.min_seq_len, dtype=tf.float32)[:, tf.newaxis, tf.newaxis]\n",
    "    y_true = y_true * seq_len_mask\n",
    "    y_pred = y_pred * seq_len_mask \n",
    "\n",
    "    true_positives = tf.math.reduce_sum(y_true * y_pred)\n",
    "    predicted_positives = tf.math.reduce_sum(y_pred)\n",
    "    precision_keras = true_positives / (predicted_positives + 1e-9) #tf.keras.backend.epsilon())\n",
    "    self.n += 1\n",
    "    self.precision = self.precision * (self.n-1)/self.n + precision_keras.numpy() / self.n\n",
    "\n",
    "  def result(self):\n",
    "    return self.precision\n",
    "  \n",
    "  def reset(self):\n",
    "    self.n = 0\n",
    "    self.precision = 0.0\n",
    "\n",
    "precision_object = precision(min_seq_len=5)"
   ]
  },
  {
   "cell_type": "code",
   "execution_count": 64,
   "metadata": {},
   "outputs": [],
   "source": [
    "@tf.function\n",
    "def train_step(x, y):\n",
    "    \n",
    "    with tf.GradientTape() as tape:\n",
    "        outputs = EPL(x, training=True)  # [ (batch, 1), (batch, nQueries) for _ in bookies]\n",
    "        loss_value = EPL.loss(y, outputs)\n",
    "    \n",
    "    grads = tape.gradient(loss_value, EPL.trainable_weights)\n",
    "    optimizer.apply_gradients(zip(grads, EPL.trainable_weights))\n",
    "    # recall_object.update_state(y, logits)\n",
    "    # precision_object.update_state(y, logits)\n",
    "    return loss_value"
   ]
  },
  {
   "cell_type": "code",
   "execution_count": 65,
   "metadata": {},
   "outputs": [],
   "source": [
    "@tf.function\n",
    "def test_step(x, y):\n",
    "    outputs = EPL(x, training=False)  # [ (batch, 1), (batch, nQueries) for _ in bookies]\n",
    "    loss_value = EPL.loss(y, outputs)\n",
    "    # recall_object.update_state(y, val_logits)\n",
    "    # precision_object.update_state(y, val_logits)\n",
    "    return loss_value"
   ]
  },
  {
   "cell_type": "code",
   "execution_count": 66,
   "metadata": {},
   "outputs": [],
   "source": [
    "@tf.function\n",
    "def back_test_step(x, y):\n",
    "    outputs = EPL(x, training=False)  # [ (batch, 1), (batch, nQueries) for _ in bookies]\n",
    "    profit_back = EPL.back_test(y, outputs)\n",
    "    return profit_back"
   ]
  },
  {
   "cell_type": "code",
   "execution_count": 67,
   "metadata": {},
   "outputs": [],
   "source": [
    "@tf.function\n",
    "def back_test_step2(x, y):\n",
    "    outputs = EPL(x, training=False)  # [ (batch, 1), (batch, nQueries) for _ in bookies]\n",
    "    profit_back = EPL.back_test2(y, outputs)\n",
    "    return profit_back"
   ]
  },
  {
   "cell_type": "code",
   "execution_count": 68,
   "metadata": {},
   "outputs": [],
   "source": [
    "# @tf.function  #-------------------- Wierd: no work.\n",
    "def back_test_with_dataset(datsset):\n",
    "    n = 0\n",
    "    profit_back_total = tf.Variable(0.0, dtype=tf.float32)\n",
    "    for step, ((baseId, sequence, base_bb, mask), (base_label, seq_len_org)) in enumerate(datsset):\n",
    "        x = (sequence, base_bb, mask); y = base_label\n",
    "        profit_back = back_test_step(x, y)\n",
    "        n += 1\n",
    "        profit_back_total = profit_back_total * (n-1) / n + profit_back / n\n",
    "    return profit_back_total"
   ]
  },
  {
   "cell_type": "code",
   "execution_count": 69,
   "metadata": {},
   "outputs": [],
   "source": [
    "# @tf.function  #-------------------- Wierd: no work.\n",
    "def back_test_with_dataset2(datsset):\n",
    "    n = 0\n",
    "    profit_back_total = tf.Variable(0.0, dtype=tf.float32)\n",
    "    for step, ((baseId, sequence, base_bb, mask), (base_label, seq_len_org)) in enumerate(datsset):\n",
    "        x = (sequence, base_bb, mask); y = base_label\n",
    "        profit_back = back_test_step2(x, y)\n",
    "        n += 1\n",
    "        profit_back_total = profit_back_total * (n-1) / n + profit_back / n\n",
    "    return profit_back_total"
   ]
  },
  {
   "cell_type": "code",
   "execution_count": 70,
   "metadata": {},
   "outputs": [],
   "source": [
    "# @tf.function  #-------------------- Wierd: no work.\n",
    "def test_with_dataset(datsset):\n",
    "    n = 0\n",
    "    val_loss = tf.Variable(0.0, dtype=tf.float32)\n",
    "    for step, ((baseId, sequence, base_bb, mask), (base_label, seq_len_org)) in enumerate(datsset):\n",
    "        x = (sequence, base_bb, mask); y = base_label\n",
    "        n += 1\n",
    "        val_loss = val_loss * (n-1) / n + test_step(x, y) / n\n",
    "    return val_loss"
   ]
  },
  {
   "cell_type": "code",
   "execution_count": 71,
   "metadata": {},
   "outputs": [],
   "source": [
    "class history_class():\n",
    "    def round_sig(self, x, sig=2):\n",
    "            return round(x, sig-int(math.floor(math.log10(abs(x))))-1)\n",
    "    def __init__(self):\n",
    "        self.history = {'loss': [], 'val_loss': [], 'back100': []}\n",
    "    def save(self, path):\n",
    "        data_helpers.SaveJsonData(self.history, path)\n",
    "    def load(self, path):\n",
    "        self.history = data_helpers.LoadJsonData(path)\n",
    "        if self.history is None:\n",
    "            self.history = {'loss': [], 'val_loss': [], 'back100': []}\n",
    "    def to_back100(self, back):\n",
    "        return float(back * 100 if back >= 0 else back)\n",
    "    def append(self, loss, val_loss, back):\n",
    "        self.history['loss'].append(self.round_sig(float(loss), 4))\n",
    "        self.history['val_loss'].append(self.round_sig(float(val_loss), 4))\n",
    "        self.history['back100'].append(self.round_sig(self.to_back100(back), 4))\n",
    "    def len(self):\n",
    "        assert len(self.history['loss']) == len(self.history['val_loss'])\n",
    "        assert len(self.history['loss']) == len(self.history['back100'])\n",
    "        return len(self.history['loss'])\n",
    "    def get_latest_item(self):\n",
    "        return (self.history['loss'][-1], self.history['val_loss'][-1], self.history['back100'][-1])"
   ]
  },
  {
   "cell_type": "code",
   "execution_count": 72,
   "metadata": {},
   "outputs": [],
   "source": [
    "def show_steps(epoch, step, loss, samples_seen):\n",
    "    # recall = recall_object.result()\n",
    "    # precision = precision_object.result()\n",
    "    # print(\"epoch: {}, step: {}, loss: {}, recall: {}, precision: {}, samples_seen: {}\".\n",
    "    #       format(epoch, step, float(loss_value), recall, precision, (step + 1) * hyperparams.batch_size))\n",
    "    print(\"epoch: {}, step: {}, loss: {}, samples_seen: {}          \".\n",
    "            format(epoch, step, float(loss), samples_seen), end='\\r')\n",
    "    # recall_object.reset()\n",
    "    # precision_object.reset()\n",
    "\n",
    "def show_history(history, baseline=0):\n",
    "    plt.plot(history.history['loss'][baseline:])\n",
    "    plt.plot(history.history['val_loss'][baseline:])\n",
    "    base1 = min(history.history['loss'])\n",
    "    base2 = min(history.history['val_loss'])\n",
    "    base = min(base1, base2)\n",
    "    plt.plot([base + b100 for b100 in history.history['back100']][baseline:])\n",
    "    plt.axhline(y=base, color='b', linestyle='-', linewidth=0.5)\n",
    "    plt.grid(True)\n",
    "    plt.title(TEST_ID + \": max back100: {}, history len: {}\".format(max(history.history['back100'][baseline:]), history.len()))\n",
    "    plt.ylabel('loss')\n",
    "    plt.xlabel('epoch')\n",
    "    plt.legend(['train_loss', 'val_loss', 'val_profit'], loc='lower right')\n",
    "    plt.show()"
   ]
  },
  {
   "cell_type": "code",
   "execution_count": 73,
   "metadata": {},
   "outputs": [],
   "source": [
    "checkpointPath = os.path.join('./data', 'checkpoints', TEST_ID + '_weights')\n",
    "historyPath = os.path.join('./data', 'checkpoints', TEST_ID + '_history.json')\n",
    "\n",
    "history = history_class()\n",
    "\n",
    "if REMOVE_HISTORY:\n",
    "    files = glob.glob(checkpointPath + \"*\")         # \"*.*\" doesn't work\n",
    "    result = [os.remove(file) for file in files]\n",
    "    files = glob.glob(historyPath + \"*\")            # \"*.*\" doens't work\n",
    "    result = [os.remove(file) for file in files]\n",
    "    EPL.save_weights(checkpointPath)\n",
    "    history.save(historyPath)\n",
    "\n",
    "try:\n",
    "    EPL.load_weights(checkpointPath)\n",
    "except:\n",
    "    print('Failed to load model weights.')\n",
    "\n",
    "history.load(historyPath)\n",
    "if history.len() <= 0:\n",
    "    print('Creating historic baseline...', end='')\n",
    "    loss = test_with_dataset(train_batches)\n",
    "    val_loss = test_with_dataset(test_batches)\n",
    "    back = back_test_with_dataset(test_batches)\n",
    "    history.append(loss, val_loss, back)\n",
    "    history.save(historyPath)\n",
    "    print('done')\n",
    "\n",
    "def save_checkpoint(loss, val_loss, back):\n",
    "    (pre_loss, pre_val_loss, pre_back100) = history.get_latest_item()\n",
    "    if float(history.to_back100(back)) < pre_back100:\n",
    "        EPL.save_weights(checkpointPath)\n",
    "    history.append(loss, val_loss, back)\n",
    "    history.save(historyPath)"
   ]
  },
  {
   "cell_type": "code",
   "execution_count": 74,
   "metadata": {},
   "outputs": [
    {
     "name": "stdout",
     "output_type": "stream",
     "text": [
      "[0.02877, 0.02754, 0.02459, 0.02752, 0.0255, 0.02312, 0.02294, 0.02159, 0.0215, 0.02155, 0.02125, 0.02118, 0.022, 0.02125, 0.02069, 0.02068, 0.02101, 0.02019, 0.02023, 0.02014, 0.01998, 0.0204, 0.02016, 0.0201, 0.02035, 0.01982, 0.02011, 0.01915, 0.0192, 0.01936, 0.01903, 0.01954, 0.01846, 0.01883, 0.0189, 0.01848, 0.01818, 0.01823, 0.01806, 0.01838, 0.01737, 0.01749, 0.01756, 0.01701, 0.01633, 0.01677, 0.01675, 0.01715, 0.01657, 0.01536, 0.01642, 0.01618, 0.01629, 0.01592, 0.01587, 0.0158, 0.01574, 0.01519, 0.01509, 0.01567, 0.01484, 0.0152, 0.01511, 0.01424, 0.0141, 0.01502, 0.01371, 0.01456, 0.01381, 0.01417, 0.01378, 0.01386, 0.01401, 0.01373, 0.0136, 0.01357, 0.01378, 0.01411, 0.01203, 0.01358, 0.01254, 0.01287, 0.0131, 0.01224, 0.01251, 0.01337, 0.01156, 0.01222, 0.01112, 0.0115, 0.0115, 0.01188, 0.01069, 0.01169, 0.01126, 0.01123, 0.0113, 0.01031]\n",
      "[0.02625, 0.0216, 0.01638, 0.02188, 0.01721, 0.01456, 0.01409, 0.01433, 0.01427, 0.01455, 0.016, 0.01688, 0.01558, 0.01709, 0.01767, 0.01646, 0.01511, 0.0153, 0.01542, 0.01638, 0.01716, 0.01775, 0.01698, 0.01626, 0.01763, 0.01605, 0.01678, 0.01606, 0.01563, 0.01576, 0.01466, 0.01544, 0.01542, 0.01481, 0.01582, 0.01559, 0.01541, 0.01514, 0.01472, 0.01483, 0.01733, 0.01642, 0.0157, 0.01657, 0.0165, 0.01524, 0.01704, 0.0145, 0.01531, 0.015, 0.01412, 0.01325, 0.01359, 0.01557, 0.01208, 0.01237, 0.01272, 0.01517, 0.01264, 0.0152, 0.01526, 0.01371, 0.01444, 0.01398, 0.01544, 0.01476, 0.01516, 0.01378, 0.01911, 0.01658, 0.02088, 0.01684, 0.01779, 0.01611, 0.01426, 0.01556, 0.01484, 0.01283, 0.0134, 0.01557, 0.01289, 0.01264, 0.01476, 0.01364, 0.01433, 0.01413, 0.01542, 0.01708, 0.01516, 0.01567, 0.0164, 0.01628, 0.01766, 0.01572, 0.01294, 0.0132, 0.013, 0.0141]\n",
      "[-0.06144, -0.0216, -0.01638, -0.02188, -0.01721, -0.01456, -0.01409, -0.01433, -0.01427, -0.01455, -0.016, -0.01688, -0.01558, -0.01709, -0.01767, -0.01646, -0.01511, -0.0153, -0.01542, -0.01638, -0.01716, -0.01775, -0.01698, -0.01626, -0.01763, -0.01605, -0.01678, -0.01606, -0.01563, -0.01576, -0.01466, -0.01544, -0.01542, -0.01481, -0.01582, -0.01559, -0.01541, -0.01514, -0.01472, -0.01483, -0.01733, -0.01642, -0.0157, -0.01657, -0.0165, -0.01524, -0.01704, -0.0145, -0.01531, -0.015, -0.01412, -0.01325, -0.01359, -0.01557, -0.01208, -0.01237, -0.01272, -0.01517, -0.01264, -0.0152, -0.01526, -0.01371, -0.01444, -0.01398, -0.01544, -0.01476, -0.01516, -0.01378, -0.01911, -0.01658, -0.02088, -0.01684, -0.01779, -0.01611, -0.01426, -0.01556, -0.01484, -0.01283, -0.0134, -0.01557, -0.01289, -0.01264, -0.01476, -0.01364, -0.01433, -0.01413, -0.01542, -0.01708, -0.01516, -0.01567, -0.0164, -0.01628, -0.01766, -0.01572, -0.01294, -0.0132, -0.013, -0.0141]\n"
     ]
    }
   ],
   "source": [
    "for key, value in history.history.items():\n",
    "    print(value)"
   ]
  },
  {
   "cell_type": "code",
   "execution_count": 75,
   "metadata": {},
   "outputs": [
    {
     "data": {
      "image/png": "[encoded data removed]",
      "text/plain": [
       "<Figure size 640x480 with 1 Axes>"
      ]
     },
     "metadata": {},
     "output_type": "display_data"
    }
   ],
   "source": [
    "show_history(history, baseline=0)\n",
    "# Profit is positive only if, and if only, the 'val_profit' curve surpasses the 'val_loss' curve."
   ]
  },
  {
   "cell_type": "code",
   "execution_count": 76,
   "metadata": {},
   "outputs": [
    {
     "name": "stdout",
     "output_type": "stream",
     "text": [
      "epoch: 98, step: 0, loss: 0.01086718775331974, samples_seen: 16          \r"
     ]
    }
   ],
   "source": [
    "epochs = 500;  prev_loss = float(\"inf\")\n",
    "for epoch in range(history.len(), epochs):\n",
    "    start_time = time.time()\n",
    "\n",
    "    m = 0; epoch_loss = 0.0\n",
    "    n = 0; loss = tf.Variable(0.0, dtype=tf.float32); samples_seen = 0\n",
    "\n",
    "    for step, ((baseId, sequence, base_bb, mask), (base_label, seq_len_org)) in enumerate(train_batches):\n",
    "        # print('train', sequence.shape)\n",
    "        x = (sequence, base_bb, mask); y = base_label\n",
    "        batch_loss = train_step(x, y)\n",
    "        n += 1; loss = loss * (n-1) / n + batch_loss / n\n",
    "        \n",
    "        m += 1; epoch_loss = epoch_loss * (m-1)/m + batch_loss / m\n",
    "\n",
    "        samples_seen += sequence.shape[0]\n",
    "\n",
    "        if step % 50 == 0:\n",
    "            show_steps(epoch, step, loss, samples_seen)\n",
    "            n = 0; loss = 0.0\n",
    "\n",
    "    show_steps(epoch, step, loss, samples_seen)\n",
    "    val_loss = test_with_dataset(test_batches)\n",
    "    # back = back_test_with_dataset(test_batches)\n",
    "    # back2 = back_test_with_dataset2(test_batches)\n",
    "    save_checkpoint(epoch_loss, val_loss, -val_loss)     #------------------------------------------- comeback\n",
    "\n",
    "    print(\"epoch: {}, loss: {}, val_loss: {}, time taken: {:.2f}s          \"\n",
    "          .format(epoch, float(epoch_loss), float(val_loss), (time.time() - start_time)))"
   ]
  }
 ],
 "metadata": {
  "kernelspec": {
   "display_name": "base",
   "language": "python",
   "name": "python3"
  },
  "language_info": {
   "codemirror_mode": {
    "name": "ipython",
    "version": 3
   },
   "file_extension": ".py",
   "mimetype": "text/x-python",
   "name": "python",
   "nbconvert_exporter": "python",
   "pygments_lexer": "ipython3",
   "version": "3.9.13"
  }
 },
 "nbformat": 4,
 "nbformat_minor": 2
}
