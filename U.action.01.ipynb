{
 "cells": [
  {
   "cell_type": "code",
   "execution_count": 1,
   "metadata": {},
   "outputs": [],
   "source": [
    "import numpy as np\n",
    "import tensorflow as tf\n",
    "# import tensorflow_datasets as tfds\n",
    "import matplotlib.pyplot as plt\n",
    "# import pandas as ps\n",
    "import time\n",
    "import re\n",
    "import os\n",
    "import shutil\n",
    "import glob\n",
    "import math\n",
    "\n",
    "# from config import config\n",
    "import data_helpers\n",
    "from data_generator import *"
   ]
  },
  {
   "cell_type": "code",
   "execution_count": 2,
   "metadata": {},
   "outputs": [],
   "source": [
    "TEST_ID = 'UK.B.A.01'\n",
    "BATCH_SIZE = 48\n",
    "LOSS_RAMBDA = 0.5\n",
    "LEARNING_RATE = 0.00001 # 0.00002 # /[330:441] # 0.000005/[319:330] # 0.00001 / [:319]\n",
    "MAE_NOT_MCE_P_LOSS = True\n",
    "TRANSFORMER_DROP = 0.2\n",
    "RE_START_FROM_BATCHING = False\n",
    "id_to_ids_filename = 'England-200-1e-07-7300-75-0.8-False'"
   ]
  },
  {
   "cell_type": "code",
   "execution_count": 3,
   "metadata": {},
   "outputs": [],
   "source": [
    "countryDirPath = \"./data/football-data-co-uk/England\"\n",
    "df = data_helpers.get_master_df_from_football_data_co_uk(countryDirPath)"
   ]
  },
  {
   "cell_type": "code",
   "execution_count": 4,
   "metadata": {},
   "outputs": [
    {
     "name": "stdout",
     "output_type": "stream",
     "text": [
      "113\n",
      "['tottenham', 'arsenal', 'liverpool', '[UNK]', 'tottenham', 'chelsea', '[UNK]', 'man_united', '[UNK]', '[UNK]', '[UNK]']\n",
      "[0, 0, 0, 0, 0, 0, 0, 0, 0, 0, 0]\n",
      "[101, 4, 58, 0, 101, 27, 0, 62, 0, 0, 0]\n"
     ]
    },
    {
     "data": {
      "text/plain": [
       "'tottenham arsenal liverpool tottenham chelsea man_united'"
      ]
     },
     "execution_count": 4,
     "metadata": {},
     "output_type": "execute_result"
    }
   ],
   "source": [
    "tokenizer_team = creat_team_tokenizer_uk(df)\n",
    "print(tokenizer_team.get_vocab_size())\n",
    "\n",
    "teams = ['Tottenham', 'Arsenal', 'Liverpool', 'what?', 'Tottenham', 'Chelsea', 'e_t', 'Man United', '1234', '[HOME]', '[AWAY]']\n",
    "teams = [team.strip() for team in [re.sub(r\"\\s\", \"_\", item) for item in teams]]\n",
    "teams = \" \".join(teams)\n",
    "encoding = tokenizer_team.encode(teams)\n",
    "# encoding = tokenizer.encode(\"\")\n",
    "print(encoding.tokens)\n",
    "print(encoding.type_ids)\n",
    "print(encoding.ids)\n",
    "\n",
    "tokenizer_team.decode(encoding.ids)"
   ]
  },
  {
   "cell_type": "code",
   "execution_count": 5,
   "metadata": {},
   "outputs": [],
   "source": [
    "filepath = os.path.join(os.getcwd(), 'data', 'id_to_ids', id_to_ids_filename + '.json')\n",
    "id_to_ids = data_helpers.LoadJsonData(filepath)"
   ]
  },
  {
   "cell_type": "code",
   "execution_count": 6,
   "metadata": {},
   "outputs": [
    {
     "data": {
      "image/png": "[encoded data removed]",
      "text/plain": [
       "<Figure size 640x480 with 1 Axes>"
      ]
     },
     "metadata": {},
     "output_type": "display_data"
    }
   ],
   "source": [
    "lengths = [len(ids) for (tag, label, ids) in id_to_ids.values()]\n",
    "maxLen = max(lengths)\n",
    "plt.hist(lengths, np.linspace(0, int(maxLen*1.1), int(maxLen*1.1) + 1))\n",
    "plt.ylim(plt.ylim())\n",
    "maxLen = max(lengths)\n",
    "# plt.plot([maxLen, maxLen], plt.ylim())\n",
    "plt.title(f'Max length of ids: {maxLen}')\n",
    "\n",
    "MAX_TOKENS = maxLen"
   ]
  },
  {
   "cell_type": "code",
   "execution_count": 7,
   "metadata": {},
   "outputs": [
    {
     "name": "stdout",
     "output_type": "stream",
     "text": [
      "[100000, 'E0', datetime.date(2004, 1, 11), 'Man_City', 'Norwich', 1.72, 3.4, 5.0, 1.7, 3.2, 5.0, 1.65, 3.3, 4.4, 1.66, 3.1, 5.0, 1.0, 0.0, 1, 1, 'H', 'D', 19.0, 10.0, 11.0, 5.0, 9.0, 4.0, 10.0, 13.0, 1.0, 0.0, 0.0, 0.0]\n"
     ]
    }
   ],
   "source": [
    "id_cols = ['id']\n",
    "Div_cols = ['Div']\n",
    "Date_cols = ['Date']\n",
    "Team_cols = ['HomeTeam', 'AwayTeam']\n",
    "Odds_cols = ['B365H', 'B365D', 'B365A', 'BWH', 'BWD', 'BWA', 'IWH', 'IWD', 'IWA', 'WHH', 'WHD', 'WHA']\n",
    "BB_cols = id_cols + Div_cols + Date_cols + Team_cols + Odds_cols\n",
    "\n",
    "Half_Goal_cols = ['HTHG', 'HTAG']\n",
    "Full_Goal_cols = ['FTHG', 'FTAG']\n",
    "Goal_cols = Half_Goal_cols + Full_Goal_cols\n",
    "Result_cols = ['HTR', 'FTR']    # A function of Goal_cols, but contribute to better representation.\n",
    "Shoot_cols = ['HS', 'AS']\n",
    "ShootT_cols = ['HST', 'AST']\n",
    "Corner_cols = ['HC', 'AC']\n",
    "Faul_cols = ['HF', 'AF']\n",
    "Yellow_cols = ['HY', 'AY']    # H/A Yellow Cards, H/A Red Cards\n",
    "Red_cols = ['HR', 'AR']    # H/A Yellow Cards, H/A Red Cards\n",
    "AB_cols = Goal_cols + Result_cols + Shoot_cols + ShootT_cols + Corner_cols + Faul_cols + Yellow_cols + Red_cols\n",
    "\n",
    "# underscore_prefixed lists have discontinued columns.\n",
    "BBAB_cols = BB_cols + AB_cols\n",
    "_Cols_List_to_Embedd = [Div_cols, Team_cols, Goal_cols, Result_cols]\n",
    "_Cols_List_to_Standardize = [Odds_cols, Shoot_cols, ShootT_cols, Corner_cols, Faul_cols, Yellow_cols, Red_cols]\n",
    "_Cols_List_for_Label = [Full_Goal_cols, Odds_cols]\n",
    "_Label_cols = Full_Goal_cols + Odds_cols\n",
    "\n",
    "BBAB_cols = BB_cols + AB_cols\n",
    "base_bbab = list(df.loc[df['id'] == 100000, BBAB_cols].iloc[0, :])\n",
    "print(base_bbab)"
   ]
  },
  {
   "cell_type": "code",
   "execution_count": 8,
   "metadata": {},
   "outputs": [
    {
     "name": "stdout",
     "output_type": "stream",
     "text": [
      "0.08013937282229965 0.2855927650445304\n",
      "[[-0.28060715 -0.28060715]\n",
      " [-0.28060715 -0.28060715]\n",
      " [-0.28060715 -0.28060715]\n",
      " ...\n",
      " [-0.28060715 -0.28060715]\n",
      " [-0.28060715 -0.28060715]\n",
      " [-0.28060715 -0.28060715]]\n",
      "-8.619307931533026e-18 1.0\n"
     ]
    }
   ],
   "source": [
    "array = df[Red_cols]\n",
    "array = np.array(array)\n",
    "print(array.mean(), array.std())\n",
    "array = (array - array.mean()) / array.std()\n",
    "print(array)\n",
    "print(array.mean(), array.std())"
   ]
  },
  {
   "cell_type": "code",
   "execution_count": 9,
   "metadata": {},
   "outputs": [
    {
     "name": "stdout",
     "output_type": "stream",
     "text": [
      "{'B365H': (3.1630270400481795, 1.4687447460469159, 46.0), 'HS': (11.39694154084398, 4.709404811489129, 43.0), 'HST': (4.815343915343916, 2.759941394538306, 24.0), 'HC': (5.34632855852368, 2.842282967456132, 24.0), 'HF': (11.421925409730287, 3.7612036770331043, 77.0), 'HY': (1.5455413601755066, 1.2348960213340971, 11.0), 'HR': (0.08013937282229965, 0.2855927650445304, 3.0)}\n"
     ]
    }
   ],
   "source": [
    "std_path = os.path.join('./data', 'datasets', id_to_ids_filename + \".json\")\n",
    "std_params = get_standardization_params(df)\n",
    "print(std_params)\n",
    "data_helpers.SaveJsonData(std_params, std_path)\n",
    "std_params = data_helpers.LoadJsonData(std_path)"
   ]
  },
  {
   "cell_type": "code",
   "execution_count": 10,
   "metadata": {},
   "outputs": [
    {
     "data": {
      "text/plain": [
       "38745"
      ]
     },
     "execution_count": 10,
     "metadata": {},
     "output_type": "execute_result"
    }
   ],
   "source": [
    "ds_path = os.path.join('./data', 'datasets', id_to_ids_filename)\n",
    "\n",
    "# ds = generate_dataset_uk(df, id_to_ids, tokenizer_team, std_params)\n",
    "# tf.data.Dataset.save(ds, ds_path)\n",
    "\n",
    "ds = tf.data.Dataset.load(ds_path)\n",
    "len(ds)"
   ]
  },
  {
   "cell_type": "code",
   "execution_count": 11,
   "metadata": {},
   "outputs": [
    {
     "name": "stdout",
     "output_type": "stream",
     "text": [
      "tf.Tensor(128479, shape=(), dtype=int32)\n",
      "tf.Tensor(\n",
      "[ 1.2847000e+05  4.0000000e+00  1.7490000e+03  2.3000000e+01\n",
      "  7.0000000e+01 -5.1950961e-01  5.9215844e-02 -3.6972186e-01\n",
      " -5.8759499e-01  2.5173169e-02 -3.4929624e-01 -4.8546696e-01\n",
      " -1.1099753e-01 -4.8546696e-01 -4.5142427e-01 -4.2912181e-02\n",
      " -4.5142427e-01  0.0000000e+00  1.0000000e+00  0.0000000e+00\n",
      "  1.0000000e+00  3.0000000e+00  3.0000000e+00 -7.2131014e-01\n",
      " -7.2131014e-01 -2.9542074e-01 -6.5774727e-01 -8.2550842e-01\n",
      " -4.7367859e-01  4.1956636e-01  4.1956636e-01 -4.4177109e-01\n",
      "  1.1777985e+00 -2.8060716e-01 -2.8060716e-01], shape=(35,), dtype=float32)\n"
     ]
    }
   ],
   "source": [
    "cnt = 600\n",
    "for (baseId, sequence, base_bb, base_label) in ds:\n",
    "    cnt -= 1\n",
    "    if cnt == 0:\n",
    "        print(baseId)\n",
    "        print(sequence[0])\n",
    "        break\n",
    "# [div 4, teams 8, odds 12, goals 16, results 8, Shoot 2, ShootT 2;    Corner 2, Faul 2, Yellow 2, Red 2]\n",
    "# 0 Yellows -> -1.25, 0 Reds -> -.2806"
   ]
  },
  {
   "cell_type": "code",
   "execution_count": 12,
   "metadata": {},
   "outputs": [],
   "source": [
    "TRAIN_PERCENT= 90"
   ]
  },
  {
   "cell_type": "code",
   "execution_count": 13,
   "metadata": {},
   "outputs": [
    {
     "name": "stdout",
     "output_type": "stream",
     "text": [
      "34870 3875 38745 0\n"
     ]
    }
   ],
   "source": [
    "\n",
    "dataset_size = len(ds)\n",
    "train_size = int(TRAIN_PERCENT/100 * dataset_size)\n",
    "test_size = dataset_size - train_size\n",
    "\n",
    "train_ds = ds.take(train_size)\n",
    "test_ds = ds.skip(train_size)\n",
    "\n",
    "print(len(train_ds), len(test_ds), len(ds), len(ds)-len(train_ds)-len(test_ds))"
   ]
  },
  {
   "cell_type": "code",
   "execution_count": 14,
   "metadata": {},
   "outputs": [],
   "source": [
    "BUFFER_SIZE = 20000"
   ]
  },
  {
   "cell_type": "code",
   "execution_count": 15,
   "metadata": {},
   "outputs": [],
   "source": [
    "dummy_bbas_tensor = get_dummy_bbas_tensor_uk(df, tokenizer_team, std_params)"
   ]
  },
  {
   "cell_type": "code",
   "execution_count": 16,
   "metadata": {},
   "outputs": [],
   "source": [
    "def normalize_row(baseId, sequence, base_bb, base_label):\n",
    "    try:\n",
    "        seq_len_org = sequence.shape[0]\n",
    "        nMissings = MAX_TOKENS - seq_len_org    # MAX_TOKENS - tf.shape(sequence)[0].numpy()\n",
    "        if nMissings > 0:\n",
    "            block = tf.stack([dummy_bbas_tensor] * nMissings, axis=0)\n",
    "            sequence = tf.concat([sequence, block], axis=0) \n",
    "        # print(\"sequence 1\", sequence.shape)\n",
    "        # sequence[:, 2] = base[2] - sequence[:, 2]   # get delta days.\n",
    "        base_bb = base_bb[tf.newaxis, :]    # shape: (seq_len = 1, nFeatures)\n",
    "        mask = tf.Variable([1] * seq_len_org + [0] * nMissings, dtype=tf.int32) ## DO NOT USE tf.constant !!! unstable.\n",
    "        mask = mask[:, tf.newaxis] & mask[tf.newaxis, :]\n",
    "        # print('normalize', sequence.shape, base.shape, mask.shape, mask)\n",
    "        # seq_len_org = tf.Variable(seq_len_org, dtype=tf.int32)    #--------------------------------- comeback\n",
    "        return (baseId, sequence, base_bb, base_label, mask, seq_len_org)\n",
    "    except:\n",
    "        print('normalize_row exception')\n",
    "        print('norm 1', sequence.shape, base_bb.shape, base_label.shape, mask.shape, nMissings)\n",
    "        print('norm 2', baseId, sequence, base_label, mask, nMissings)\n",
    "        # return (baseId, sequence, base_bb, base_label, mask, seq_len_org)"
   ]
  },
  {
   "cell_type": "code",
   "execution_count": 17,
   "metadata": {},
   "outputs": [
    {
     "name": "stdout",
     "output_type": "stream",
     "text": [
      "tf.Tensor(128479, shape=(), dtype=int32)\n",
      "tf.Tensor(\n",
      "[ 1.2847000e+05  4.0000000e+00  1.7490000e+03  2.3000000e+01\n",
      "  7.0000000e+01 -5.1950961e-01  5.9215844e-02 -3.6972186e-01\n",
      " -5.8759499e-01  2.5173169e-02 -3.4929624e-01 -4.8546696e-01\n",
      " -1.1099753e-01 -4.8546696e-01 -4.5142427e-01 -4.2912181e-02\n",
      " -4.5142427e-01  0.0000000e+00  1.0000000e+00  0.0000000e+00\n",
      "  1.0000000e+00  3.0000000e+00  3.0000000e+00 -7.2131014e-01\n",
      " -7.2131014e-01 -2.9542074e-01 -6.5774727e-01 -8.2550842e-01\n",
      " -4.7367859e-01  4.1956636e-01  4.1956636e-01 -4.4177109e-01\n",
      "  1.1777985e+00 -2.8060716e-01 -2.8060716e-01], shape=(35,), dtype=float32)\n"
     ]
    }
   ],
   "source": [
    "cnt = 600\n",
    "for (baseId, sequence, base_bb, base_label) in train_ds:\n",
    "    z = normalize_row(baseId, sequence, base_bb, base_label)\n",
    "    cnt -= 1\n",
    "    if cnt == 0:\n",
    "        print(baseId)\n",
    "        print(sequence[0])\n",
    "        break\n",
    "# [div 4, teams 8, odds 12, goals 16, results 8, Shoot 2, ShootT 2;    Corner 2, Faul 2, Yellow 2, Red 2]\n",
    "# 0 Yellows -> -1.25, 0 Reds -> -.2806"
   ]
  },
  {
   "cell_type": "code",
   "execution_count": 18,
   "metadata": {},
   "outputs": [],
   "source": [
    "class hyperparams:    \n",
    "    nDivisions = 4 + 1  # E0, E1, E2, E3, and Unknown\n",
    "    division_embs = 4\n",
    "    nTeams = tokenizer_team.get_vocab_size()    # including Unknown\n",
    "    team_embs = 50\n",
    "    nGoals  = 10  # 0 for 0 goals not for Unknown.\n",
    "    goal_embs = 4\n",
    "    nResults = 4    # HWin, Draw, AWin, and Unknown\n",
    "    result_embs = 4\n",
    "    # Mate d_model an even number!!!\n",
    "    d_model = get_std_size()    + division_embs * len(Div_cols) + team_embs * len(Team_cols) \\\n",
    "                                + goal_embs * len(Goal_cols) + result_embs * len(Result_cols)\n",
    "    batch_size = BATCH_SIZE\n",
    "    max_tokens = MAX_TOKENS\n",
    "    days_spanning_years = 30\n",
    "    num_heads = 6\n",
    "    num_layers = 6\n",
    "    memory_365_size = 10\n",
    "    # d_model = team_emb_size * 2 + country_emb_size * 3 + odds_size + outcome_size"
   ]
  },
  {
   "cell_type": "code",
   "execution_count": 19,
   "metadata": {},
   "outputs": [],
   "source": [
    "def prepare_batch(baseId, sequence, base_bb, base_label, mask, seq_len_org):\n",
    "    # target = tf.one_hot(tf.squeeze(tf.cast(base_bbab[:, :, -1], dtype=tf.int32), axis=-1), hyperparams.target_onehot_size)\n",
    "    \n",
    "    return (baseId, sequence, base_bb, mask), (base_label, seq_len_org)     # (X, Y)"
   ]
  },
  {
   "cell_type": "code",
   "execution_count": 20,
   "metadata": {},
   "outputs": [],
   "source": [
    "def make_batches(ds):\n",
    "    return (\n",
    "        ds\n",
    "        .shuffle(BUFFER_SIZE)\n",
    "        .map(lambda baseId, sequence, base_bb, base_label: tf.py_function(\n",
    "            func=normalize_row,\n",
    "            inp=[baseId, sequence, base_bb, base_label],\n",
    "            Tout=[tf.int32, tf.float32, tf.float32, tf.float32, tf.int32, tf.int32])) #, tf.data.AUTOTUNE == Instability!!!\n",
    "        .batch(BATCH_SIZE)\n",
    "        .map(prepare_batch, tf.data.AUTOTUNE)\n",
    "        .cache()\n",
    "        .prefetch(buffer_size=tf.data.AUTOTUNE)\n",
    "        )\n",
    "# Normalize_row\n",
    "# In: baseId, sequence, base_bb, base_label\n",
    "# Out: baseId, sequence, base_bb, base_label, mask, seq_len_org"
   ]
  },
  {
   "cell_type": "code",
   "execution_count": 21,
   "metadata": {},
   "outputs": [],
   "source": [
    "train_ds_path = os.path.join('./data', 'datasets', id_to_ids_filename + '_train_' + str(TRAIN_PERCENT) + '_' + str(BATCH_SIZE))\n",
    "if os.path.exists(train_ds_path):\n",
    "    train_batches = tf.data.Dataset.load(train_ds_path)\n",
    "else:\n",
    "    train_batches = make_batches(train_ds)\n",
    "    tf.data.Dataset.save(train_batches, train_ds_path)"
   ]
  },
  {
   "cell_type": "code",
   "execution_count": 22,
   "metadata": {},
   "outputs": [],
   "source": [
    "test_ds_path = os.path.join('./data', 'datasets', id_to_ids_filename + '_test_' + str(TRAIN_PERCENT) + '_' + str(BATCH_SIZE))\n",
    "if os.path.exists(test_ds_path):\n",
    "    test_batches = tf.data.Dataset.load(test_ds_path)\n",
    "else:\n",
    "    test_batches = make_batches(test_ds)\n",
    "    tf.data.Dataset.save(test_batches, test_ds_path)"
   ]
  },
  {
   "cell_type": "code",
   "execution_count": 23,
   "metadata": {},
   "outputs": [],
   "source": [
    "def positional_encoding(memory, depth):\n",
    "    positions = tf.range(memory.shape[-1], dtype=tf.float32)\n",
    "    fractional_pos = memory * positions    # fractional position: (batch, fractional position #)\n",
    "    depth = depth/2\n",
    "    depths = tf.range(depth, dtype=tf.float32) / depth\n",
    "    depths = tf.pow(10000.0, depths)    # (depth,)\n",
    "    angle_rads = fractional_pos[:, :, tf.newaxis] / depths  # (batch, fractional position #, depth)\n",
    "    # pos_encoding = rearrange([tf.math.sin(angle_rads), tf.math.cos(angle_rads)], 'w b p d -> w h (w t)')\n",
    "    pos_encoding = tf.concat([tf.math.sin(angle_rads), tf.math.cos(angle_rads)], axis=-1)\n",
    "    return pos_encoding"
   ]
  },
  {
   "cell_type": "code",
   "execution_count": 24,
   "metadata": {},
   "outputs": [
    {
     "data": {
      "image/png": "[encoded data removed]",
      "text/plain": [
       "<Figure size 640x480 with 2 Axes>"
      ]
     },
     "metadata": {},
     "output_type": "display_data"
    }
   ],
   "source": [
    "memory = tf.ones((100, 200), dtype=tf.float32) * 0.5\n",
    "pos_encoding = positional_encoding(memory, depth=512)\n",
    "# print('pos_encoding', pos_encoding.shape)\n",
    "pos_encoding = pos_encoding[0, :, :]\n",
    "# print(pos_encoding.shape)\n",
    "# Plot the dimensions.\n",
    "plt.pcolormesh(pos_encoding.numpy().T, cmap='RdBu')\n",
    "plt.ylabel('Depth')\n",
    "plt.xlabel('Position')\n",
    "plt.colorbar()\n",
    "plt.show()"
   ]
  },
  {
   "cell_type": "code",
   "execution_count": 25,
   "metadata": {},
   "outputs": [],
   "source": [
    "id_cols = ['id']\n",
    "Div_cols = ['Div']\n",
    "Date_cols = ['Date']\n",
    "Team_cols = ['HomeTeam', 'AwayTeam']\n",
    "Odds_cols = ['B365H', 'B365D', 'B365A', 'BWH', 'BWD', 'BWA', 'IWH', 'IWD', 'IWA', 'WHH', 'WHD', 'WHA']\n",
    "BB_cols = id_cols + Div_cols + Date_cols + Team_cols + Odds_cols\n",
    "\n",
    "Half_Goal_cols = ['HTHG', 'HTAG']\n",
    "Full_Goal_cols = ['FTHG', 'FTAG']\n",
    "Goal_cols = Half_Goal_cols + Full_Goal_cols\n",
    "Result_cols = ['HTR', 'FTR']    # A function of Goal_cols, but contribute to better representation.\n",
    "Shoot_cols = ['HS', 'AS']\n",
    "ShootT_cols = ['HST', 'AST']\n",
    "Corner_cols = ['HC', 'AC']\n",
    "Faul_cols = ['HF', 'AF']\n",
    "Yellow_cols = ['HY', 'AY']    # H/A Yellow Cards, H/A Red Cards\n",
    "Red_cols = ['HR', 'AR']    # H/A Yellow Cards, H/A Red Cards\n",
    "AB_cols = Goal_cols + Result_cols + Shoot_cols + ShootT_cols + Corner_cols + Faul_cols + Yellow_cols + Red_cols"
   ]
  },
  {
   "cell_type": "code",
   "execution_count": 26,
   "metadata": {},
   "outputs": [],
   "source": [
    "class PositionalEmbedding(tf.keras.layers.Layer):\n",
    "  def __init__(self, hyperparams, isEncoder=True):\n",
    "    super().__init__()\n",
    "    self.isEncoder = isEncoder\n",
    "    self.division_embedding = tf.keras.layers.Embedding(hyperparams.nDivisions, hyperparams.division_embs, dtype=tf.float32, mask_zero=False) # Learn Unknown\n",
    "    self.team_embedding = tf.keras.layers.Embedding(hyperparams.nTeams, hyperparams.team_embs, dtype=tf.float32, mask_zero=False) # Learn Unknown\n",
    "    self.goal_embedding = tf.keras.layers.Embedding(hyperparams.nGoals, hyperparams.goal_embs, dtype=tf.float32, mask_zero=False) # Learn 0-goal\n",
    "    self.result_embedding = tf.keras.layers.Embedding(hyperparams.nResults, hyperparams.result_embs, dtype=tf.float32, mask_zero=False) # Learn Unknown\n",
    "\n",
    "    self.d_model = hyperparams.d_model\n",
    "    # print(self.d_model)\n",
    "    self.position_permuting_dense = tf.keras.layers.Dense(self.d_model)\n",
    "    vocab_size = 1 + 1 # 1 for padding, 1 for our parameters.\n",
    "    self.memory_365_embedding = tf.keras.layers.Embedding(vocab_size, hyperparams.memory_365_size, mask_zero=False, embeddings_initializer = tf.keras.initializers.Ones())\n",
    "\n",
    "    self.idx_Days = BB_cols.index('Date')\n",
    "    assert self.idx_Days == BBAB_cols.index('Date')\n",
    "\n",
    "  def call(self, x):\n",
    "    # print('x', x[0].shape, x[1].shape)\n",
    "    (sequence, base_bb, mask) = x # sob = sequence or base_bb\n",
    "    sDays = sequence[:, :, self.idx_Days]\n",
    "    bDays = base_bb[:, :, self.idx_Days]\n",
    "    # print('days shapes', days.shape)\n",
    "    \n",
    "    # BB_cols = id_cols + Div_cols + Date_cols + Team_cols + Odds_cols\n",
    "    # AB_cols = Goal_cols + Result_cols + Shoot_cols + ShootT_cols + Corner_cols + Faul_cols + Yellow_cols + Red_cols\n",
    "\n",
    "    sob = None\n",
    "    if self.isEncoder:\n",
    "      sob = sequence\n",
    "    else:\n",
    "      sob = base_bb\n",
    "\n",
    "    if self.isEncoder:\n",
    "      id, div, days, teams, odds, goals, results, remainder \\\n",
    "      = tf.split(sob, [len(id_cols), len(Div_cols), len(Date_cols), len(Team_cols), len(Odds_cols), len(Goal_cols), len(Result_cols),  -1], axis=-1)\n",
    "      # print('1', remainder[0, 0])\n",
    "    else:\n",
    "      id, div, days, teams, remainder \\\n",
    "      = tf.split(sob, [len(id_cols), len(Div_cols), len(Date_cols), len(Team_cols), -1], axis=-1)  \n",
    "      # print('2', remainder[0, 0])  \n",
    "\n",
    "    div = self.division_embedding(tf.cast(div, dtype=tf.int32))\n",
    "    div = tf.reshape(div, [div.shape[0], div.shape[1], -1])\n",
    "    teams = self.team_embedding(tf.cast(teams, dtype=tf.int32))\n",
    "    teams = tf.reshape(teams, [teams.shape[0], teams.shape[1], -1])\n",
    "    if self.isEncoder:\n",
    "      goals = self.goal_embedding(tf.cast(goals, dtype=tf.int32))\n",
    "      goals = tf.clip_by_value(goals, 0, hyperparams.nGoals)\n",
    "      goals = tf.reshape(goals, [goals.shape[0], goals.shape[1], -1])\n",
    "      results = self.result_embedding(tf.cast(results, dtype=tf.int32))\n",
    "      results = tf.reshape(results, [results.shape[0], results.shape[1], -1])\n",
    "    \n",
    "    if self.isEncoder:\n",
    "      concat = [div, teams, odds, goals, results, remainder]\n",
    "      # print('10', div.shape, teams.shape, odds.shape, goals.shape, results.shape, remainder.shape)\n",
    "      # print('11', remainder[0,0])\n",
    "    else:\n",
    "      concat = [div, teams, remainder]\n",
    "      # print('22', remainder[0,0])\n",
    "\n",
    "    sob = tf.concat(concat, axis=-1)\n",
    "    sob = self.position_permuting_dense(sob)  #====================================================\n",
    "    # print('33', sob[0][0])\n",
    "\n",
    "    days_ago = tf.cast(bDays - sDays, dtype=tf.float32) if self.isEncoder else tf.cast(bDays - bDays, dtype=tf.float32)\n",
    "    # print('days_ago', days_ago.shape) # (batch, seq_len)\n",
    "    # Do not use tf.zeros, because it's padding token and gives zeros.\n",
    "    initial_memory_365 = 0.8\n",
    "    memory_365 = self.memory_365_embedding(tf.ones_like((hyperparams.memory_365_size,), dtype=tf.float32)) * initial_memory_365  # expected shape: (1, hyperparams.remain_365_size,)\n",
    "    memory_365 = tf.squeeze(memory_365, axis=0)\n",
    "    # print('memory_365 1', memory_365.shape, memory_365) # (hyperparams.memory_365,)\n",
    "    # It may be disastrous if some of remain_365 gets larger than 1. \n",
    "    memory_365 = tf.clip_by_value(memory_365, 0.01, 1.0)  # Is clip differentiable?\n",
    "    # print('remmemory_365 2', memory_365.shape) # (hyperparams.memory_365,)\n",
    "    # print('memory_365', memory_365)\n",
    "    alpha = tf.math.pow(memory_365, -1.0/365) # (hyperparams.memory_365,)\n",
    "    memory = tf.math.pow(alpha, -days_ago[:, :, tf.newaxis])  # decrease as days_ago increase.  memory <= 1.0\n",
    "    # print('memory org', memory.shape) # (batch, max_seq_len, hyperparams.memory_365)\n",
    "    # print('memory[0,0,:]', memory[0, 0, :])\n",
    "    memory = tf.reduce_mean(memory, axis=-1)\n",
    "    # print('memory', memory.shape) # (batch, max_seq_len)\n",
    "\n",
    "    pe = positional_encoding(memory, depth=sob.shape[-1])\n",
    "    # print('x, pe, d_model', x.shape, pe.shape, self.d_model)\n",
    "\n",
    "    # This factor sets the relative scale of the embedding and positonal_encoding.\n",
    "    pe = pe / tf.math.sqrt(tf.cast(sob.shape[-1], tf.float32)) #=================================\n",
    "\n",
    "    sob = sob + pe  # comeback\n",
    "\n",
    "    if self.isEncoder:\n",
    "      mask = mask\n",
    "    else:\n",
    "      mask = mask[:, 0:sob.shape[1], :]\n",
    "\n",
    "    return (sob, mask)"
   ]
  },
  {
   "cell_type": "code",
   "execution_count": 27,
   "metadata": {},
   "outputs": [
    {
     "name": "stdout",
     "output_type": "stream",
     "text": [
      "(48, 200, 152) (48, 200, 200)\n"
     ]
    }
   ],
   "source": [
    "pos = PositionalEmbedding(hyperparams, isEncoder=True)\n",
    "\n",
    "cnt = 2\n",
    "for z in train_batches:\n",
    "    (baseId, sequence, base_bb, mask), (base_label, seq_len_org) = z\n",
    "    cnt -= 1\n",
    "    if cnt == 0: break\n",
    "# print('baseId', baseId)\n",
    "x = (sequence, base_bb, mask)\n",
    "eSob, eMask = pos.call(x)\n",
    "print(eSob.shape, eMask.shape)"
   ]
  },
  {
   "cell_type": "code",
   "execution_count": 28,
   "metadata": {},
   "outputs": [
    {
     "name": "stdout",
     "output_type": "stream",
     "text": [
      "[(5, 4), (113, 50), (10, 4), (4, 4), (152, 152), (152,), (2, 10)]\n"
     ]
    }
   ],
   "source": [
    "ws = pos.get_weights()\n",
    "shapes = [w.shape for w in ws]\n",
    "print(shapes)\n",
    "del pos\n",
    "# div (nDiv, embs), (nTeam, embs), (nGoals, embs), (nResults, embs), \n",
    "# (position_permuting_dense: d_model, d_model), (???: d_model,), (memory_365_embedding: 2, memory_365_size)"
   ]
  },
  {
   "cell_type": "code",
   "execution_count": 29,
   "metadata": {},
   "outputs": [
    {
     "name": "stdout",
     "output_type": "stream",
     "text": [
      "(48, 1, 152) (48, 1, 200)\n"
     ]
    }
   ],
   "source": [
    "pos = PositionalEmbedding(hyperparams, isEncoder=False)\n",
    "\n",
    "cnt = 1\n",
    "for z in train_batches:\n",
    "    (baseId, sequence, base_bb, mask), (base_label, seq_len_org) = z\n",
    "    cnt -= 1\n",
    "    if cnt == 0: break\n",
    "x = (sequence, base_bb, mask)\n",
    "dSob, dMask = pos.call(x)\n",
    "print(dSob.shape, dMask.shape)"
   ]
  },
  {
   "cell_type": "code",
   "execution_count": 30,
   "metadata": {},
   "outputs": [
    {
     "name": "stdout",
     "output_type": "stream",
     "text": [
      "[(5, 4), (113, 50), (116, 152), (152,), (2, 10)]\n"
     ]
    }
   ],
   "source": [
    "ws = pos.get_weights()\n",
    "shapes = [w.shape for w in ws]\n",
    "print(shapes)\n",
    "del pos\n",
    "# div (nDiv, embs), (nTeam, embs), \n",
    "# (position_permuting_dense: d_model, d_model), (???: d_model,), (memory_365_embedding: 2, memory_365_size)"
   ]
  },
  {
   "cell_type": "code",
   "execution_count": 31,
   "metadata": {},
   "outputs": [],
   "source": [
    "class BaseAttention(tf.keras.layers.Layer):\n",
    "  def __init__(self, **kwargs):\n",
    "    super().__init__()\n",
    "    self.mha = tf.keras.layers.MultiHeadAttention(**kwargs)\n",
    "    self.layernorm = tf.keras.layers.LayerNormalization()   # So the default -1 axix is normalized across. No inter-token operatoin.\n",
    "    self.add = tf.keras.layers.Add()"
   ]
  },
  {
   "cell_type": "code",
   "execution_count": 32,
   "metadata": {},
   "outputs": [],
   "source": [
    "class CrossAttention(BaseAttention):\n",
    "  def call(self, x, context, mask):\n",
    "    attn_output, attn_scores = self.mha(\n",
    "        query=x,\n",
    "        key=context,\n",
    "        value=context,\n",
    "        attention_mask=mask,\n",
    "        return_attention_scores=True)\n",
    "   \n",
    "    # Cache the attention scores for plotting later.\n",
    "    self.last_attn_scores = attn_scores\n",
    "\n",
    "    x = self.add([x, attn_output])\n",
    "    x = self.layernorm(x)\n",
    "\n",
    "    return x"
   ]
  },
  {
   "cell_type": "code",
   "execution_count": 33,
   "metadata": {},
   "outputs": [
    {
     "name": "stdout",
     "output_type": "stream",
     "text": [
      "(48, 200, 152) (48, 200, 200)\n"
     ]
    }
   ],
   "source": [
    "PE = PositionalEmbedding(hyperparams, isEncoder=True)\n",
    "eSob, eMask = PE(x)\n",
    "print(eSob.shape, eMask.shape )"
   ]
  },
  {
   "cell_type": "code",
   "execution_count": 34,
   "metadata": {},
   "outputs": [
    {
     "name": "stdout",
     "output_type": "stream",
     "text": [
      "(48, 1, 152) (48, 1, 200)\n"
     ]
    }
   ],
   "source": [
    "PE = PositionalEmbedding(hyperparams, isEncoder=False)\n",
    "dSob, dMask = PE(x)\n",
    "print(dSob.shape, dMask.shape )"
   ]
  },
  {
   "cell_type": "code",
   "execution_count": 35,
   "metadata": {},
   "outputs": [
    {
     "name": "stdout",
     "output_type": "stream",
     "text": [
      "(48, 1, 152)\n"
     ]
    }
   ],
   "source": [
    "sample_ca = CrossAttention(num_heads=2, key_dim=hyperparams.d_model)\n",
    "print(sample_ca(dSob, eSob, dMask).shape)"
   ]
  },
  {
   "cell_type": "code",
   "execution_count": 36,
   "metadata": {},
   "outputs": [],
   "source": [
    "class GlobalSelfAttention(BaseAttention): \n",
    "  def call(self, x, mask):\n",
    "    attn_output = self.mha(\n",
    "        query=x,\n",
    "        value=x,\n",
    "        key=x,\n",
    "        attention_mask=mask)    # intentional inter-token operation\n",
    "    x = self.add([x, attn_output])  # token-wise\n",
    "    x = self.layernorm(x)         # normalize across the default -1 axis. No inter-token operatoin.\n",
    "    return x"
   ]
  },
  {
   "cell_type": "code",
   "execution_count": 37,
   "metadata": {},
   "outputs": [
    {
     "name": "stdout",
     "output_type": "stream",
     "text": [
      "(48, 200, 152)\n"
     ]
    }
   ],
   "source": [
    "sample_gsa = GlobalSelfAttention(num_heads=2, key_dim=hyperparams.d_model)\n",
    "print(sample_gsa(eSob, eMask).shape)\n",
    "del sample_gsa"
   ]
  },
  {
   "cell_type": "code",
   "execution_count": 38,
   "metadata": {},
   "outputs": [],
   "source": [
    "class CausalSelfAttention(BaseAttention): # mask-agnostic\n",
    "  def call(self, x):\n",
    "    attn_output = self.mha(\n",
    "        query=x,\n",
    "        value=x,\n",
    "        key=x,\n",
    "        use_causal_mask = True)     # look-over mask is generagted and used, in decoder layers\n",
    "    x = self.add([x, attn_output])  # mask-agnostic\n",
    "    x = self.layernorm(x)  # normalize across the default -1 axis. No inter-token operatoin.\n",
    "    return x"
   ]
  },
  {
   "cell_type": "code",
   "execution_count": 39,
   "metadata": {},
   "outputs": [
    {
     "name": "stdout",
     "output_type": "stream",
     "text": [
      "(48, 1, 152)\n"
     ]
    }
   ],
   "source": [
    "sample_csa = CausalSelfAttention(num_heads=2, key_dim=hyperparams.d_model)\n",
    "print(sample_csa(dSob).shape)\n",
    "del sample_csa"
   ]
  },
  {
   "cell_type": "code",
   "execution_count": 40,
   "metadata": {},
   "outputs": [],
   "source": [
    "class FeedForward(tf.keras.layers.Layer):\n",
    "  def __init__(self, d_model, dff, dropout_rate=0.1):\n",
    "    super().__init__()\n",
    "    self.seq = tf.keras.Sequential([\n",
    "      tf.keras.layers.Dense(dff, activation='relu'),    # across -1 axis\n",
    "      tf.keras.layers.Dense(d_model),    # across -1 axis\n",
    "      tf.keras.layers.Dropout(dropout_rate)    # mask-agnostic\n",
    "    ])\n",
    "    self.add = tf.keras.layers.Add()\n",
    "    self.layer_norm = tf.keras.layers.LayerNormalization()\n",
    "\n",
    "  def call(self, x):\n",
    "    x = self.add([x, self.seq(x)])  # mask-agnostic\n",
    "    x = self.layer_norm(x)  # normalize across the default -1 axis. No inter-token operatoin.\n",
    "    return x"
   ]
  },
  {
   "cell_type": "code",
   "execution_count": 41,
   "metadata": {},
   "outputs": [
    {
     "name": "stdout",
     "output_type": "stream",
     "text": [
      "(48, 200, 152)\n"
     ]
    }
   ],
   "source": [
    "sample_ffn = FeedForward(hyperparams.d_model, hyperparams.d_model * 4)\n",
    "print(sample_ffn(eSob).shape)\n",
    "del sample_ffn"
   ]
  },
  {
   "cell_type": "code",
   "execution_count": 42,
   "metadata": {},
   "outputs": [],
   "source": [
    "class EncoderLayer(tf.keras.layers.Layer):\n",
    "  def __init__(self,*, d_model, num_heads, dff, dropout_rate=0.1):\n",
    "    super().__init__()\n",
    "\n",
    "    self.self_attention = GlobalSelfAttention(\n",
    "        num_heads=num_heads,\n",
    "        key_dim=d_model,\n",
    "        dropout=dropout_rate)\n",
    "\n",
    "    self.ffn = FeedForward(d_model, dff)\n",
    "\n",
    "  def call(self, x, mask):\n",
    "    x = self.self_attention(x, mask)\n",
    "    x = self.ffn(x)\n",
    "    return x"
   ]
  },
  {
   "cell_type": "code",
   "execution_count": 43,
   "metadata": {},
   "outputs": [
    {
     "name": "stdout",
     "output_type": "stream",
     "text": [
      "(48, 200, 152)\n"
     ]
    }
   ],
   "source": [
    "sample_encoder_layer = EncoderLayer(d_model=hyperparams.d_model, num_heads=hyperparams.num_heads, dff=hyperparams.d_model * 4)\n",
    "print(sample_encoder_layer(eSob, eMask).shape)\n",
    "del sample_encoder_layer"
   ]
  },
  {
   "cell_type": "code",
   "execution_count": 44,
   "metadata": {},
   "outputs": [],
   "source": [
    "class Encoder(tf.keras.layers.Layer):\n",
    "  def __init__(self, hyperparams, dropout_rate=0.1):\n",
    "    super().__init__()\n",
    "\n",
    "    self.d_model = hyperparams.d_model\n",
    "    self.num_layers = hyperparams.num_layers\n",
    "\n",
    "    self.pos_embedding = PositionalEmbedding(hyperparams)\n",
    "\n",
    "    self.dropout = tf.keras.layers.Dropout(dropout_rate)\n",
    "    self.enc_layers = [\n",
    "        EncoderLayer(d_model=hyperparams.d_model,\n",
    "                     num_heads=hyperparams.num_heads,\n",
    "                     dff=hyperparams.d_model * 4,\n",
    "                     dropout_rate=dropout_rate)\n",
    "        for _ in range(hyperparams.num_layers)]\n",
    "\n",
    "  def call(self, x):\n",
    "    x, mask = self.pos_embedding(x)  # output Shape `(batch_size, seq_len, d_model)`.\n",
    "\n",
    "    x = self.dropout(x)\n",
    "    for encoder_layer in self.enc_layers:\n",
    "      x = encoder_layer(x, mask)\n",
    "\n",
    "    return x  # Shape `(batch_size, seq_len, d_model)`."
   ]
  },
  {
   "cell_type": "code",
   "execution_count": 45,
   "metadata": {},
   "outputs": [
    {
     "name": "stdout",
     "output_type": "stream",
     "text": [
      "(48, 200, 152)\n"
     ]
    }
   ],
   "source": [
    "sample_encoder = Encoder(hyperparams)\n",
    "for z in train_batches:\n",
    "    (baseId, sequence, base_bb, mask), (base_label, seq_len_org) = z\n",
    "    x = (sequence, base_bb, mask)\n",
    "    sample_encoder_output = sample_encoder(x)\n",
    "    print(sample_encoder_output.shape)\n",
    "    break\n",
    "del sample_encoder"
   ]
  },
  {
   "cell_type": "code",
   "execution_count": 46,
   "metadata": {},
   "outputs": [],
   "source": [
    "class DecoderLayer(tf.keras.layers.Layer):\n",
    "  def __init__(self,\n",
    "               *,\n",
    "               d_model,\n",
    "               num_heads,\n",
    "               dff,\n",
    "               dropout_rate=0.1):\n",
    "    super(DecoderLayer, self).__init__()\n",
    "\n",
    "    self.causal_self_attention = CausalSelfAttention(\n",
    "        num_heads=num_heads,\n",
    "        key_dim=d_model,\n",
    "        dropout=dropout_rate)\n",
    "    \n",
    "    self.cross_attention = CrossAttention(\n",
    "        num_heads=num_heads,\n",
    "        key_dim=d_model,\n",
    "        dropout=dropout_rate)\n",
    "\n",
    "    self.ffn = FeedForward(d_model, dff)\n",
    "\n",
    "  def call(self, x, context, cross_attention_mask):\n",
    "    x = self.causal_self_attention(x=x)\n",
    "    x = self.cross_attention(x, context, cross_attention_mask)\n",
    "\n",
    "    # Cache the last attention scores for plotting later\n",
    "    self.last_attn_scores = self.cross_attention.last_attn_scores\n",
    "\n",
    "    x = self.ffn(x)  # Shape `(batch_size, seq_len, d_model)`.\n",
    "    return x"
   ]
  },
  {
   "cell_type": "code",
   "execution_count": 47,
   "metadata": {},
   "outputs": [
    {
     "name": "stdout",
     "output_type": "stream",
     "text": [
      "(48, 200, 152)\n"
     ]
    }
   ],
   "source": [
    "sample_decoder_layer = DecoderLayer(d_model=hyperparams.d_model, num_heads=hyperparams.num_heads, dff=hyperparams.d_model * 4)\n",
    "print(sample_decoder_layer(dSob, eSob, eMask).shape)\n",
    "del sample_decoder_layer"
   ]
  },
  {
   "cell_type": "code",
   "execution_count": 48,
   "metadata": {},
   "outputs": [],
   "source": [
    "class Decoder(tf.keras.layers.Layer):\n",
    "  def __init__(self, hyperparams, dropout_rate=0.1):\n",
    "    super(Decoder, self).__init__()\n",
    "\n",
    "    self.d_model = hyperparams.d_model\n",
    "    self.num_layers = hyperparams.num_layers\n",
    "\n",
    "    self.pos_embedding = PositionalEmbedding(hyperparams, isEncoder=False)\n",
    "\n",
    "    self.dropout = tf.keras.layers.Dropout(dropout_rate)\n",
    "    self.dec_layers = [\n",
    "        DecoderLayer(d_model=hyperparams.d_model, num_heads=hyperparams.num_heads,\n",
    "                     dff=hyperparams.d_model * 4, dropout_rate=dropout_rate)\n",
    "        for _ in range(hyperparams.num_layers)]\n",
    "\n",
    "    self.last_attn_scores = None\n",
    "\n",
    "  def call(self, x, context):\n",
    "    # `x` is token-IDs shape (batch, target_seq_len)\n",
    "    x, cross_attention_mask = self.pos_embedding(x)  # (batch_size, target_seq_len, d_model)\n",
    "    # print('decoder input x, cross_attention_mask', x.shape, cross_attention_mask.shape)\n",
    "    \n",
    "    x = self.dropout(x)\n",
    "    for decoder_layer in self.dec_layers:\n",
    "      x  = decoder_layer(x, context, cross_attention_mask)\n",
    "    self.last_attn_scores = self.dec_layers[-1].last_attn_scores\n",
    "\n",
    "    # The shape of x is (batch_size, target_seq_len, d_model).\n",
    "    return x"
   ]
  },
  {
   "cell_type": "code",
   "execution_count": 49,
   "metadata": {},
   "outputs": [
    {
     "name": "stdout",
     "output_type": "stream",
     "text": [
      "(48, 1, 152)\n"
     ]
    }
   ],
   "source": [
    "sample_decoder = Decoder(hyperparams)\n",
    "for z in train_batches:\n",
    "    (baseId, sequence, base_bb, mask), (base_label, seq_len_org) = z\n",
    "    x = (sequence, base_bb, mask)\n",
    "    break\n",
    "print(sample_decoder(x, eSob).shape)\n",
    "del sample_decoder"
   ]
  },
  {
   "cell_type": "code",
   "execution_count": 50,
   "metadata": {},
   "outputs": [],
   "source": [
    "class Transformer(tf.keras.Model):\n",
    "  def __init__(self, hyperparams, dropout_rate=0.1):\n",
    "    super().__init__()\n",
    "    self.encoder = Encoder(hyperparams, dropout_rate=dropout_rate)\n",
    "\n",
    "    self.decoder = Decoder(hyperparams, dropout_rate=dropout_rate)\n",
    "\n",
    "    self.final_layer = tf.keras.layers.Dense(hyperparams.d_model) #-------------- to modify\n",
    "\n",
    "  def call(self, inputs):\n",
    "    # To use a Keras model with `.fit` you must pass all your inputs in the\n",
    "    # first argument.\n",
    "    # context = inputs\n",
    "    # x = inputs\n",
    "\n",
    "    # print('transformer, inputs', len(inputs), inputs[0].shape, inputs[1].shape, tf.rank(inputs[0]), tf.rank(inputs[1]))\n",
    "    # print('transformer, inputs', len(inputs), tf.shape(inputs[0]), tf.shape(inputs[1]), tf.rank(inputs[0]), tf.rank(inputs[1]))\n",
    "    x = self.encoder(inputs)  # (batch_size, context_len, d_model)\n",
    "    # print('transformer, encoder out', x.shape)\n",
    "    # print('transformer, decoder input', inputs[0].shape, inputs[1].shape, inputs[2].shape)\n",
    "    x = self.decoder(inputs, x)  # (batch_size, target_len, d_model)\n",
    "    # print('transformer, decoder out', x.shape)\n",
    "\n",
    "    # Final linear layer output.\n",
    "    logits = self.final_layer(x)  # (batch_size, target_len=1, target_vocab_size)\n",
    "    logits = tf.squeeze(logits, axis=-2)\n",
    "    # print('transformer, logits', logits.shape)\n",
    "\n",
    "    try:\n",
    "      # Drop the keras mask, so it doesn't scale the losses/metrics.\n",
    "      # b/250038731\n",
    "      del logits._keras_mask\n",
    "    except AttributeError:\n",
    "      pass\n",
    "\n",
    "    # Return the final output and the attention weights.\n",
    "    return logits\n",
    "  \n",
    "  def train_step(self, data):\n",
    "      # Unpack the data. Its structure depends on your model and\n",
    "      # on what you pass to `fit()`.\n",
    "      x, y = data\n",
    "\n",
    "      # print('train_step', x[0].shape, x[1].shape)\n",
    "\n",
    "      with tf.GradientTape() as tape:\n",
    "          y_pred = self(x, training=True)  # Forward pass\n",
    "          # Compute the loss value\n",
    "          # (the loss function is configured in `compile()`)\n",
    "          loss = self.compute_loss(y=y, y_pred=y_pred)\n",
    "\n",
    "      # Compute gradients\n",
    "      trainable_vars = self.trainable_variables\n",
    "      gradients = tape.gradient(loss, trainable_vars)\n",
    "      # Update weights\n",
    "      self.optimizer.apply_gradients(zip(gradients, trainable_vars))\n",
    "      # Update metrics (includes the metric that tracks the loss)\n",
    "      for metric in self.metrics:\n",
    "          if metric.name == \"loss\":\n",
    "              metric.update_state(loss)\n",
    "          else:\n",
    "              metric.update_state(y, y_pred)\n",
    "      # Return a dict mapping metric names to current value\n",
    "      return {m.name: m.result() for m in self.metrics}"
   ]
  },
  {
   "cell_type": "code",
   "execution_count": 51,
   "metadata": {},
   "outputs": [
    {
     "name": "stdout",
     "output_type": "stream",
     "text": [
      "Model: \"transformer\"\n",
      "_________________________________________________________________\n",
      " Layer (type)                Output Shape              Param #   \n",
      "=================================================================\n",
      " encoder_1 (Encoder)         multiple                  4490506   \n",
      "                                                                 \n",
      " decoder_1 (Decoder)         multiple                  7831106   \n",
      "                                                                 \n",
      " dense_62 (Dense)            multiple                  23256     \n",
      "                                                                 \n",
      "=================================================================\n",
      "Total params: 12,344,868\n",
      "Trainable params: 12,344,868\n",
      "Non-trainable params: 0\n",
      "_________________________________________________________________\n"
     ]
    }
   ],
   "source": [
    "sample_transformer = Transformer(hyperparams)\n",
    "for z in train_batches:\n",
    "    (baseId, sequence, base_bb, mask), (base_label, seq_len_org) = z\n",
    "    x = (sequence, base_bb, mask)\n",
    "    break\n",
    "x = (sequence, base_bb, mask)\n",
    "y = sample_transformer(x)\n",
    "\n",
    "sample_transformer.summary()\n",
    "del sample_transformer"
   ]
  },
  {
   "cell_type": "code",
   "execution_count": 52,
   "metadata": {},
   "outputs": [],
   "source": [
    "class Adaptor(tf.keras.layers.Layer):\n",
    "  def __init__(self, d_model, dff, dropout_rate=0.1):\n",
    "    super().__init__()\n",
    "    self.seq = tf.keras.Sequential([\n",
    "      tf.keras.layers.Dense(dff, activation='relu'),    # across -1 axis\n",
    "      tf.keras.layers.Dense(d_model),    # across -1 axis\n",
    "      tf.keras.layers.Dropout(dropout_rate)    # mask-agnostic\n",
    "    ])\n",
    "    self.layer_norm = tf.keras.layers.LayerNormalization()\n",
    "\n",
    "  def call(self, x):\n",
    "    x = self.seq(x)\n",
    "    x = self.layer_norm(x)  # Do we need this?\n",
    "    return x"
   ]
  },
  {
   "cell_type": "code",
   "execution_count": 53,
   "metadata": {},
   "outputs": [],
   "source": [
    "class QGroup(tf.keras.Model):\n",
    "  softmax = tf.keras.layers.Softmax(axis=-1)\n",
    "  scalar_product = tf.keras.layers.Dot(axes=(-1, -1))\n",
    "\n",
    "  def __init__(self, bookie, nQueries, dropout_rate=0.1):\n",
    "    super().__init__()\n",
    "    self.bookie = bookie\n",
    "    self.nQueries = nQueries\n",
    "    self.bookieBase = Adaptor(self.nQueries, self.nQueries * 4)\n",
    "    self.oh_1 = Adaptor(self.nQueries, self.nQueries * 4)\n",
    "\n",
    "    return\n",
    "    \n",
    "  def call(self, input):\n",
    "    # inputs.shape: (batch, d_model)\n",
    "    base = self.bookieBase(input)        # (batch, nQueries)\n",
    "    stake_p = QGroup.softmax(base)            # (batch, nQueries)\n",
    "    oh_1_p = self.oh_1(base)                  # (batch, nQueries)\n",
    "    profit_p = tf.math.multiply(oh_1_p, stake_p)   # (batch, nQueries)\n",
    "    return (profit_p, stake_p)  # (batch, nQueries), (batch, nQueries) \n",
    "  \n",
    "  #----- ToDo: replace self.scalar_product layer with a tf scalar product function, for speed.\n",
    "  def h_true(ftGoals):  # Defines this QGroup. This is for 1X2 QGroup. Derived classes re-define this funciton.\n",
    "    # ftGoals:  (batch, 2)\n",
    "    ftGoals = tf.cast(ftGoals, dtype=tf.int32)  # (batch, 2)\n",
    "    h = (tf.math.greater(ftGoals[..., 0], ftGoals[..., 1]), tf.math.equal(ftGoals[..., 0], ftGoals[..., 1]), tf.math.less(ftGoals[..., 0], ftGoals[..., 1]))\n",
    "    h = tf.cast(tf.transpose(h), dtype=tf.float32)  # (batch, nQueries)\n",
    "    return h\n",
    "  \n",
    "  def stake_true(ftGoals):\n",
    "    return QGroup.h_true(ftGoals)   # (batch, nQueries)\n",
    "  \n",
    "  def profit_true(ftGoals, odds):\n",
    "    stake_t = QGroup.stake_true(ftGoals)  # (batch, nQueries)\n",
    "    oh_1_true = tf.math.multiply(odds, QGroup.h_true(ftGoals)) - 1.0  # (batch, nQueries)\n",
    "    profit_t = QGroup.scalar_product([oh_1_true, stake_t])  # (batch, nQueries)\n",
    "    return profit_t\n",
    "\n",
    "  def loss(profit_p, stake_p, ftGoals, odds, rambda):\n",
    "    # profit_p: (batch, nQueries)\n",
    "    # stake_p:  (batch, nQueries)\n",
    "    # ftGoals:  (batch, 2)\n",
    "    # odds:     (batch, nQueries)\n",
    "    # rambda:   ()\n",
    "    stake_t = QGroup.stake_true(ftGoals)  # (batch, nQueries)\n",
    "    oh_1_t = tf.math.multiply(odds, QGroup.h_true(ftGoals)) - 1.0   # (batch, nQueries)\n",
    "\n",
    "    if MAE_NOT_MCE_P_LOSS:\n",
    "      profit_t = QGroup.scalar_product([oh_1_t, stake_t])   # (batch, 1)\n",
    "      profit_p_errpr = tf.reduce_mean(tf.abs(profit_t - profit_p), axis=None)\n",
    "    else:\n",
    "      profit_t = tf.math.multiply(oh_1_t, stake_t)   # (batch, nQueries)   \n",
    "      profit_mce = tf.nn.softmax_cross_entropy_with_logits(labels=profit_t, logits=profit_p)\n",
    "      profit_p_errpr = tf.reduce_mean(profit_mce) # mean rather than sum, like profit_eval\n",
    "\n",
    "    profit_eval = tf.reduce_mean(QGroup.scalar_product([oh_1_t, stake_p]), axis=None)  # ()\n",
    "    loss = (1.0-rambda) * profit_p_errpr - profit_eval * rambda # ()\n",
    "    return loss # ()\n",
    "\n",
    "  # def profit_true_sum(ftGoals, odds):\n",
    "  #   stake_t = QGroup.stake_true(ftGoals)\n",
    "  #   oh_1_true = tf.math.multiply(odds, QGroup.h_true(ftGoals)) - 1.0\n",
    "  #   profit_t = tf.reduce_sum(QGroup.scalar_product([oh_1_true, stake_t]), axis=None)\n",
    "  #   return profit_t\n",
    "\n",
    "  # def profit_true_sum(self, ftGoals, odds):\n",
    "  #   stake_t = self.stake_true(ftGoals)\n",
    "  #   oh_1_true = tf.math.multiply(odds, self.h_true(ftGoals)) - 1.0\n",
    "  #   profit_t = tf.reduce_sum(self.scalar_product([oh_1_true, stake_t]), axis=None)\n",
    "  #   return profit_t\n",
    "\n",
    "  # def profit_eval_sum(ftGoals, odds, stake_p):\n",
    "  #   oh_1_t = tf.math.multiply(odds, QGroup.h_true(ftGoals)) - 1.0\n",
    "  #   profit_e_sum = tf.reduce_sum(QGroup.scalar_product([oh_1_t, stake_p]), axis=None)\n",
    "  #   return profit_e_sum\n",
    "\n",
    "  def profit_eval(ftGoals, odds, stake_p):\n",
    "    oh_1_t = tf.math.multiply(odds, QGroup.h_true(ftGoals)) - 1.0\n",
    "    profit_e = QGroup.scalar_product([oh_1_t, stake_p])\n",
    "    return profit_e   # (batch, 1)"
   ]
  },
  {
   "cell_type": "code",
   "execution_count": 54,
   "metadata": {},
   "outputs": [
    {
     "name": "stdout",
     "output_type": "stream",
     "text": [
      "tf.Tensor(\n",
      "[[0. 0. 1.]\n",
      " [0. 1. 0.]], shape=(2, 3), dtype=float32)\n"
     ]
    }
   ],
   "source": [
    "a = tf.constant([[3.0, 3.0, 4.0], [0.1, 0.7, 0.3]])\n",
    "one_hot_a = tf.squeeze(tf.one_hot(tf.nn.top_k(a).indices, tf.shape(a)[-1]), axis=1)\n",
    "print(one_hot_a)\n",
    "# one_hot_a = [[ 0.  0.  1.]]"
   ]
  },
  {
   "cell_type": "code",
   "execution_count": 55,
   "metadata": {},
   "outputs": [],
   "source": [
    "class QGroup1X2(QGroup):\n",
    "  def __init__(self, bookie, dropout_rate=0.1):\n",
    "    super().__init__(bookie=bookie, nQueries=3, dropout_rate=dropout_rate)\n",
    "    self.qGroupName = '1X2'\n",
    "\n",
    "  def h_true(ftGoals):  # Defines this QGroup. This is for 1X2 QGroup.\n",
    "    # ftGoals:  (batch, 2)\n",
    "    ftGoals = tf.cast(ftGoals, dtype=tf.int32)  # (batch, 2)\n",
    "    h = (tf.math.greater(ftGoals[..., 0], ftGoals[..., 1]), tf.math.equal(ftGoals[..., 0], ftGoals[..., 1]), tf.math.less(ftGoals[..., 0], ftGoals[..., 1]))\n",
    "    h = tf.cast(tf.transpose(h), dtype=tf.float32)  # (batch, nQueries)\n",
    "    return h"
   ]
  },
  {
   "cell_type": "code",
   "execution_count": 56,
   "metadata": {},
   "outputs": [
    {
     "name": "stdout",
     "output_type": "stream",
     "text": [
      "Model: \"q_group1x2\"\n",
      "_________________________________________________________________\n",
      " Layer (type)                Output Shape              Param #   \n",
      "=================================================================\n",
      " adaptor (Adaptor)           multiple                  93        \n",
      "                                                                 \n",
      " adaptor_1 (Adaptor)         multiple                  93        \n",
      "                                                                 \n",
      "=================================================================\n",
      "Total params: 186\n",
      "Trainable params: 186\n",
      "Non-trainable params: 0\n",
      "_________________________________________________________________\n"
     ]
    }
   ],
   "source": [
    "OXT = QGroup1X2('B365')\n",
    "input = tf.Variable([[1,2,3], [4,5,6]], dtype=tf.float32)\n",
    "OXT.build(input.shape)\n",
    "OXT.call(input)\n",
    "OXT.summary()\n",
    "del OXT"
   ]
  },
  {
   "cell_type": "code",
   "execution_count": 57,
   "metadata": {},
   "outputs": [
    {
     "data": {
      "text/plain": [
       "<tf.Tensor: shape=(2, 3), dtype=float32, numpy=\n",
       "array([[0., 0., 1.],\n",
       "       [0., 1., 0.]], dtype=float32)>"
      ]
     },
     "execution_count": 57,
     "metadata": {},
     "output_type": "execute_result"
    }
   ],
   "source": [
    "ftGoals = tf.Variable([[2,3], [0,0]])\n",
    "QGroup.h_true(ftGoals)\n",
    "# manual:: [[0 0 1], [0 1 0]]"
   ]
  },
  {
   "cell_type": "code",
   "execution_count": 58,
   "metadata": {},
   "outputs": [
    {
     "data": {
      "text/plain": [
       "<tf.Tensor: shape=(2, 3), dtype=float32, numpy=\n",
       "array([[0., 0., 1.],\n",
       "       [0., 1., 0.]], dtype=float32)>"
      ]
     },
     "execution_count": 58,
     "metadata": {},
     "output_type": "execute_result"
    }
   ],
   "source": [
    "ftGoals = tf.Variable([[2,3], [0,0]])\n",
    "QGroup.stake_true(ftGoals)\n",
    "# manual: [[0 0 1], [0 1 0]]"
   ]
  },
  {
   "cell_type": "code",
   "execution_count": 59,
   "metadata": {},
   "outputs": [
    {
     "data": {
      "text/plain": [
       "<tf.Tensor: shape=(), dtype=float32, numpy=-0.50000006>"
      ]
     },
     "execution_count": 59,
     "metadata": {},
     "output_type": "execute_result"
    }
   ],
   "source": [
    "profit_p = tf.Variable([2], dtype=tf.float32)\n",
    "stake_p = tf.Variable([[0.5, 0.2, 0.3]], dtype=tf.float32)\n",
    "ftGoals = tf.Variable([[2, 3]])      \n",
    "odds = tf.Variable([[3, 4, 5]], dtype=tf.float32)\n",
    "rambda = tf.Variable(1, dtype=tf.float32)\n",
    "QGroup.loss(profit_p, stake_p, ftGoals, odds, rambda)\n",
    "# manual: 1.5 if not using MCE"
   ]
  },
  {
   "cell_type": "code",
   "execution_count": 60,
   "metadata": {},
   "outputs": [
    {
     "data": {
      "text/plain": [
       "<tf.Tensor: shape=(), dtype=float32, numpy=-2.9802322e-08>"
      ]
     },
     "execution_count": 60,
     "metadata": {},
     "output_type": "execute_result"
    }
   ],
   "source": [
    "profit_p = tf.Variable([[2, 3, 1], [1, 2, 3]], dtype=tf.float32)\n",
    "stake_p = tf.Variable([[0.5, 0.2, 0.3], [0.1, 0.2, 0.7]], dtype=tf.float32)\n",
    "ftGoals = tf.Variable([[2, 3], [3, 2]])\n",
    "odds = tf.Variable([[3, 4, 5], [5, 4, 3]], dtype=tf.float32)\n",
    "rambda = tf.Variable(1, dtype=tf.float32)\n",
    "QGroup.loss(profit_p, stake_p, ftGoals, odds, rambda)\n",
    "# manual: 1.5 if not using MCE"
   ]
  },
  {
   "cell_type": "code",
   "execution_count": 61,
   "metadata": {},
   "outputs": [],
   "source": [
    "class BettingEPL(tf.keras.Model):\n",
    "  def __init__(self, hyperparams, loss_rambda=1.0, dropout_rate=0.1):\n",
    "    super().__init__()\n",
    "    self.transformer = Transformer(hyperparams, dropout_rate=dropout_rate)\n",
    "    self.bookies = ['B365', 'Betfair', 'Interwetten', 'William']\n",
    "    self.qGroups = [QGroup1X2(bookie) for bookie in self.bookies]\n",
    "    self.rambda = loss_rambda     #----------------------- Sensitive rambda!!!, Automate optimizing it.\n",
    "\n",
    "  def call(self, input):\n",
    "    x = self.transformer(input)\n",
    "    outputs = [qGroup(x) for qGroup in self.qGroups]\n",
    "    return outputs  # [ ( shape: (batch, 1), shape: (batch, nQueries) ) for _ in self.qGroups ]\n",
    "  \n",
    "  def loss(self, y, outputs):   \n",
    "    # y: (batch, len(Team_cols)+len(Odds_cols)) \n",
    "    # outputs: # [ ( shape: (batch, 1), shape: (batch, nQueries) ) for _ in self.qGroups ]\n",
    "    ftGoals, odds = tf.split(y, [2, -1], axis=-1) # (batch, 2), (batch, sum[qGropu.nQueries for qGroup in self.qGroups])\n",
    "    odds_by_qGroup = tf.split(odds, [qQroup.nQueries for qQroup in self.qGroups], axis=-1)  # [ shape: (batch, qGroup.nQueries) for qGroup in self.qGroups ]\n",
    "    losses = [QGroup.loss(profit_p, stake_p, ftGoals, odds, self.rambda) for (odds, (profit_p, stake_p)) in zip(odds_by_qGroup, outputs)]\n",
    "    loss_value = tf.add_n(losses)\n",
    "    return loss_value\n",
    "  \n",
    "  def action_loss(self, y, outputs):\n",
    "    # y: (batch, len(Team_cols)+len(Odds_cols)) \n",
    "    # outputs: # [ ( shape: (batch, nQueries), shape: (batch, nQueries) ) for _ in self.qGroups ]\n",
    "    ftGoals, odds = tf.split(y, [2, -1], axis=-1)\n",
    "    odds_by_qGroup = tf.split(odds, [qQroup.nQueries for qQroup in self.qGroups], axis=-1)\n",
    "    profit_eval = [QGroup.profit_eval(ftGoals, odds, stake_p) for (odds, (_, stake_p)) in zip(odds_by_qGroup, outputs)] # [(batch, 1)] * nQGroups\n",
    "    profit_eval = tf.concat(profit_eval, axis=-1) # (batch, nQGroups).  A function of stake_p and truth.\n",
    "  \n",
    "    profits_p = [tf.math.reduce_sum(profit_p, axis=-1, keepdims=True) for (profit_p, _) in outputs]   # [ shape: (batch, 1) for _ self.qGroups ]\n",
    "    profits_p = tf.concat(profits_p, axis=-1) # (batch, len(self.qGroups))    # A function of profit_p\n",
    "\n",
    "    # find normalized_profit_p, which linearly maps profits to the interval [0, 1], or [1, 1] if profits are the same. \n",
    "    # I hope this will give gradient, unlike the argmax function. ---- turns out no.\n",
    "    least_profit = tf.reduce_min(profits_p, axis=-1)\n",
    "    delta = tf.reduce_max(profits_p, axis=-1) - least_profit\n",
    "    normal_profit = tf.transpose(tf.transpose(profits_p) - least_profit)\n",
    "    normal_profit = tf.transpose(tf.transpose(normal_profit)/(delta + 1e-9)) # no tf.keras.backend.epsilon\n",
    "    is_zero = ((1.0 - tf.reduce_max(normal_profit, axis=1)))\n",
    "    normal_profit = tf.transpose(tf.transpose(normal_profit) + is_zero)\n",
    "\n",
    "    # get scalar products of normalized profits and profit_eval, \n",
    "    # rather than selecting profit_eval where normalized profit has maximum value, for gradient.\n",
    "    mul = tf.multiply(normal_profit, profit_eval)\n",
    "    scalar = tf.reduce_sum(mul, axis=-1)\n",
    "    profit_eval_mean = tf.math.reduce_mean(scalar)\n",
    "    \n",
    "    return - profit_eval_mean\n",
    "\n",
    "  def back_test(self, y, outputs):\n",
    "    # y: (batch, len(Team_cols)+len(Odds_cols)) \n",
    "    # outputs: # [ ( shape: (batch, nQueries), shape: (batch, nQueries) ) for _ in self.qGroups ]\n",
    "    ftGoals, odds = tf.split(y, [2, -1], axis=-1)\n",
    "    odds_by_qGroup = tf.split(odds, [qQroup.nQueries for qQroup in self.qGroups], axis=-1)\n",
    "    profit_eval = [QGroup.profit_eval(ftGoals, odds, stake_p) for (odds, (_, stake_p)) in zip(odds_by_qGroup, outputs)] # profit vector for each qg\n",
    "    profit_eval = tf.concat(profit_eval, axis=-1) # (batch, nQGroups)\n",
    "\n",
    "    # find the most-profitable QGroup idx\n",
    "    profits_p = [tf.math.reduce_sum(profit_p, axis=-1, keepdims=True) for (profit_p, _) in outputs]   # [ shape: (batch, 1) for _ self.qGroups ]\n",
    "    profits_p = tf.concat(profits_p, axis=-1) # (batch, len(self.qGroups))    \n",
    "    bestQuery = tf.cast(tf.argmax(profits_p, axis=-1), dtype=tf.int32)   # (batch,)\n",
    "    range = tf.range(bestQuery.shape[0], dtype=tf.int32) # (batch,)\n",
    "    best_idx = tf.stack([range, bestQuery], axis=1) # (batch, 2)\n",
    "    \n",
    "    # choose the most-profitable QGroup's profit and mean it.\n",
    "    best_profits_eval = tf.gather_nd(profit_eval, best_idx)  # (batch, )\n",
    "    profit_eval_mean = tf.math.reduce_mean(best_profits_eval)\n",
    "    return profit_eval_mean"
   ]
  },
  {
   "cell_type": "code",
   "execution_count": 62,
   "metadata": {},
   "outputs": [
    {
     "name": "stdout",
     "output_type": "stream",
     "text": [
      "(48, 200, 35)\n",
      "4\n",
      "2\n",
      "(48, 3) (48, 3)\n",
      "tf.Tensor(\n",
      "[[ 0.21535735 -0.0307169  -0.7162527 ]\n",
      " [-0.7584588  -0.05344364  0.07926403]\n",
      " [-0.5021183  -0.0863366   0.12172256]\n",
      " [-0.44965675  0.22520366 -0.05416332]\n",
      " [-0.785425   -0.04871542  0.08189294]\n",
      " [-0.3959221   0.54172814  0.03382016]\n",
      " [-0.7099563  -0.06047562  0.07657232]\n",
      " [-0.29717678  0.68390024  0.02672308]\n",
      " [-0.39399388 -0.03996906  0.55252457]\n",
      " [-0.49546754 -0.03339191  0.47686946]\n",
      " [-0.8595267  -0.03114088  0.09622744]\n",
      " [-0.5215912  -0.03257791  0.45052314]\n",
      " [-0.89468116 -0.0190942   0.1269857 ]\n",
      " [-0.864762   -0.0296985   0.0984823 ]\n",
      " [-0.06561062 -0.06462588  0.6709516 ]\n",
      " [-0.09852026  1.0122656  -0.01076251]\n",
      " [-0.1278956   0.96650636  0.00390474]\n",
      " [-0.59424216 -0.048934    0.07151182]\n",
      " [-0.8268562  -0.03941053  0.08754941]\n",
      " [-0.8580433  -0.03152192  0.0957577 ]\n",
      " [-0.5111815  -0.13052991  0.09333006]\n",
      " [-0.4116784   0.7317557  -0.00262049]\n",
      " [-0.548608    0.4778827  -0.01432808]\n",
      " [-0.8837743  -0.02379662  0.11077754]\n",
      " [-0.785735   -0.04865818  0.08192358]\n",
      " [-0.32157442 -0.02894791  0.07368302]\n",
      " [-0.5969653  -0.02663689  0.07001454]\n",
      " [-0.0530035   0.64963037 -0.33947966]\n",
      " [-0.34158972  0.6205851   0.02999768]\n",
      " [-0.79753894 -0.04638545  0.08344191]\n",
      " [-0.5043636  -0.09971951  0.10871007]\n",
      " [-0.8646349  -0.02970966  0.09856303]\n",
      " [-0.5314649   0.32286432  0.04651422]\n",
      " [-0.6757771  -0.06428951  0.07538219]\n",
      " [-0.66310585 -0.06544035  0.07483586]\n",
      " [-0.06364975  1.0008588  -0.08037137]\n",
      " [-0.8587231  -0.03133605  0.09603602]\n",
      " [-0.82567084 -0.03962332  0.08773238]\n",
      " [-0.39086184  0.1624849  -0.07218628]\n",
      " [-0.82506937 -0.03982596  0.08732549]\n",
      " [-0.7827445  -0.04920854  0.08162262]\n",
      " [ 0.029086    0.07860303 -0.99393606]\n",
      " [-0.856327   -0.03196567  0.09520358]\n",
      " [-0.5191442   0.35701334 -0.03510332]\n",
      " [-0.4685736   0.4003137   0.05219234]\n",
      " [-0.8254     -0.03976251  0.08729552]\n",
      " [-0.6347873  -0.06738672  0.07404062]\n",
      " [-0.5926469  -0.05423039  0.07260526]], shape=(48, 3), dtype=float32) tf.Tensor(\n",
      "[[0.1595498  0.07395863 0.7664916 ]\n",
      " [0.6934654  0.24606971 0.06046483]\n",
      " [0.80320424 0.1103266  0.08646919]\n",
      " [0.76793766 0.16359356 0.06846871]\n",
      " [0.72048646 0.21720955 0.06230396]\n",
      " [0.28353244 0.6573735  0.05909402]\n",
      " [0.6455945  0.29569405 0.05871144]\n",
      " [0.21629255 0.72086424 0.06284311]\n",
      " [0.5487822  0.05812492 0.39309287]\n",
      " [0.60107243 0.05809183 0.34083566]\n",
      " [0.78486264 0.14193459 0.07320274]\n",
      " [0.6185826  0.05885728 0.32256016]\n",
      " [0.8056822  0.09715896 0.09715896]\n",
      " [0.7891272  0.135942   0.07493078]\n",
      " [0.4193768  0.05739961 0.52322364]\n",
      " [0.08394094 0.7995431  0.11651586]\n",
      " [0.10292248 0.8053853  0.09169224]\n",
      " [0.5197231  0.42347348 0.05680339]\n",
      " [0.75767845 0.17577033 0.06655128]\n",
      " [0.78363866 0.14351875 0.0728426 ]\n",
      " [0.75546974 0.17828208 0.06624819]\n",
      " [0.34748402 0.594839   0.05767702]\n",
      " [0.55604446 0.3865575  0.05739805]\n",
      " [0.80226976 0.11327492 0.08445531]\n",
      " [0.72079825 0.21687634 0.06232541]\n",
      " [0.2703561  0.66986835 0.05977553]\n",
      " [0.50912035 0.4341371  0.05674254]\n",
      " [0.07872138 0.46063927 0.46063927]\n",
      " [0.2464966  0.69218606 0.0613173 ]\n",
      " [0.732752   0.203841   0.06340699]\n",
      " [0.79372025 0.1290724  0.07720731]\n",
      " [0.7890122  0.13599531 0.07499248]\n",
      " [0.3822197  0.56068146 0.0570988 ]\n",
      " [0.61220306 0.3297572  0.05803967]\n",
      " [0.59984386 0.3424376  0.05771853]\n",
      " [0.06502657 0.73002803 0.20494539]\n",
      " [0.7841942  0.14275    0.07305587]\n",
      " [0.7566488  0.17666057 0.06669071]\n",
      " [0.7997968  0.11845358 0.08174963]\n",
      " [0.75616664 0.17745398 0.06637941]\n",
      " [0.71779126 0.22009437 0.06211438]\n",
      " [0.16056164 0.0706994  0.768739  ]\n",
      " [0.7822229  0.1453593  0.07241781]\n",
      " [0.67599964 0.26395336 0.06004703]\n",
      " [0.34635216 0.5740259  0.07962186]\n",
      " [0.7564522  0.17719111 0.06635663]\n",
      " [0.572368   0.3702824  0.05734952]\n",
      " [0.52181727 0.42077002 0.05741271]], shape=(48, 3), dtype=float32)\n",
      "Model: \"betting_epl\"\n",
      "_________________________________________________________________\n",
      " Layer (type)                Output Shape              Param #   \n",
      "=================================================================\n",
      " transformer_1 (Transformer)  multiple                 12344868  \n",
      "                                                                 \n",
      " q_group1x2_1 (QGroup1X2)    multiple                  1974      \n",
      "                                                                 \n",
      " q_group1x2_2 (QGroup1X2)    multiple                  1974      \n",
      "                                                                 \n",
      " q_group1x2_3 (QGroup1X2)    multiple                  1974      \n",
      "                                                                 \n",
      " q_group1x2_4 (QGroup1X2)    multiple                  1974      \n",
      "                                                                 \n",
      "=================================================================\n",
      "Total params: 12,352,764\n",
      "Trainable params: 12,352,764\n",
      "Non-trainable params: 0\n",
      "_________________________________________________________________\n"
     ]
    }
   ],
   "source": [
    "EPL = BettingEPL(hyperparams, loss_rambda = LOSS_RAMBDA, dropout_rate=TRANSFORMER_DROP)\n",
    "for z in train_batches:\n",
    "    (baseId, sequence, base_bb, mask), (base_label, seq_len_org) = z\n",
    "    x = (sequence, base_bb, mask)\n",
    "    print(sequence.shape)\n",
    "    break\n",
    "x = (sequence, base_bb, mask)\n",
    "y = EPL(x, training=True)\n",
    "print(len(y))\n",
    "print(len(y[0]))\n",
    "(profit_p, stake_p) = y[0]\n",
    "print(profit_p.shape, stake_p.shape)\n",
    "print(profit_p, stake_p)   # profit_p tend to have the same sign in the same batch.\n",
    "\n",
    "EPL.summary()"
   ]
  },
  {
   "cell_type": "code",
   "execution_count": 63,
   "metadata": {},
   "outputs": [],
   "source": [
    "class CustomSchedule(tf.keras.optimizers.schedules.LearningRateSchedule):\n",
    "  def __init__(self, d_model, warmup_steps=4000):\n",
    "    super().__init__()\n",
    "\n",
    "    self.d_model = d_model\n",
    "    self.d_model = tf.cast(self.d_model, tf.float32)\n",
    "\n",
    "    self.warmup_steps = warmup_steps\n",
    "\n",
    "  def __call__(self, step):\n",
    "    step = tf.cast(step, dtype=tf.float32)\n",
    "    arg1 = tf.math.rsqrt(step)\n",
    "    arg2 = step * (self.warmup_steps ** -1.5)\n",
    "\n",
    "    return tf.math.rsqrt(self.d_model) * tf.math.minimum(arg1, arg2)"
   ]
  },
  {
   "cell_type": "code",
   "execution_count": 64,
   "metadata": {},
   "outputs": [],
   "source": [
    "# learning_rate = CustomSchedule(hyperparams.d_model)\n",
    "\n",
    "learning_rate = LEARNING_RATE\n",
    "optimizer = tf.keras.optimizers.Adam(learning_rate, beta_1=0.95, beta_2=0.95, epsilon=1e-9)\n",
    "# optimizer = tf.keras.optimizers.Adadelta()"
   ]
  },
  {
   "cell_type": "code",
   "execution_count": 65,
   "metadata": {},
   "outputs": [],
   "source": [
    "loss_object = tf.keras.losses.CategoricalCrossentropy(from_logits=True, reduction='none')\n",
    "\n",
    "def masked_loss_uk(label, y_pred):\n",
    "  # lable = (target(batch, 3), base_bb(batch, 1, 9), seq_len(batch, 1)), y_pred: (batch, 3)\n",
    "  y_true = label[0]   # one_hot: (batch, 3)\n",
    "  seq_len = label[2]  # (batch, 1)\n",
    "\n",
    "  mask = y_true != 0 \n",
    "  loss = loss_object(y_true, y_pred)\n",
    "  mask = tf.cast(mask, dtype=loss.dtype)\n",
    "  loss = tf.reduce_sum(loss)/tf.reduce_sum(mask) # eq. sum_loss / batch\n",
    "  return loss\n",
    "\n",
    "\n",
    "class recall():\n",
    "  def __init__(self, name='recall', min_seq_len=5, **kwargs):\n",
    "    self.min_seq_len = min_seq_len\n",
    "    self.n = None\n",
    "    self.recall = None\n",
    "    self.reset()\n",
    "\n",
    "  def update_state(self, label, y_pred):\n",
    "    # lable = (target(batch, 3), base_bb(batch, 1, 9), seq_len(batch,)), y_pred: (batch, 3)\n",
    "    y_true = label[0]   # one_hot: (batch, 3)\n",
    "    seq_len = label[2]  # (batch)\n",
    "\n",
    "    seq_len_mask = tf.cast(seq_len >= self.min_seq_len, dtype=tf.float32)[:, tf.newaxis, tf.newaxis]\n",
    "    y_true = y_true * seq_len_mask\n",
    "    y_pred = y_pred * seq_len_mask \n",
    "\n",
    "    # print('recall', y_true.shape, y_pred.shape, seq_len_mask.shape)\n",
    "\n",
    "    true_positives = tf.math.reduce_sum(y_true * y_pred)\n",
    "    # print('recall', true_positives.numpy())\n",
    "    possible_positives = tf.math.reduce_sum(y_true)\n",
    "    recall_keras = true_positives / (possible_positives + 1e-9) #tf.keras.backend.epsilon())\n",
    "    self.n += 1\n",
    "    self.recall = self.recall * (self.n-1)/self.n + recall_keras.numpy() / self.n\n",
    "\n",
    "\n",
    "  def result(self):\n",
    "    return self.recall\n",
    "  \n",
    "  def reset(self):\n",
    "    self.n = 0\n",
    "    self.recall = 0.0\n",
    "  \n",
    "recall_object = recall(min_seq_len=5)\n",
    "\n",
    "class precision():\n",
    "  def __init__(self, name='precision', min_seq_len=5, **kwargs):\n",
    "    self.min_seq_len = min_seq_len\n",
    "    self.n = None\n",
    "    self.precision = None\n",
    "    self.reset()\n",
    "\n",
    "  def update_state(self, label, y_pred):\n",
    "    # lable = (target(batch, 3), base_bb(batch, 1, 9), seq_len(batch,)), y_pred: (batch, 3)\n",
    "    y_true = label[0]   # one_hot: (batch, 3)\n",
    "    seq_len = label[2]  # (batch, 1)\n",
    "\n",
    "    seq_len_mask = tf.cast(seq_len >= self.min_seq_len, dtype=tf.float32)[:, tf.newaxis, tf.newaxis]\n",
    "    y_true = y_true * seq_len_mask\n",
    "    y_pred = y_pred * seq_len_mask \n",
    "\n",
    "    true_positives = tf.math.reduce_sum(y_true * y_pred)\n",
    "    predicted_positives = tf.math.reduce_sum(y_pred)\n",
    "    precision_keras = true_positives / (predicted_positives + 1e-9) #tf.keras.backend.epsilon())\n",
    "    self.n += 1\n",
    "    self.precision = self.precision * (self.n-1)/self.n + precision_keras.numpy() / self.n\n",
    "\n",
    "  def result(self):\n",
    "    return self.precision\n",
    "  \n",
    "  def reset(self):\n",
    "    self.n = 0\n",
    "    self.precision = 0.0\n",
    "\n",
    "precision_object = precision(min_seq_len=5)"
   ]
  },
  {
   "cell_type": "code",
   "execution_count": 66,
   "metadata": {},
   "outputs": [],
   "source": [
    "@tf.function\n",
    "def train_step(x, y, rambda):\n",
    "    \n",
    "    with tf.GradientTape() as tape:\n",
    "        outputs = EPL(x, training=True)  # [ (batch, 1), (batch, nQueries) for _ in bookies]\n",
    "        loss_value = EPL.action_loss(y, outputs)\n",
    "    \n",
    "    grads = tape.gradient(loss_value, EPL.trainable_weights)\n",
    "    optimizer.apply_gradients(zip(grads, EPL.trainable_weights))\n",
    "    # recall_object.update_state(y, logits)\n",
    "    # precision_object.update_state(y, logits)\n",
    "    return loss_value"
   ]
  },
  {
   "cell_type": "code",
   "execution_count": 67,
   "metadata": {},
   "outputs": [],
   "source": [
    "@tf.function\n",
    "def test_step(x, y):\n",
    "    outputs = EPL(x, training=False)  # [ (batch, 1), (batch, nQueries) for _ in bookies]\n",
    "    loss_value = EPL.action_loss(y, outputs)\n",
    "    # recall_object.update_state(y, val_logits)\n",
    "    # precision_object.update_state(y, val_logits)\n",
    "    return loss_value"
   ]
  },
  {
   "cell_type": "code",
   "execution_count": 68,
   "metadata": {},
   "outputs": [],
   "source": [
    "@tf.function\n",
    "def back_test_step(x, y):\n",
    "    outputs = EPL(x, training=False)  # [ (batch, 1), (batch, nQueries) for _ in bookies]\n",
    "    profit_eval = EPL.back_test(y, outputs)\n",
    "    return profit_eval"
   ]
  },
  {
   "cell_type": "code",
   "execution_count": 69,
   "metadata": {},
   "outputs": [],
   "source": [
    "# @tf.function  #-------------------- Wierd: no work.\n",
    "def back_test_with_dataset(datsset):\n",
    "    n = 0\n",
    "    profit_eval_total = tf.Variable(0.0, dtype=tf.float32)\n",
    "    for step, ((baseId, sequence, base_bb, mask), (base_label, seq_len_org)) in enumerate(datsset):\n",
    "        x = (sequence, base_bb, mask); y = base_label\n",
    "        profit_eval = back_test_step(x, y)\n",
    "        n += 1\n",
    "        profit_eval_total = profit_eval_total * (n-1) / n + profit_eval / n\n",
    "    return profit_eval_total"
   ]
  },
  {
   "cell_type": "code",
   "execution_count": 70,
   "metadata": {},
   "outputs": [],
   "source": [
    "# @tf.function  #-------------------- Wierd: no work.\n",
    "def test_with_dataset(datsset):\n",
    "    n = 0\n",
    "    val_loss = tf.Variable(0.0, dtype=tf.float32)\n",
    "    for step, ((baseId, sequence, base_bb, mask), (base_label, seq_len_org)) in enumerate(datsset):\n",
    "        x = (sequence, base_bb, mask); y = base_label\n",
    "        n += 1\n",
    "        val_loss = val_loss * (n-1) / n + test_step(x, y) / n   ###\n",
    "    return val_loss"
   ]
  },
  {
   "cell_type": "code",
   "execution_count": 71,
   "metadata": {},
   "outputs": [],
   "source": [
    "class history_class():\n",
    "    def round_sig(self, x, sig=2):\n",
    "            return round(x, sig-int(math.floor(math.log10(abs(x))))-1)\n",
    "    def __init__(self):\n",
    "        self.history = {'loss': [], 'val_loss': [], 'back100': []}\n",
    "    def save(self, path):\n",
    "        data_helpers.SaveJsonData(self.history, path)\n",
    "    def load(self, path):\n",
    "        self.history = data_helpers.LoadJsonData(path)\n",
    "        if self.history is None:\n",
    "            self.history = {'loss': [], 'val_loss': [], 'back100': []}\n",
    "    def to_back100(self, back):\n",
    "        return float(back * 100 if back >= 0 else back)\n",
    "    def append(self, loss, val_loss, back):\n",
    "        self.history['loss'].append(self.round_sig(float(loss), 4))\n",
    "        self.history['val_loss'].append(self.round_sig(float(val_loss), 4))\n",
    "        self.history['back100'].append(self.round_sig(self.to_back100(back), 4))\n",
    "    def len(self):\n",
    "        assert len(self.history['loss']) == len(self.history['val_loss'])\n",
    "        assert len(self.history['loss']) == len(self.history['back100'])\n",
    "        return len(self.history['loss'])\n",
    "    def get_latest_item(self):\n",
    "        return (self.history['loss'][-1], self.history['val_loss'][-1], self.history['back100'][-1])\n",
    "    def get_max_back(self):\n",
    "        return float('-inf') if self.len() <= 0 else max(self.history['back100'])"
   ]
  },
  {
   "cell_type": "code",
   "execution_count": 72,
   "metadata": {},
   "outputs": [],
   "source": [
    "def show_steps(epoch, step, loss, samples_seen):\n",
    "    # recall = recall_object.result()\n",
    "    # precision = precision_object.result()\n",
    "    # print(\"epoch: {}, step: {}, loss: {}, recall: {}, precision: {}, samples_seen: {}\".\n",
    "    #       format(epoch, step, float(loss_value), recall, precision, (step + 1) * hyperparams.batch_size))\n",
    "    print(\"epoch: {}, step: {}, loss: {}, samples_seen: {}          \".\n",
    "            format(epoch, step, float(loss), samples_seen), end='\\r')\n",
    "    # recall_object.reset()\n",
    "    # precision_object.reset()\n",
    "\n",
    "def show_history(history, baseline=0):\n",
    "    plt.figure(figsize=(15,6))\n",
    "    plt.plot(history.history['loss'][baseline:])\n",
    "    plt.plot(history.history['val_loss'][baseline:])\n",
    "    base1 = min(history.history['loss'])\n",
    "    base2 = min(history.history['val_loss'])\n",
    "    base = min(base1, base2)\n",
    "    plt.plot([base + b100 for b100 in history.history['back100']][baseline:])\n",
    "    plt.axhline(y=base, color='b', linestyle='-', linewidth=0.5)\n",
    "    plt.grid(True)\n",
    "    plt.title(TEST_ID + \": Profit per average game: {}, history len: {}\".format(max(history.history['back100'][baseline:]), history.len()))\n",
    "    plt.ylabel('loss')\n",
    "    plt.xlabel('epoch')\n",
    "    plt.legend(['train_loss', 'val_loss', 'val_profit'], loc='upper right')\n",
    "    plt.show()"
   ]
  },
  {
   "cell_type": "code",
   "execution_count": 73,
   "metadata": {},
   "outputs": [],
   "source": [
    "checkpointPath = os.path.join('./data', 'checkpoints', TEST_ID + '_weights')\n",
    "checkpointPathBest = os.path.join('./data', 'checkpoints', TEST_ID + '_weights_best')\n",
    "historyPath = os.path.join('./data', 'checkpoints', TEST_ID + '_history.json')\n",
    "\n",
    "history = history_class()\n",
    "\n",
    "if RE_START_FROM_BATCHING:\n",
    "    files = glob.glob(checkpointPath + \"*\")         # \"*.*\" doesn't work\n",
    "    result = [os.remove(file) for file in files]\n",
    "    files = glob.glob(historyPath + \"*\")            # \"*.*\" doens't work\n",
    "    result = [os.remove(file) for file in files]\n",
    "    EPL.save_weights(checkpointPath)\n",
    "    history.save(historyPath)\n",
    "\n",
    "try:\n",
    "    EPL.load_weights(checkpointPath)\n",
    "except:\n",
    "    print('Failed to load model weights.')\n",
    "\n",
    "history.load(historyPath)\n",
    "if history.len() <= 0:\n",
    "    print('Creating historic baseline...', end='')\n",
    "    loss = test_with_dataset(train_batches)\n",
    "    val_loss = test_with_dataset(test_batches)\n",
    "    back = back_test_with_dataset(test_batches)\n",
    "    history.append(loss, val_loss, back)\n",
    "    history.save(historyPath)\n",
    "    print('done')\n",
    "\n",
    "def save_checkpoint(loss, val_loss, back):\n",
    "    EPL.save_weights(checkpointPath)\n",
    "    max_back = history.get_max_back()\n",
    "    if float(history.to_back100(back)) > max_back:\n",
    "        EPL.save_weights(checkpointPathBest)\n",
    "    history.append(loss, val_loss, back)\n",
    "    history.save(historyPath)"
   ]
  },
  {
   "cell_type": "code",
   "execution_count": 74,
   "metadata": {},
   "outputs": [
    {
     "name": "stdout",
     "output_type": "stream",
     "text": [
      "[0.1647, 0.1427, 0.1241, 0.119, 0.1154, 0.1157, 0.1114, 0.1141, 0.1093, 0.1029, 0.1048, 0.1081, 0.09949, 0.09671, 0.09427, 0.09734, 0.09653, 0.08915, 0.09015, 0.08918, 0.08561, 0.08623, 0.08164, 0.08869, 0.09009, 0.09184, 0.09386, 0.09454, 0.09194, 0.09167, 0.08676, 0.08954, 0.08721, 0.08561, 0.08571, 0.09173, 0.08973, 0.08855, 0.09205, 0.08977, 0.08109, 0.07647, 0.07478, 0.0808, 0.07984, 0.07833, 0.07973, 0.08531, 0.08668, 0.07898, 0.08251, 0.07738, 0.0793, 0.07829, 0.08051, 0.08174, 0.07818, 0.07653, 0.07512, 0.08052, 0.08109, 0.07914, 0.0782, 0.08009, 0.0793, 0.08093, 0.08049, 0.07885, 0.07844, 0.08009, 0.07868, 0.07493, 0.07028, 0.07251, 0.07264, 0.06989, 0.06698, 0.06981, 0.07234, 0.07666, 0.07827, 0.07713, 0.07605, 0.07625, 0.07433, 0.0699, 0.06779, 0.06559, 0.07398, 0.07122, 0.07157, 0.06783, 0.06856, 0.06873, 0.0669, 0.06955, 0.06695, 0.07317, 0.06967, 0.07092, 0.06586, 0.06695, 0.07149, 0.07229, 0.06986, 0.06496, 0.07001, 0.06695, 0.06596, 0.06889, 0.06779, 0.06459, 0.06832, 0.06849, 0.07106, 0.06949, 0.06655, 0.06877, 0.06676, 0.06562, 0.06711, 0.06585, 0.06873, 0.06812, 0.0675, 0.06599, 0.06742, 0.06875, 0.07011, 0.07519, 0.07098, 0.06575, 0.06911, 0.06463, 0.0678, 0.06428, 0.06175, 0.06505, 0.06446, 0.06338, 0.06597, 0.06806, 0.0687, 0.06509, 0.06083, 0.06256, 0.06105, 0.06418, 0.06874, 0.06894, 0.06165, 0.06983, 0.06261, 0.06664, 0.06851, 0.06546, 0.06336, 0.06061, 0.06071, 0.05995, 0.06401, 0.06727, 0.06168, 0.0636, 0.06192, 0.06313, 0.06405, 0.06532, 0.06397, 0.06498, 0.06189, 0.06378, 0.06113, 0.05682, 0.06297, 0.06292, 0.05998, 0.06266, 0.06597, 0.06303, 0.06156, 0.06276, 0.06565, 0.06285, 0.06503, 0.05976, 0.065, 0.06353, 0.0663, 0.06254, 0.06139, 0.06468, 0.06438, 0.06153, 0.06467, 0.06237, 0.06094, 0.0648, 0.06175, 0.05701, 0.05795, 0.06397, 0.0614, 0.06365, 0.05844, 0.05754, 0.05856, 0.06596, 0.06574, 0.06063, 0.06419, 0.06152, 0.06304, 0.06587, 0.06429, 0.06956, 0.06645, 0.06082, 0.06345, 0.0638, 0.06046, 0.06925, 0.06302, 0.06321, 0.06141, 0.05948, 0.06931, 0.0682, 0.06068, 0.06757, 0.06138, 0.06136, 0.0645, 0.06655, 0.05906, 0.06276, 0.05962, 0.06277, 0.05693, 0.06191, 0.06571, 0.08333, 0.07454, 0.05739, 0.06238, 0.0643, 0.07872, 0.06546, 0.06861, 0.06417, 0.0725, 0.08666, 0.07533, 0.06385, 0.06414, 0.06021, 0.06163, 0.06029, 0.06323, 0.06399, 0.05978, 0.06337, 0.06378, 0.06471, 0.05831, 0.05895, 0.05926, 0.05667, 0.06209, 0.06084, 0.05859, 0.05892, 0.05437, 0.06271, 0.0568, 0.0617, 0.05871, 0.05932, 0.05764, 0.05812, 0.05567, 0.05835, 0.05718, 0.05834, 0.05478, 0.05276, 0.05725, 0.04918, 0.05745, 0.06159, 0.07383, 0.06408, 0.05741, 0.0526, 0.05794, 0.05534, 0.05153, 0.05709, 0.05291, 0.05392, 0.05481, 0.05347, 0.05494, 0.05385, 0.05898, 0.05603, 0.0549, 0.06078, 0.0537, 0.05594, 0.05443, 0.05328, 0.051, 0.05966, 0.05725, 0.04938, 0.05627, 0.05146, 0.05896, 0.0522, 0.0481, 0.05939, 0.04665, 0.04893, 0.05022, 0.0453, 0.04664, 0.04484, 0.0511, 0.04344, 0.04986, 0.05738, 0.04973, 0.05956, 0.05552, 0.06192, 0.06112, 0.05856, 0.05626, 0.05427, 0.07772, 0.05899, 0.07051, 0.06443, 0.06158, 0.06282, 0.06579, 0.0542, 0.06178, 0.05421, 0.06265, 0.05024, 0.05317, 0.06022, 0.05304, 0.05174, 0.04721, 0.06152, 0.0593, 0.06189, 0.06017, 0.05555, 0.0623, 0.06552, 0.0896, 0.08278, 0.07974, 0.08139, 0.07003, 0.06393, 0.07421, 0.07492, 0.07425, 0.06963, 0.07608, 0.07019, 0.07299, 0.07678, 0.07491, 0.07466, 0.075, 0.07467, 0.07408, 0.07833, 0.079, 0.07299, 0.07639, 0.07401, 0.06845, 0.07692, 0.0756, 0.07889, 0.07427, 0.07195, 0.07483, 0.07427, 0.0779, 0.07734, 0.0756, 0.07712, 0.07354, 0.07445, 0.07555, 0.07506, 0.07168, 0.07687, 0.08046, 0.07806, 0.07913, 0.07834, 0.07411, 0.07708, 0.07828, 0.07961, 0.07976, 0.07526, 0.07074, 0.07758, 0.07753, 0.07792, 0.07691, 0.0752, 0.07644, 0.0733, 0.07644, 0.07729, 0.07628, 0.0766, 0.07613, 0.07381, 0.07436, 0.07616, 0.07226, 0.0721, 0.07484, 0.07729, 0.07262, 0.0744, 0.0781, 0.07791, 0.07244, 0.07532, 0.07309, 0.0748, 0.07596, 0.06422, 0.06165, 0.06342, 0.0602, 0.06395, 0.06199, 0.06259, 0.06047, 0.05689, 0.05909, 0.05934, 0.06102, 0.05685, 0.05022, 0.05917, 0.0588, 0.05047, 0.0488, 0.05076, 0.04616, 0.04797, 0.05281, 0.05218, 0.0542, 0.0518, 0.04287, 0.04343, 0.04737, 0.04211, 0.04519, 0.0465, 0.04462, 0.05809, 0.07929, 0.07907, 0.07691, 0.08167, 0.07013, 0.07645]\n",
      "[0.1744, 0.128, 0.1141, 0.1146, 0.1098, 0.1041, 0.1018, 0.1026, 0.0994, 0.09529, 0.09072, 0.09395, 0.09237, 0.08676, 0.06935, 0.07746, 0.07017, 0.07362, 0.07216, 0.06596, 0.06744, 0.06695, 0.06218, 0.08381, 0.07382, 0.07418, 0.07879, 0.07209, 0.07069, 0.07814, 0.06837, 0.06381, 0.06114, 0.06405, 0.07238, 0.06609, 0.06637, 0.06851, 0.06693, 0.06713, 0.06063, 0.05521, 0.06978, 0.05452, 0.05237, 0.0558, 0.05753, 0.05379, 0.06175, 0.06205, 0.05891, 0.05236, 0.04972, 0.05483, 0.0523, 0.04925, 0.05921, 0.05013, 0.05428, 0.06067, 0.05074, 0.04876, 0.05171, 0.05382, 0.05104, 0.0561, 0.05529, 0.05553, 0.05676, 0.04631, 0.0469, 0.04857, 0.04751, 0.04827, 0.0502, 0.04706, 0.04287, 0.04835, 0.045, 0.04629, 0.04357, 0.04344, 0.04238, 0.04971, 0.05095, 0.04741, 0.047, 0.04474, 0.05079, 0.04633, 0.04614, 0.04658, 0.04439, 0.04288, 0.04813, 0.05006, 0.05037, 0.04897, 0.04648, 0.04947, 0.05069, 0.04552, 0.0434, 0.04707, 0.04579, 0.04489, 0.04336, 0.04575, 0.04442, 0.04336, 0.04641, 0.04536, 0.04234, 0.04357, 0.04963, 0.04591, 0.04875, 0.04706, 0.04728, 0.04293, 0.0431, 0.04287, 0.04285, 0.04495, 0.04629, 0.04578, 0.04671, 0.0479, 0.04582, 0.04596, 0.04624, 0.04119, 0.0405, 0.04125, 0.04477, 0.04521, 0.04496, 0.04407, 0.04351, 0.04025, 0.04224, 0.04178, 0.04259, 0.04282, 0.04625, 0.04622, 0.0457, 0.04449, 0.04205, 0.04308, 0.045, 0.04512, 0.04364, 0.0386, 0.03848, 0.04426, 0.03247, 0.02936, 0.03817, 0.03632, 0.04434, 0.04537, 0.0426, 0.04403, 0.04237, 0.04434, 0.04109, 0.04458, 0.0442, 0.04355, 0.03708, 0.03829, 0.03644, 0.04225, 0.04223, 0.04188, 0.04201, 0.0446, 0.04265, 0.04301, 0.04276, 0.04179, 0.04481, 0.0439, 0.04356, 0.0427, 0.04227, 0.04292, 0.04273, 0.04075, 0.04331, 0.03499, 0.03487, 0.03629, 0.03695, 0.03584, 0.04049, 0.04274, 0.04274, 0.04401, 0.04379, 0.04229, 0.04277, 0.04133, 0.04291, 0.0408, 0.03975, 0.04101, 0.03926, 0.04099, 0.03934, 0.04109, 0.04016, 0.04101, 0.04113, 0.04021, 0.04076, 0.04045, 0.0394, 0.03933, 0.03772, 0.03926, 0.03815, 0.03828, 0.03997, 0.04103, 0.04348, 0.04142, 0.04291, 0.04133, 0.0395, 0.04156, 0.03894, 0.04019, 0.04069, 0.03692, 0.03856, 0.03896, 0.03921, 0.039, 0.04686, 0.07931, 0.04159, 0.03983, 0.03835, 0.06042, 0.05203, 0.03848, 0.04322, 0.03967, 0.06322, 0.06259, 0.04944, 0.04027, 0.03953, 0.03715, 0.04013, 0.0362, 0.03796, 0.03828, 0.03834, 0.03891, 0.03721, 0.04033, 0.03741, 0.04014, 0.039, 0.03946, 0.03904, 0.03957, 0.03976, 0.03785, 0.04052, 0.03905, 0.03688, 0.03836, 0.03838, 0.03942, 0.03684, 0.03649, 0.03776, 0.0377, 0.03904, 0.07955, 0.03615, 0.03979, 0.03452, 0.03467, 0.03599, 0.03362, 0.05255, 0.03833, 0.03888, 0.03649, 0.03944, 0.03436, 0.04113, 0.03632, 0.03454, 0.03974, 0.03581, 0.03362, 0.03484, 0.03503, 0.03785, 0.03789, 0.0382, 0.0338, 0.03239, 0.03109, 0.0368, 0.03433, 0.0339, 0.04438, 0.03646, 0.03781, 0.036, 0.03314, 0.04308, 0.04096, 0.03794, 0.0325, 0.04021, 0.03735, 0.03805, 0.03373, 0.03591, 0.03432, 0.03984, 0.03317, 0.03227, 0.03105, 0.03661, 0.03589, 0.03143, 0.02975, 0.03164, 0.0336, 0.03933, 0.04237, 0.04667, 0.03598, 0.03998, 0.04225, 0.04021, 0.05665, 0.04505, 0.04437, 0.04134, 0.0342, 0.03658, 0.04319, 0.03469, 0.02906, 0.0369, 0.03844, 0.0435, 0.05855, 0.05831, 0.05777, 0.05914, 0.06592, 0.06173, 0.04942, 0.04458, 0.06257, 0.04821, 0.03819, 0.05364, 0.05074, 0.0491, 0.0546, 0.04723, 0.0458, 0.05132, 0.04572, 0.04335, 0.04329, 0.04585, 0.04543, 0.04556, 0.0446, 0.04622, 0.0488, 0.04951, 0.04986, 0.05013, 0.03863, 0.03574, 0.04514, 0.0444, 0.04682, 0.04285, 0.04585, 0.0486, 0.04731, 0.04324, 0.04296, 0.04285, 0.04286, 0.04265, 0.0482, 0.04696, 0.04362, 0.04421, 0.04261, 0.0423, 0.04294, 0.04272, 0.04241, 0.04214, 0.04244, 0.04205, 0.04222, 0.04234, 0.04218, 0.04209, 0.04223, 0.0423, 0.04217, 0.04205, 0.04213, 0.04189, 0.04172, 0.04194, 0.04195, 0.04195, 0.04185, 0.04193, 0.04468, 0.04865, 0.04397, 0.04701, 0.05172, 0.04801, 0.04448, 0.04579, 0.04165, 0.04453, 0.04827, 0.05128, 0.0459, 0.05312, 0.0473, 0.04319, 0.04261, 0.04085, 0.03554, 0.04009, 0.03998, 0.04295, 0.04069, 0.04223, 0.04268, 0.04064, 0.04358, 0.04288, 0.03688, 0.02848, 0.034, 0.03695, 0.0352, 0.03518, 0.03202, 0.06621, 0.03731, 0.02939, 0.07358, 0.05279, 0.03634, 0.03464, 0.03539, 0.04805, 0.03399, 0.04065, 0.03851, 0.03202, 0.03709, 0.04204, 0.04422, 0.04469, 0.0353, 0.04503, 0.04521]\n",
      "[-0.0784, -0.04614, -0.04689, -0.04726, -0.04813, -0.04531, -0.04688, -0.04681, -0.04826, -0.05416, -0.05201, -0.04844, -0.04718, -0.05054, -0.04046, -0.04922, -0.04423, -0.04702, -0.04601, -0.0428, -0.04609, -0.0453, -0.04512, -0.05378, -0.04954, -0.04851, -0.05248, -0.04599, -0.04908, -0.05201, -0.04603, -0.0426, -0.04148, -0.04545, -0.0503, -0.04467, -0.0466, -0.04953, -0.04698, -0.04975, -0.0458, -0.04014, -0.0651, -0.04247, -0.04052, -0.04474, -0.04578, -0.04165, -0.04997, -0.05172, -0.04753, -0.04315, -0.04067, -0.04711, -0.0438, -0.0398, -0.0509, -0.04368, -0.04756, -0.05358, -0.04319, -0.04125, -0.04372, -0.04504, -0.04272, -0.04888, -0.04766, -0.04898, -0.05041, -0.03984, -0.04105, -0.04275, -0.04145, -0.04107, -0.04354, -0.04142, -0.03762, -0.0428, -0.03934, -0.04082, -0.03861, -0.03741, -0.03669, -0.04376, -0.04497, -0.0413, -0.04075, -0.039, -0.0444, -0.04002, -0.04027, -0.0412, -0.03904, -0.03771, -0.04245, -0.04408, -0.04513, -0.0439, -0.04059, -0.04315, -0.04532, -0.04038, -0.03832, -0.04205, -0.04056, -0.04027, -0.03809, -0.04055, -0.03988, -0.03884, -0.0411, -0.04024, -0.0376, -0.03927, -0.045, -0.04148, -0.04434, -0.04262, -0.04337, -0.03858, -0.03905, -0.0389, -0.03861, -0.04081, -0.04237, -0.04191, -0.0424, -0.04305, -0.04169, -0.04235, -0.04243, -0.03705, -0.0362, -0.03752, -0.0415, -0.04179, -0.04147, -0.04081, -0.03995, -0.03624, -0.03879, -0.03825, -0.03874, -0.03933, -0.04304, -0.04299, -0.04226, -0.04115, -0.03848, -0.03921, -0.04126, -0.04144, -0.04057, -0.03611, -0.03537, -0.04146, -0.03065, -0.02725, -0.03548, -0.0337, -0.04137, -0.042, -0.03936, -0.04095, -0.03923, -0.04106, -0.03797, -0.04137, -0.04115, -0.04056, -0.03424, -0.03585, -0.03398, -0.03941, -0.03958, -0.03908, -0.03953, -0.04201, -0.03998, -0.04048, -0.03984, -0.03911, -0.04179, -0.04088, -0.04064, -0.03959, -0.03908, -0.0398, -0.04018, -0.03824, -0.04068, -0.03294, -0.0328, -0.03394, -0.03482, -0.03376, -0.03786, -0.03999, -0.03991, -0.04117, -0.04085, -0.03949, -0.04016, -0.03884, -0.04021, -0.03793, -0.03688, -0.03801, -0.03634, -0.03774, -0.03638, -0.03794, -0.03709, -0.03716, -0.03772, -0.03728, -0.03772, -0.03729, -0.03648, -0.03634, -0.03469, -0.03646, -0.03504, -0.03485, -0.03671, -0.03767, -0.04041, -0.03798, -0.03927, -0.03773, -0.0363, -0.03834, -0.03591, -0.03727, -0.0378, -0.03394, -0.03566, -0.03604, -0.03569, -0.03556, -0.04251, -0.06289, -0.03824, -0.03648, -0.03468, -0.04985, -0.03972, -0.03504, -0.03566, -0.03564, -0.05108, -0.05621, -0.04408, -0.03684, -0.03647, -0.03393, -0.03677, -0.03252, -0.03487, -0.03472, -0.03462, -0.03524, -0.03415, -0.0368, -0.03401, -0.03685, -0.0358, -0.03623, -0.03578, -0.03622, -0.03646, -0.03415, -0.03682, -0.03539, -0.03337, -0.03413, -0.03409, -0.0352, -0.03353, -0.03313, -0.03427, -0.03423, -0.03569, -0.05944, -0.03264, -0.03578, -0.03032, -0.03089, -0.03202, -0.02931, -0.04625, -0.03411, -0.03512, -0.0329, -0.03529, -0.03106, -0.03722, -0.03213, -0.03046, -0.03529, -0.03166, -0.02951, -0.031, -0.03096, -0.03381, -0.0335, -0.03398, -0.03022, -0.02913, -0.02778, -0.0312, -0.02973, -0.03029, -0.03943, -0.03262, -0.0344, -0.03159, -0.02933, -0.03799, -0.03732, -0.03316, -0.02735, -0.03563, -0.03331, -0.03375, -0.02947, -0.03193, -0.02983, -0.03486, -0.02963, -0.02848, -0.02736, -0.0334, -0.03198, -0.02645, -0.02561, -0.02783, -0.03002, -0.03544, -0.0396, -0.0433, -0.03307, -0.03635, -0.03901, -0.03695, -0.05168, -0.04194, -0.04021, -0.03774, -0.03062, -0.03287, -0.03918, -0.03172, -0.02591, -0.03342, -0.03394, -0.03981, -0.05729, -0.05769, -0.05716, -0.05891, -0.06568, -0.0612, -0.04742, -0.04215, -0.06049, -0.04582, -0.03538, -0.0526, -0.04866, -0.04598, -0.04766, -0.04178, -0.03801, -0.04586, -0.0406, -0.03832, -0.03849, -0.0415, -0.0415, -0.0403, -0.04019, -0.042, -0.04489, -0.04569, -0.04534, -0.04653, -0.03446, -0.03149, -0.04074, -0.04007, -0.04213, -0.03817, -0.04123, -0.04411, -0.04319, -0.03866, -0.03862, -0.03842, -0.03848, -0.03841, -0.04382, -0.04242, -0.03928, -0.03969, -0.03825, -0.0379, -0.03824, -0.03828, -0.03815, -0.03815, -0.03814, -0.03812, -0.03811, -0.03818, -0.03802, -0.03811, -0.03817, -0.03801, -0.03807, -0.0381, -0.03805, -0.03809, -0.038, -0.03788, -0.03799, -0.038, -0.038, -0.03796, -0.04078, -0.0451, -0.04034, -0.04309, -0.04828, -0.04338, -0.04063, -0.04208, -0.03787, -0.04064, -0.0445, -0.04755, -0.04251, -0.04952, -0.04368, -0.03934, -0.03862, -0.03736, -0.03226, -0.0371, -0.0369, -0.04, -0.03794, -0.03982, -0.03999, -0.03854, -0.04122, -0.0404, -0.03481, -0.0274, -0.03115, -0.03571, -0.03301, -0.03284, -0.02999, -0.03895, -0.03448, -0.02678, -0.04187, -0.03589, -0.03421, -0.0323, -0.03293, -0.03795, -0.0314, -0.03751, -0.03521, -0.03007, -0.0328, -0.03784, -0.03806, -0.04162, -0.03087, -0.04167, -0.04187]\n"
     ]
    }
   ],
   "source": [
    "for key, value in history.history.items():\n",
    "    print(value)"
   ]
  },
  {
   "cell_type": "code",
   "execution_count": 75,
   "metadata": {},
   "outputs": [
    {
     "data": {
      "image/png": "[encoded data removed]",
      "text/plain": [
       "<Figure size 1500x600 with 1 Axes>"
      ]
     },
     "metadata": {},
     "output_type": "display_data"
    }
   ],
   "source": [
    "show_history(history, baseline=0)"
   ]
  },
  {
   "cell_type": "code",
   "execution_count": 76,
   "metadata": {},
   "outputs": [
    {
     "name": "stdout",
     "output_type": "stream",
     "text": [
      "epoch: 484, loss: 0.07782206684350967, val_loss: 0.04065854102373123, profit_eval: -0.03727060928940773, time taken: 173.43s          \n",
      "epoch: 485, loss: 0.06957085430622101, val_loss: 0.04820515587925911, profit_eval: -0.044930897653102875, time taken: 154.90s          \n",
      "epoch: 486, loss: 0.07430600374937057, val_loss: 0.04065369814634323, profit_eval: -0.03763512894511223, time taken: 155.14s          \n",
      "epoch: 487, loss: 0.07138298451900482, val_loss: 0.03693356364965439, profit_eval: -0.03315611183643341, time taken: 155.03s          \n",
      "epoch: 488, loss: 0.07261797040700912, val_loss: 0.04315681755542755, profit_eval: -0.03918692097067833, time taken: 154.78s          \n",
      "epoch: 489, loss: 0.07471457123756409, val_loss: 0.04791676998138428, profit_eval: -0.043332669883966446, time taken: 286.74s          \n",
      "epoch: 490, loss: 0.07344377785921097, val_loss: 0.044215504080057144, profit_eval: -0.04009102284908295, time taken: 174.92s          \n",
      "epoch: 491, loss: 0.07998785376548767, val_loss: 0.04504496604204178, profit_eval: -0.04069291055202484, time taken: 174.05s          \n",
      "epoch: 492, loss: 0.07109790295362473, val_loss: 0.040284980088472366, profit_eval: -0.036662861704826355, time taken: 172.36s          \n",
      "epoch: 493, loss: 0.072480209171772, val_loss: 0.037762049585580826, profit_eval: -0.03380601480603218, time taken: 178.58s          \n",
      "epoch: 494, loss: 0.07713161408901215, val_loss: 0.03505260497331619, profit_eval: -0.03203606605529785, time taken: 154.39s          \n",
      "epoch: 495, loss: 0.0778014063835144, val_loss: 0.05134039372205734, profit_eval: -0.04813467338681221, time taken: 154.42s          \n",
      "epoch: 496, loss: 0.07547786086797714, val_loss: 0.05212363973259926, profit_eval: -0.04815027862787247, time taken: 154.39s          \n",
      "epoch: 497, loss: 0.07414140552282333, val_loss: 0.04595236852765083, profit_eval: -0.04234066978096962, time taken: 154.38s          \n",
      "epoch: 498, loss: 0.07565489411354065, val_loss: 0.03906567394733429, profit_eval: -0.03616014122962952, time taken: 155.22s          \n",
      "epoch: 499, loss: 0.07429435849189758, val_loss: 0.048700254410505295, profit_eval: -0.045527368783950806, time taken: 154.38s          \n"
     ]
    }
   ],
   "source": [
    "epochs = 500;  prev_loss = float(\"inf\")\n",
    "for epoch in range(history.len(), epochs):\n",
    "    start_time = time.time()\n",
    "    m = 0; epoch_loss = 0.0\n",
    "    n = 0; loss = tf.Variable(0.0, dtype=tf.float32); samples_seen = 0\n",
    "    rambda = tf.Variable(1, dtype=tf.float32)\n",
    "    for step, ((baseId, sequence, base_bb, mask), (base_label, seq_len_org)) in enumerate(train_batches):\n",
    "        # print('train', sequence.shape)\n",
    "        x = (sequence, base_bb, mask); y = base_label\n",
    "        batch_loss = train_step(x, y, rambda)\n",
    "        n += 1; loss = loss * (n-1) / n + batch_loss / n\n",
    "        m += 1; epoch_loss = epoch_loss * (m-1)/m + batch_loss / m\n",
    "        samples_seen += sequence.shape[0]\n",
    "        if step % 50 == 0:\n",
    "            show_steps(epoch, step, loss, samples_seen)\n",
    "            n = 0; loss = 0.0\n",
    "    show_steps(epoch, step, loss, samples_seen)\n",
    "    val_loss = test_with_dataset(test_batches)\n",
    "    back = back_test_with_dataset(test_batches)\n",
    "    save_checkpoint(epoch_loss, val_loss, back)     #------------------------------------------- comeback\n",
    "\n",
    "    print(\"epoch: {}, loss: {}, val_loss: {}, profit_eval: {}, time taken: {:.2f}s          \"\n",
    "          .format(epoch, float(epoch_loss), float(val_loss), float(back), (time.time() - start_time)))"
   ]
  }
 ],
 "metadata": {
  "kernelspec": {
   "display_name": "base",
   "language": "python",
   "name": "python3"
  },
  "language_info": {
   "codemirror_mode": {
    "name": "ipython",
    "version": 3
   },
   "file_extension": ".py",
   "mimetype": "text/x-python",
   "name": "python",
   "nbconvert_exporter": "python",
   "pygments_lexer": "ipython3",
   "version": "3.9.13"
  }
 },
 "nbformat": 4,
 "nbformat_minor": 2
}
