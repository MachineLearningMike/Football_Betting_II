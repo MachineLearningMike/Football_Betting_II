{
 "cells": [
  {
   "cell_type": "raw",
   "metadata": {
    "vscode": {
     "languageId": "raw"
    }
   },
   "source": [
    "-   'UK.B.A.08'\n",
    "\n",
    "  TRAIN_PERCENT= 90\n",
    "  BUFFER_SIZE = 20000\n",
    "  BATCH_SIZE = 48\n",
    "  LEARNING_RATE = 0.00001\n",
    "  LOSS_MULTIPLIER = 2.0\n",
    "  TEAM_EMBS = 50\n",
    "  TRANSFORMER_DROP = 0.2\n",
    "  TRANSFORMER_LAYERS = 6\n",
    "  TRANSFORMER_HEADS = 6\n",
    "  id_to_ids_filename = 'England-200-1e-07-7300-75-0.8-False'\n",
    "\n",
    "  class Adaptor(tf.keras.layers.Layer):\n",
    "    def __init__(self, d_output, d_middle, dropout_rate=0.1):\n",
    "      super().__init__()\n",
    "      self.seq = tf.keras.Sequential([\n",
    "        tf.keras.layers.Dense(d_middle, activation='relu'),    # across -1 axis\n",
    "        tf.keras.layers.Dense(d_output),    # across -1 axis\n",
    "        tf.keras.layers.Dropout(dropout_rate)    # mask-agnostic\n",
    "      ])\n",
    "      self.layer_norm = tf.keras.layers.LayerNormalization()\n",
    "\n",
    "    def call(self, x):\n",
    "      x = self.seq(x)\n",
    "      x = self.layer_norm(x)  # Do we need this?\n",
    "      return x\n",
    " \n",
    "\n",
    "  #----------------------------------------- GGroup\n",
    "  def call(self, input):\n",
    "    # inputs.shape: (batch, d_model)\n",
    "    base = self.bookieBase(input)        # (batch, nQueries)\n",
    "    stake_p = QGroup.softmax(base)            # (batch, nQueries)\n",
    "    oh_1_p = self.oh_1(base)                  # (batch, nQueries)\n",
    "    profit_p = QGroup.scalar_product([oh_1_p, stake_p])   # (batch, 1)\n",
    "    return (profit_p, stake_p)  # (batch, 1), (batch, nQueries)\n",
    "\n",
    "\n",
    "  def action_loss(self, y, outputs):\n",
    "    # y: (batch, len(Team_cols)+len(Odds_cols)) \n",
    "    # outputs: # [ ( shape: (batch, 1), shape: (batch, nQueries) ) for _ in self.qGroups ]\n",
    "    profit_back = self.profit_back_over_qGroups(y, outputs) # (batch, nQGroups) # A function of stake_p and truth.\n",
    "  \n",
    "    profit_p = [profit_p for (profit_p, _) in outputs]   # [ shape: (batch, 1) for _ self.qGroups ]\n",
    "    profit_p = tf.concat(profit_p, axis=-1) # (batch, nQGroups). A funciton of profit_p.\n",
    "\n",
    "    #======================================================================================================\n",
    "    #   This block simulates the betting action of selecting QGROUP where profit_p is high..\n",
    "    #   Note argmax-based selecting has no gradient.\n",
    "    #======================================================================================================\n",
    "    least_profit = tf.reduce_min(profit_p, axis=-1)\n",
    "    delta = tf.reduce_max(profit_p, axis=-1) - least_profit\n",
    "    normal_profit = tf.transpose(tf.transpose(profit_p) - least_profit)\n",
    "    normal_profit = tf.transpose(tf.transpose(normal_profit)/(delta + 1e-9)) # no tf.keras.backend.epsilon\n",
    "    is_zero = ((1.0 - tf.reduce_max(normal_profit, axis=1)))\n",
    "    normal_profit = tf.transpose(tf.transpose(normal_profit) + is_zero) # (batch, nQGroups). A function of profit_p\n",
    "    normal_profit = normal_profit + 1.0\n",
    "\n",
    "    mul = tf.multiply(normal_profit, profit_back)   # (batch, nQGroups)\n",
    "    scalar = tf.reduce_sum(mul, axis=-1)            # (batch,)\n",
    "\n",
    "    mean_profit_per_game = tf.math.reduce_mean(scalar)  # (). A funciotn of profit_p (batch, 1) and stake_p (batch, nQueries)\n",
    "    \n",
    "    return - mean_profit_per_game * LOSS_MULTIPLIER"
   ]
  },
  {
   "cell_type": "raw",
   "metadata": {
    "vscode": {
     "languageId": "raw"
    }
   },
   "source": [
    "-   'UK.B.A.09' \n",
    "\n",
    "\n",
    "  #----------------------------------------- GGroup\n",
    "  def call(self, input):\n",
    "    # inputs.shape: (batch, d_model)\n",
    "    base = self.bookieBase(input)        # (batch, nQueries)\n",
    "    stake_p = QGroup.softmax(base)            # (batch, nQueries)\n",
    "    oh_1_p = self.oh_1(base)                  # (batch, nQueries)\n",
    "    return (oh_1_p, stake_p)  # (batch, 3), (batch, nQueries) #-------------------------------------------------------\n",
    "    \n",
    "\n",
    "  def action_loss(self, y, outputs):\n",
    "      # y: (batch, len(Team_cols)+len(Odds_cols)) \n",
    "      # outputs: # [ ( oh_1_p: (batch, nQueries), stake_p: (batch, nQueries) ) for _ in self.qGroups ]\n",
    "      #--------------------------------------------------------------------------------------------------------- introducing oh_1_loss -------\n",
    "      ftGoals, odds = tf.split(y, [2, -1], axis=-1) # (batch, 2), (batch, sum[qGropu.nQueries for qGroup in self.qGroups])\n",
    "      odds_by_qGroup = tf.split(odds, [qQroup.nQueries for qQroup in self.qGroups], axis=-1)  # [ shape: (batch, qGroup.nQueries) for qGroup in self.qGroups ]\n",
    "      oh_1_loss = [qGroup.oh_1_loss(oh_1_p, ftGoals, odds) for (qGroup, odds, (oh_1_p, _)) in zip(self.qGroups, odds_by_qGroup, outputs)] # [(batch,)] * nQGroups\n",
    "      oh_1_loss = tf.stack(oh_1_loss, axis=-1)  # sure (batch, nQGroups)\n",
    "      oh_1_loss = tf.math.reduce_mean(oh_1_loss, axis=None)  # ()\n",
    "      \n",
    "      profit_p = [tf.math.reduce_sum(tf.multiply(oh_1_p, stake_p), axis=-1, keepdims=True) for (oh_1_p, stake_p) in outputs]   # [ shape: (batch, 1) for _ self.qGroups ]\n",
    "      profit_p = tf.concat(profit_p, axis=-1) # (batch, nQGroups). A funciton of profit_p.\n",
    "\n",
    "      #======================================================================================================\n",
    "      #   This block simulates the betting action of selecting QGROUP where profit_p is high..\n",
    "      #   Note argmax-based selecting has no gradient.\n",
    "      #======================================================================================================\n",
    "      least_profit = tf.reduce_min(profit_p, axis=-1)\n",
    "      delta = tf.reduce_max(profit_p, axis=-1) - least_profit\n",
    "      normal_profit = tf.transpose(tf.transpose(profit_p) - least_profit)\n",
    "      normal_profit = tf.transpose(tf.transpose(normal_profit)/(delta + 1e-9)) # no tf.keras.backend.epsilon\n",
    "      is_zero = ((1.0 - tf.reduce_max(normal_profit, axis=1)))\n",
    "      normal_profit = tf.transpose(tf.transpose(normal_profit) + is_zero) # (batch, nQGroups). A function of profit_p\n",
    "      normal_profit = normal_profit + self.shift #\n",
    "      \n",
    "      profit_back = self.profit_back_over_qGroups(y, outputs) # (batch, nQGroups) # A function of stake_p and truth.\n",
    "\n",
    "      mul = tf.multiply(normal_profit, profit_back)   # (batch, nQGroups)\n",
    "      scalar = tf.reduce_sum(mul, axis=-1)            # (batch,)\n",
    "      mean_profit_per_game = tf.math.reduce_mean(scalar)  # (). A funciotn of profit_p (batch, 1) and stake_p (batch, nQueries)\n",
    "      \n",
    "      return  (- mean_profit_per_game + oh_1_loss)"
   ]
  },
  {
   "cell_type": "raw",
   "metadata": {
    "vscode": {
     "languageId": "raw"
    }
   },
   "source": [
    "-   'UK.B.A.10'\n",
    "\n",
    "  #---------------------------------------------------------------------------------------------- Great\n",
    "  class Adaptor(tf.keras.layers.Layer):\n",
    "    def __init__(self, nLayers, d_output, dropout_rate=0.1):\n",
    "      super().__init__()\n",
    "      dims = [hyperparams.d_model + round( (d_output - hyperparams.d_model) * (layer+1) / (nLayers) ) for layer in range(nLayers)]\n",
    "      layers = [tf.keras.layers.Dense(dim, activation='relu') for dim in dims]\n",
    "      self.seq = tf.keras.Sequential(layers)\n",
    "    def call(self, x):\n",
    "      x = self.seq(x)\n",
    "      return x\n",
    "\n",
    "    #-------------------------------------------------------------------------------------------- OK\n",
    "    self.bookieBase = Adaptor(5, self.nQueries) # 55555555555555555555555\n",
    "    self.oh_1 = Adaptor(5, self.nQueries)       # 55555555555555555555555 \n",
    "\n",
    "  def action_loss(self, y, outputs):\n",
    "      # y: (batch, len(Team_cols)+len(Odds_cols)) \n",
    "      # outputs: # [ ( oh_1_p: (batch, nQueries), stake_p: (batch, nQueries) ) for _ in self.qGroups ]\n",
    "      ftGoals, odds = tf.split(y, [2, -1], axis=-1) # (batch, 2), (batch, sum[qGropu.nQueries for qGroup in self.qGroups])\n",
    "      odds_by_qGroup = tf.split(odds, [qQroup.nQueries for qQroup in self.qGroups], axis=-1)  # [ shape: (batch, qGroup.nQueries) for qGroup in self.qGroups ]\n",
    "      oh_1_loss = [qGroup.oh_1_loss(oh_1_p, ftGoals, odds) for (qGroup, odds, (oh_1_p, _)) in zip(self.qGroups, odds_by_qGroup, outputs)] # [(batch,)] * nQGroups\n",
    "      oh_1_loss = tf.stack(oh_1_loss, axis=-1)  # sure (batch, nQGroups)\n",
    "      oh_1_loss = tf.math.reduce_mean(oh_1_loss, axis=None)  # ()\n",
    "      \n",
    "      profit_p = [tf.math.reduce_sum(tf.multiply(oh_1_p, stake_p), axis=-1, keepdims=True) for (oh_1_p, stake_p) in outputs]   # [ shape: (batch, 1) for _ self.qGroups ]\n",
    "      profit_p = tf.concat(profit_p, axis=-1) # (batch, nQGroups). A funciton of profit_p.\n",
    "\n",
    "      #======================================================================================================\n",
    "      #   This block simulates the betting action of selecting QGROUP where profit_p is high.\n",
    "      #   Note argmax-based selecting has no gradient.\n",
    "      #======================================================================================================\n",
    "      least_profit = tf.reduce_min(profit_p, axis=-1)\n",
    "      delta = tf.reduce_max(profit_p, axis=-1) - least_profit\n",
    "      normal_profit = tf.transpose(tf.transpose(profit_p) - least_profit)\n",
    "      normal_profit = tf.transpose(tf.transpose(normal_profit)/(delta + 1e-9)) # no tf.keras.backend.epsilon\n",
    "      is_zero = ((1.0 - tf.reduce_max(normal_profit, axis=1)))\n",
    "      normal_profit = tf.transpose(tf.transpose(normal_profit) + is_zero) # (batch, nQGroups). A function of profit_p\n",
    "      normal_profit = normal_profit + NORMAL_PP_SHIFT\n",
    "      \n",
    "      profit_back = self.profit_back_over_qGroups(y, outputs) # (batch, nQGroups) # A function of stake_p and truth.\n",
    "\n",
    "      mul = tf.multiply(normal_profit, profit_back)   # (batch, nQGroups)\n",
    "      scalar = tf.reduce_sum(mul, axis=-1)            # (batch,)\n",
    "      mean_profit_per_game = tf.math.reduce_mean(scalar)  # (). A funciotn of profit_p (batch, 1) and stake_p (batch, nQueries)\n",
    "      \n",
    "      return  (- mean_profit_per_game + oh_1_loss)"
   ]
  },
  {
   "cell_type": "raw",
   "metadata": {
    "vscode": {
     "languageId": "raw"
    }
   },
   "source": [
    "-   'UK.B.A.11': introduces norm_pp_multiplier\n",
    "\n",
    "\n",
    "    self.bookieBase = Adaptor(5, self.nQueries) # 55555555555555555555555\n",
    "    self.oh_1 = Adaptor(5, self.nQueries)       # 55555555555555555555555\n",
    "\n",
    "  def action_loss(self, y, outputs, norm_pp_multiplier):\n",
    "      # y: (batch, len(Team_cols)+len(Odds_cols)) \n",
    "      # outputs: # [ ( oh_1_p: (batch, nQueries), stake_p: (batch, nQueries) ) for _ in self.qGroups ]\n",
    "      ftGoals, odds = tf.split(y, [2, -1], axis=-1) # (batch, 2), (batch, sum[qGropu.nQueries for qGroup in self.qGroups])\n",
    "      odds_by_qGroup = tf.split(odds, [qQroup.nQueries for qQroup in self.qGroups], axis=-1)  # [ shape: (batch, qGroup.nQueries) for qGroup in self.qGroups ]\n",
    "      oh_1_loss = [qGroup.oh_1_loss(oh_1_p, ftGoals, odds) for (qGroup, odds, (oh_1_p, _)) in zip(self.qGroups, odds_by_qGroup, outputs)] # [(batch,)] * nQGroups\n",
    "      oh_1_loss = tf.stack(oh_1_loss, axis=-1)  # sure (batch, nQGroups)\n",
    "      oh_1_loss = tf.math.reduce_mean(oh_1_loss, axis=None)  # ()\n",
    "      \n",
    "      profit_p = [tf.math.reduce_sum(tf.multiply(oh_1_p, stake_p), axis=-1, keepdims=True) for (oh_1_p, stake_p) in outputs]   # [ shape: (batch, 1) for _ self.qGroups ]\n",
    "      profit_p = tf.concat(profit_p, axis=-1) # (batch, nQGroups). A funciton of profit_p.\n",
    "\n",
    "      #======================================================================================================\n",
    "      #   This block simulates the betting action of selecting QGROUP where profit_p is high..\n",
    "      #   Note argmax-based selecting has no gradient.\n",
    "      #======================================================================================================\n",
    "      least_profit = tf.reduce_min(profit_p, axis=-1)\n",
    "      delta = tf.reduce_max(profit_p, axis=-1) - least_profit\n",
    "      normal_profit = tf.transpose(tf.transpose(profit_p) - least_profit)\n",
    "      normal_profit = tf.transpose(tf.transpose(normal_profit)/(delta + 1e-9)) # no tf.keras.backend.epsilon\n",
    "      is_zero = ((1.0 - tf.reduce_max(normal_profit, axis=1)))\n",
    "      normal_profit = tf.transpose(tf.transpose(normal_profit) + is_zero) # (batch, nQGroups). A function of profit_p \n",
    "      normal_profit = normal_profit * norm_pp_multiplier + 1.0  #------------------------ OK. norm_pp_multiplier worked.\n",
    "      \n",
    "      profit_back = self.profit_back_over_qGroups(y, outputs) # (batch, nQGroups) # A function of stake_p and truth.\n",
    "\n",
    "      mul = tf.multiply(normal_profit, profit_back)   # (batch, nQGroups)\n",
    "      scalar = tf.reduce_sum(mul, axis=-1)            # (batch,)\n",
    "      mean_profit_per_game = tf.math.reduce_mean(scalar)  # (). A funciotn of profit_p (batch, 1) and stake_p (batch, nQueries)\n",
    "      \n",
    "      return  (- mean_profit_per_game + oh_1_loss)"
   ]
  },
  {
   "cell_type": "raw",
   "metadata": {
    "vscode": {
     "languageId": "raw"
    }
   },
   "source": [
    "-   'UK.B.A.12_org'\n",
    "    self.bookieBase = Adaptor(5, self.nQueries) # 55555555555555555555555\n",
    "    self.oh_1 = Adaptor(5, self.nQueries)       # 55555555555555555555555\n",
    "\n",
    "  def action_loss(self, y, outputs, qGroup_selectivity, game_selectivity):\n",
    "      # y: (batch, len(Team_cols)+len(Odds_cols)) \n",
    "      # outputs: # [ ( oh_1_p: (batch, nQueries), stake_p: (batch, nQueries) ) for _ in self.qGroups ]\n",
    "      ftGoals, odds = tf.split(y, [2, -1], axis=-1) # (batch, 2), (batch, sum[qGropu.nQueries for qGroup in self.qGroups])\n",
    "      odds_by_qGroup = tf.split(odds, [qQroup.nQueries for qQroup in self.qGroups], axis=-1)  # [ shape: (batch, qGroup.nQueries) for qGroup in self.qGroups ]\n",
    "      oh_1_loss = [qGroup.oh_1_loss(oh_1_p, ftGoals, odds) for (qGroup, odds, (oh_1_p, _)) in zip(self.qGroups, odds_by_qGroup, outputs)] # [(batch,)] * nQGroups\n",
    "      oh_1_loss = tf.stack(oh_1_loss, axis=-1)  # sure (batch, nQGroups)\n",
    "      oh_1_loss = tf.math.reduce_mean(oh_1_loss, axis=None)  # ()\n",
    "\n",
    "      profit_p = [tf.math.reduce_sum(tf.multiply(oh_1_p, stake_p), axis=-1, keepdims=True) for (oh_1_p, stake_p) in outputs]   # [ shape: (batch, 1) for _ self.qGroups ]\n",
    "      profit_p = tf.concat(profit_p, axis=-1) # (batch, nQGroups). A funciton of profit_p.\n",
    "      # print('profits_games -1', profit_p)\n",
    "\n",
    "      #======================================================================================================\n",
    "      #   This block simulates the betting action of selecting QGROUP where profit_p is high..\n",
    "      #   Note argmax-based selecting has no gradient.\n",
    "      #======================================================================================================\n",
    "      least_profit = tf.reduce_min(profit_p, axis=-1)\n",
    "      delta = tf.reduce_max(profit_p, axis=-1) - least_profit\n",
    "      normal_profit = tf.transpose(tf.transpose(profit_p) - least_profit)\n",
    "      normal_profit = tf.transpose(tf.transpose(normal_profit)/(delta + 1e-9)) # no tf.keras.backend.epsilon\n",
    "      is_zero = ((1.0 - tf.reduce_max(normal_profit, axis=1)))\n",
    "      normal_profit = tf.transpose(tf.transpose(normal_profit) + is_zero) # (batch, nQGroups). A function of profit_p     \n",
    "      normal_profit = normal_profit * qGroup_selectivity + 1.0  #  (batch, nQGrous). self.shift #------- normal + shift\n",
    "\n",
    "      #-------------------------------------------------------------------------------------------------------------- Disaster. Wierd.\n",
    "      #=====================================================================================================\n",
    "      #   This block complements the above simulation by suppressing games where profit_p is lower.\n",
    "      #=====================================================================================================\n",
    "      # This block make Tensorflow work wierdly, generating nan values from embedding layers, \n",
    "      # consequently causing all subsequent values along tensorflow graph to be nan values.\n",
    "      profits_games = tf.reduce_sum(profit_p, axis=-1)  # (batch,)\n",
    "      min = tf.reduce_min(profits_games); max = tf.reduce_max(profits_games)\n",
    "      profits_games = (profits_games - min) / (max-min + 1e-12) # (batch,)\n",
    "      profits_games = tf.math.sigmoid( 10.0 * tf.math.pow(profits_games, game_selectivity) - 5.0 ) # (batch,)  ---------------SIGMOID  would-be great\n",
    "      normal_profit = tf.multiply( normal_profit, profits_games[:, tf.newaxis] )\n",
    "\n",
    "      profit_back = self.profit_back_over_qGroups(y, outputs) # (batch, nQGroups) # A function of stake_p and truth.\n",
    "\n",
    "      mul = tf.multiply(normal_profit, profit_back)   # (batch, nQGroups)\n",
    "      scalar = tf.reduce_sum(mul, axis=-1)            # (batch,)\n",
    "      mean_profit_per_game = tf.math.reduce_mean(scalar)  # (). A funciotn of profit_p (batch, 1) and stake_p (batch, nQueries)\n",
    "      \n",
    "      return  (- mean_profit_per_game + oh_1_loss)"
   ]
  },
  {
   "cell_type": "raw",
   "metadata": {
    "vscode": {
     "languageId": "raw"
    }
   },
   "source": [
    "-   'UK.B.A.12'\n",
    "    The number of layers in transformer adapters are incresed from 5 to 7 \n",
    "    self.bookieBase = Adaptor(7, self.nQueries) # 7777777777777777777777777 ------------------------------------------------------ OK. Worked.\n",
    "    self.oh_1 = Adaptor(5, self.nQueries)       # 5555555555555555555555555\n",
    "\n",
    "  def action_loss(self, y, outputs, norm_pp_multiplier):\n",
    "      # y: (batch, len(Team_cols)+len(Odds_cols)) \n",
    "      # outputs: # [ ( oh_1_p: (batch, nQueries), stake_p: (batch, nQueries) ) for _ in self.qGroups ]\n",
    "      ftGoals, odds = tf.split(y, [2, -1], axis=-1) # (batch, 2), (batch, sum[qGropu.nQueries for qGroup in self.qGroups])\n",
    "      odds_by_qGroup = tf.split(odds, [qQroup.nQueries for qQroup in self.qGroups], axis=-1)  # [ shape: (batch, qGroup.nQueries) for qGroup in self.qGroups ]\n",
    "      oh_1_loss = [qGroup.oh_1_loss(oh_1_p, ftGoals, odds) for (qGroup, odds, (oh_1_p, _)) in zip(self.qGroups, odds_by_qGroup, outputs)] # [(batch,)] * nQGroups\n",
    "      oh_1_loss = tf.stack(oh_1_loss, axis=-1)  # sure (batch, nQGroups)\n",
    "      oh_1_loss = tf.math.reduce_mean(oh_1_loss, axis=None)  # ()\n",
    "      \n",
    "      profit_p = [tf.math.reduce_sum(tf.multiply(oh_1_p, stake_p), axis=-1, keepdims=True) for (oh_1_p, stake_p) in outputs]   # [ shape: (batch, 1) for _ self.qGroups ]\n",
    "      profit_p = tf.concat(profit_p, axis=-1) # (batch, nQGroups). A funciton of profit_p.\n",
    "\n",
    "      #------------------------------------------------------------------------------------------------------------------ reverted to 'UK.B.A.11'\n",
    "      #======================================================================================================\n",
    "      #   This block simulates the betting action of selecting QGROUP where profit_p is high..\n",
    "      #   Note argmax-based selecting has no gradient.\n",
    "      #======================================================================================================\n",
    "      least_profit = tf.reduce_min(profit_p, axis=-1)\n",
    "      delta = tf.reduce_max(profit_p, axis=-1) - least_profit\n",
    "      normal_profit = tf.transpose(tf.transpose(profit_p) - least_profit)\n",
    "      normal_profit = tf.transpose(tf.transpose(normal_profit)/(delta + 1e-9)) # no tf.keras.backend.epsilon\n",
    "      is_zero = ((1.0 - tf.reduce_max(normal_profit, axis=1)))\n",
    "      normal_profit = tf.transpose(tf.transpose(normal_profit) + is_zero) # (batch, nQGroups). A function of profit_p     \n",
    "      normal_profit = normal_profit * norm_pp_multiplier + 1.0  #\n",
    "      \n",
    "      profit_back = self.profit_back_over_qGroups(y, outputs) # (batch, nQGroups) # A function of stake_p and truth.\n",
    "\n",
    "      mul = tf.multiply(normal_profit, profit_back)   # (batch, nQGroups)\n",
    "      scalar = tf.reduce_sum(mul, axis=-1)            # (batch,)\n",
    "      mean_profit_per_game = tf.math.reduce_mean(scalar)  # (). A funciotn of profit_p (batch, 1) and stake_p (batch, nQueries)\n",
    "      \n",
    "      return  (- mean_profit_per_game + oh_1_loss)"
   ]
  },
  {
   "cell_type": "raw",
   "metadata": {
    "vscode": {
     "languageId": "raw"
    }
   },
   "source": [
    "-   'UK.B.A.13' \n",
    "\n",
    "  self.bookieBase = Adaptor(7, self.nQueries) # 7777777777777777777777777\n",
    "  self.oh_1 = Adaptor(5, self.nQueries)       # 5555555555555555555555555\n",
    "\n",
    "  def action_loss(self, y, outputs, selectivity):\n",
    "      # y: (batch, len(Team_cols)+len(Odds_cols)) \n",
    "      # outputs: # [ ( oh_1_p: (batch, nQueries), stake_p: (batch, nQueries) ) for _ in self.qGroups ]\n",
    "      ftGoals, odds = tf.split(y, [2, -1], axis=-1) # (batch, 2), (batch, sum[qGropu.nQueries for qGroup in self.qGroups])\n",
    "      odds_by_qGroup = tf.split(odds, [qQroup.nQueries for qQroup in self.qGroups], axis=-1)  # [ shape: (batch, qGroup.nQueries) for qGroup in self.qGroups ]\n",
    "      oh_1_loss = [qGroup.oh_1_loss(oh_1_p, ftGoals, odds) for (qGroup, odds, (oh_1_p, _)) in zip(self.qGroups, odds_by_qGroup, outputs)] # [(batch,)] * nQGroups\n",
    "      oh_1_loss = tf.stack(oh_1_loss, axis=-1)  # sure (batch, nQGroups)\n",
    "      oh_1_loss = tf.math.reduce_mean(oh_1_loss, axis=None)  # ()\n",
    "      \n",
    "      profit_p = [tf.math.reduce_sum(tf.multiply(oh_1_p, stake_p), axis=-1, keepdims=True) for (oh_1_p, stake_p) in outputs]   # [ shape: (batch, 1) for _ self.qGroups ]\n",
    "      profit_p = tf.concat(profit_p, axis=-1) # (batch, nQGroups)\n",
    "      \n",
    "      #======================================================================================================\n",
    "      #   This block simulates the betting action of selecting games and qGroups where profit_p is high..\n",
    "      #   Note argmax-based selecting has no gradient.\n",
    "      #======================================================================================================\n",
    "      # This block make Tensorflow work wierdly, generating nan values from embedding layers, \n",
    "      # consequently causing all subsequent values along tensorflow graph to be nan values.\n",
    "      min = tf.reduce_min(profit_p); max = tf.reduce_max(profit_p)\n",
    "      normal_profit = (profit_p - min) / (max-min + 1e-12) # (batch,)   [0, 1]\n",
    "      normal_profit = tf.math.sigmoid( 10.0 * tf.math.pow(normal_profit, selectivity) - 5.0 ) # (batch,)  #------------------- No. SIGMOID is wierd\n",
    "      normal_profit = normal_profit + 0.5\n",
    "\n",
    "      profit_back = self.profit_back_over_qGroups(y, outputs) # (batch, nQGroups) # A function of stake_p and truth.\n",
    "\n",
    "      mul = tf.multiply(normal_profit, profit_back)   # (batch, nQGroups)\n",
    "      scalar = tf.reduce_sum(mul, axis=-1)            # (batch,)\n",
    "      mean_profit_per_game = tf.math.reduce_mean(scalar)  # (). A funciotn of profit_p (batch, 1) and stake_p (batch, nQueries)\n",
    "      \n",
    "      return  (- mean_profit_per_game + oh_1_loss)"
   ]
  },
  {
   "cell_type": "raw",
   "metadata": {
    "vscode": {
     "languageId": "raw"
    }
   },
   "source": [
    "-   'UK.B.A.13-1'\n",
    "\n",
    "    self.bookieBase = Adaptor(7, self.nQueries) # 7777777777777777777777777\n",
    "    self.oh_1 = Adaptor(5, self.nQueries)       # 5555555555555555555555555\n",
    "\n",
    "  def action_loss(self, y, outputs, selectivity):\n",
    "      # y: (batch, len(Team_cols)+len(Odds_cols)) \n",
    "      # outputs: # [ ( oh_1_p: (batch, nQueries), stake_p: (batch, nQueries) ) for _ in self.qGroups ]\n",
    "      ftGoals, odds = tf.split(y, [2, -1], axis=-1) # (batch, 2), (batch, sum[qGropu.nQueries for qGroup in self.qGroups])\n",
    "      odds_by_qGroup = tf.split(odds, [qQroup.nQueries for qQroup in self.qGroups], axis=-1)  # [ shape: (batch, qGroup.nQueries) for qGroup in self.qGroups ]\n",
    "      oh_1_loss = [qGroup.oh_1_loss(oh_1_p, ftGoals, odds) for (qGroup, odds, (oh_1_p, _)) in zip(self.qGroups, odds_by_qGroup, outputs)] # [(batch,)] * nQGroups\n",
    "      oh_1_loss = tf.stack(oh_1_loss, axis=-1)  # sure (batch, nQGroups)\n",
    "      oh_1_loss = tf.math.reduce_mean(oh_1_loss, axis=None)  # ()\n",
    "      \n",
    "      profit_p = [tf.math.reduce_sum(tf.multiply(oh_1_p, stake_p), axis=-1, keepdims=True) for (oh_1_p, stake_p) in outputs]   # [ shape: (batch, 1) for _ self.qGroups ]\n",
    "      profit_p = tf.concat(profit_p, axis=-1) # (batch, nQGroups)\n",
    "      \n",
    "      #====================================================================================================== ---------------- going to be great\n",
    "      #   This block simulates the betting action of selecting games and qGroups where profit_p is high..\n",
    "      #   Note argmax-based selecting has no gradient.\n",
    "      #======================================================================================================\n",
    "      # I gave up the sigmoid luxurity and use linearity, instead.\n",
    "      profit_read = tf.identity(profit_p) #----------------------------------------------------------------------------------- going to be great\n",
    "      min = tf.reduce_min(profit_read); max = tf.reduce_max(profit_read)\n",
    "      normal_profit = (profit_read - min) / (max-min + 1e-12) * selectivity # (batch,)   [0, 1]\n",
    "      normal_profit = normal_profit + 1.0\n",
    "\n",
    "      profit_back = self.profit_back_over_qGroups(y, outputs) # (batch, nQGroups) # A function of stake_p and truth.\n",
    "\n",
    "      mul = tf.multiply(normal_profit, profit_back)   # (batch, nQGroups)\n",
    "      scalar = tf.reduce_sum(mul, axis=-1)            # (batch,)\n",
    "      mean_profit_per_game = tf.math.reduce_mean(scalar)  # (). A funciotn of profit_p (batch, 1) and stake_p (batch, nQueries)\n",
    "      \n",
    "      return  (- mean_profit_per_game + oh_1_loss)"
   ]
  },
  {
   "cell_type": "raw",
   "metadata": {
    "vscode": {
     "languageId": "raw"
    }
   },
   "source": [
    "-   'UK.B.A.14', from 'UK.B.A.13-1'\n",
    "\n",
    "      x = self.encoder(inputs)  # (batch, max_tokens, d_model)\n",
    "      x = tf.zeros_like(x)  #------------------------------------------------------- inserted, for this test, to neutralize encoder.\n",
    "      x = self.decoder(inputs, x)  # (batch, 1, d_model)"
   ]
  },
  {
   "cell_type": "raw",
   "metadata": {
    "vscode": {
     "languageId": "raw"
    }
   },
   "source": [
    "-   'UK.B.A.15', from 'UK.B.A.13-1'\n",
    "  \n",
    "  def action_loss(self, y, outputs, selectivity):\n",
    "      # y: (batch, len(Team_cols)+len(Odds_cols)) \n",
    "      # outputs: # [ ( oh_1_p: (batch, nQueries), stake_p: (batch, nQueries) ) for _ in self.qGroups ]\n",
    "      ftGoals, odds = tf.split(y, [2, -1], axis=-1) # (batch, 2), (batch, sum[qGropu.nQueries for qGroup in self.qGroups])\n",
    "      odds_by_qGroup = tf.split(odds, [qQroup.nQueries for qQroup in self.qGroups], axis=-1)  # [ shape: (batch, qGroup.nQueries) for qGroup in self.qGroups ]\n",
    "      oh_1_loss = [qGroup.oh_1_loss(oh_1_p, ftGoals, odds) for (qGroup, odds, (oh_1_p, _)) in zip(self.qGroups, odds_by_qGroup, outputs)] # [(batch,)] * nQGroups\n",
    "      oh_1_loss = tf.stack(oh_1_loss, axis=-1)  # sure (batch, nQGroups)\n",
    "      oh_1_loss = tf.math.reduce_mean(oh_1_loss, axis=None)  # ()\n",
    "      \n",
    "      profit_p = [tf.math.reduce_sum(tf.multiply(oh_1_p, stake_p), axis=-1, keepdims=True) for (oh_1_p, stake_p) in outputs]   # [ shape: (batch, 1) for _ self.qGroups ]\n",
    "      profit_p = tf.concat(profit_p, axis=-1) # (batch, nQGroups)\n",
    "      \n",
    "      #======================================================================================================\n",
    "      #   This block simulates the betting action of selecting games and qGroups where profit_p is high..\n",
    "      #   Note argmax-based selecting has no gradient.\n",
    "      #======================================================================================================\n",
    "      # profit_read = tf.identity(profit_p) #--------------------------------------------- Comment out\n",
    "      profit_read = profit_p  #----------------------------------------------------------- Insert a new line\n",
    "      min = tf.reduce_min(profit_read); max = tf.reduce_max(profit_read)\n",
    "      normal_profit = (profit_read - min) / (max-min + 1e-12) * selectivity # (batch,)   [0, 1]\n",
    "      normal_profit = normal_profit + 1.0\n",
    "\n",
    "      profit_back = self.profit_back_over_qGroups(y, outputs) # (batch, nQGroups) # A function of stake_p and truth.\n",
    "\n",
    "      mul = tf.multiply(normal_profit, profit_back)   # (batch, nQGroups)\n",
    "      scalar = tf.reduce_sum(mul, axis=-1)            # (batch,)\n",
    "      mean_profit_per_game = tf.math.reduce_mean(scalar)  # (). A funciotn of profit_p (batch, 1) and stake_p (batch, nQueries)\n",
    "      \n",
    "      return  (- mean_profit_per_game + oh_1_loss)"
   ]
  },
  {
   "cell_type": "raw",
   "metadata": {
    "vscode": {
     "languageId": "raw"
    }
   },
   "source": [
    "-   'UK.B.A.15-1', the same as 'UK.B.A.15'"
   ]
  },
  {
   "cell_type": "raw",
   "metadata": {
    "vscode": {
     "languageId": "raw"
    }
   },
   "source": [
    "-   'UK.B.A.16', from 'UK.B.A.13-1'\n",
    "\n",
    "    self.bookieBase = Adaptor(5, self.nQueries) # 5555555555555555555555555\n",
    "    self.oh_1 = Adaptor(5, self.nQueries)       # 5555555555555555555555555\n",
    "\n",
    "\n",
    "    profit_read = tf.identity(profit_p) #-------------------------------- back to identity as in 'UK.B.A.13-1'\n",
    "\n",
    "\n",
    "    It took several attempts to start a normal training by avoiding nBettings == 0."
   ]
  },
  {
   "cell_type": "raw",
   "metadata": {
    "vscode": {
     "languageId": "raw"
    }
   },
   "source": [
    "-   'UK.B.A.17', from 'UK.B.A.13-1'\n",
    "\n",
    "    self.bookieBase = Adaptor(7, self.nQueries) # 7777777777777777777777777\n",
    "    self.oh_1 = Adaptor(7, self.nQueries)       # 7777777777777777777777777"
   ]
  },
  {
   "cell_type": "raw",
   "metadata": {
    "vscode": {
     "languageId": "raw"
    }
   },
   "source": [
    "-   'UK.B.A.18', from 'UK.B.A.13-1', datasets rebuilt\n",
    "\n",
    "    self.bookieBase = Adaptor(7, self.nQueries) # 7777777777777777777777777\n",
    "    self.oh_1 = Adaptor(7, self.nQueries)       # 7777777777777777777777777"
   ]
  },
  {
   "cell_type": "raw",
   "metadata": {
    "vscode": {
     "languageId": "raw"
    }
   },
   "source": [
    "-   'UK.B.A.19', == 'UK.B.A.13-1'"
   ]
  },
  {
   "cell_type": "raw",
   "metadata": {
    "vscode": {
     "languageId": "raw"
    }
   },
   "source": [
    "-   'UK.B.A.20', == 'UK.B.A.13-1', except inserted is\n",
    "\n",
    "      odds_by_qGroup = reversed(odds_by_qGroup) #----------- trick to check if odds worked in 'UK.B.A.13-1'"
   ]
  },
  {
   "cell_type": "raw",
   "metadata": {
    "vscode": {
     "languageId": "raw"
    }
   },
   "source": [
    "-   'UK.B.A.20-1', == 'UK.B.A.13-1', except inserted is\n",
    "\n",
    "        tf.random.set_seed(523)\n",
    "        odds_by_qGroup = reversed(odds_by_qGroup) #----------- trick to check if odds worked in 'UK.B.A.13-1'"
   ]
  },
  {
   "cell_type": "raw",
   "metadata": {
    "vscode": {
     "languageId": "raw"
    }
   },
   "source": [
    "-   'UK.B.A.21', == 'UK.B.A.13-1', except inserted is\n",
    "\n",
    "    tf.random.set_seed(1009)\n",
    "    odds = tf.ones_like(odds, dtype=tf.float32) * 3.3 #---------------- trick to check if odds worked in 'UK.B.A.13-1'"
   ]
  },
  {
   "cell_type": "raw",
   "metadata": {
    "vscode": {
     "languageId": "raw"
    }
   },
   "source": [
    "-   'UK.B.A.30', == 'UK.B.A.13-1', except an error is corrected.\n",
    "\n",
    "    # outputs: # [ ( oh_1_p: (batch, nQueries), stake_p: (batch, nQueries) ) for _ in self.qGroups ]\n",
    "    profit_p = [p_p for (p_p, _) in outputs]  # [ (batch, nQueries) ] * nQGroups\n",
    "    \n",
    "    #---------------------------- This line is the correction of dimention error found in 'UK.B.A.13-1' and its variants.\n",
    "    profit_p = [tf.math.reduce_sum(p_p, axis=-1, keepdims=True) for p_p in profit_p] # [(batch, 1)] * nQGroups\n",
    "    \n",
    "    profit_p = tf.concat(profit_p, axis=-1)   # (batch, nQGroups))\n",
    "    best_idx = tf.where(profit_p > MIN_PROFIT_P_PER_GAME_PER_QGROUP)  # (nBettings, 2). nBettings unknown yet."
   ]
  },
  {
   "cell_type": "raw",
   "metadata": {
    "vscode": {
     "languageId": "raw"
    }
   },
   "source": [
    "-   'UK.B.A.31', == 'UK.B.A.30'"
   ]
  },
  {
   "cell_type": "raw",
   "metadata": {
    "vscode": {
     "languageId": "raw"
    }
   },
   "source": [
    "-   'UK.B.A.32', == 'UK.B.A.30', except \n",
    "    \n",
    "    TRANSFORMER_HEADS = 12, from 6.\n"
   ]
  },
  {
   "cell_type": "raw",
   "metadata": {
    "vscode": {
     "languageId": "raw"
    }
   },
   "source": [
    "-   'UK.B.A.32', == 'UK.B.A.30', except \n",
    "\n",
    "      #======================================================================================================\n",
    "      #   This block simulates the betting action of selecting games and qGroups where profit_p is high..\n",
    "      #   Note argmax-based selecting has no gradient.\n",
    "      #======================================================================================================\n",
    "      # profit_read = tf.identity(profit_p) # (batch, nQGroups)\n",
    "      # min = tf.reduce_min(profit_read); max = tf.reduce_max(profit_read)  # (), ()\n",
    "      # normal_profit = (profit_read - min) / (max-min + 1e-12) * selectivity # (batch, nQGroup)   [0, 1]\n",
    "      # normal_profit = normal_profit + 1.0   # (batch, nQGroup)\n",
    "      \n",
    "      profit_back = self.profit_back_over_qGroups(y, outputs) # (batch, nQGroups) # A function of stake_p and truth.\n",
    "      # No selection more. Give up action gradient.\n",
    "      mean_profit_per_bet = tf.math.reduce_mean(profit_back, axis=None)  #------------------ Inserted, all othres removed\n",
    "      \n",
    "      # mul = tf.multiply(normal_profit, profit_back)   # (batch, nQGroups)\n",
    "      # scalar = tf.reduce_sum(mul, axis=-1)            # (batch,)     \n",
    "      # mean_profit_per_game = tf.math.reduce_mean(scalar)  # (). A funciotn of profit_p (batch, 1) and stake_p (batch, nQueries)\n",
    "\n",
    "      return  (- mean_profit_per_bet + oh_1_loss)"
   ]
  },
  {
   "cell_type": "raw",
   "metadata": {
    "vscode": {
     "languageId": "raw"
    }
   },
   "source": [
    "-   'UK.B.A.33', == 'UK.B.A.30', except \n",
    "\n",
    "    BATCH_SIZE = 40, from 48\n",
    "    TRANSFORMER_HEADS = 12, from 6\n",
    "\n",
    "    profit_back = self.profit_back_over_qGroups(y, outputs) # (batch, nQGroups) # A function of stake_p and truth.\n",
    "    # No selection more. Give up action gradient.\n",
    "    mean_profit_per_bet = tf.math.reduce_mean(profit_back, axis=None)  #------------------ Inserted, all othres removed"
   ]
  },
  {
   "cell_type": "raw",
   "metadata": {
    "vscode": {
     "languageId": "raw"
    }
   },
   "source": [
    "-   'UK.B.A.34', == 'UK.B.A.30', except \n",
    "\n",
    "    BATCH_SIZE = 16, from 48\n",
    "    TRANSFORMER_HEADS = 32, from 6\n",
    "\n",
    "    profit_back = self.profit_back_over_qGroups(y, outputs) # (batch, nQGroups) # A function of stake_p and truth.\n",
    "    # No selection more. Give up action gradient.\n",
    "    mean_profit_per_bet = tf.math.reduce_mean(profit_back, axis=None)  #------------------ Inserted, all othres removed\n",
    "\n",
    "    For the 1st time, loss and val_loss are lowered to 0.58 and 0.57, from 1.7"
   ]
  },
  {
   "cell_type": "raw",
   "metadata": {
    "vscode": {
     "languageId": "raw"
    }
   },
   "source": [
    "-   'UK.B.A.35', == 'UK.B.A.30', except \n",
    "\n",
    "    BATCH_SIZE = 6, from 48\n",
    "    TRANSFORMER_HEADS = 60, from 6\n",
    "    ADAPTORS_LAYERS = 10\n",
    "\n",
    "    self.bookieBase = Adaptor(ADAPTORS_LAYERS, self.nQueries)\n",
    "    self.oh_1 = Adaptor(ADAPTORS_LAYERS, self.nQueries)\n",
    "\n",
    "    profit_back = self.profit_back_over_qGroups(y, outputs) # (batch, nQGroups) # A function of stake_p and truth.\n",
    "    # No selection more. Give up action gradient.\n",
    "    mean_profit_per_bet = tf.math.reduce_mean(profit_back, axis=None)  #------------------ Inserted, all othres removed\n",
    "\n",
    "    loss and val_loss are normalized.\n",
    "    For the 1st time, loss and val_loss hit 0.22 and 0.21, respectively"
   ]
  }
 ],
 "metadata": {
  "language_info": {
   "name": "python"
  }
 },
 "nbformat": 4,
 "nbformat_minor": 2
}
